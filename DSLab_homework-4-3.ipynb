{
 "cells": [
  {
   "cell_type": "markdown",
   "metadata": {},
   "source": [
    "# Homework 4 - More trains (Part III)\n",
    "\n",
    "__Hand-in:__\n",
    "\n",
    "- __Due: 12.05.2020 23:59:59 CET__\n",
    "- `git push` your final verion to your group's Renku repository before the due\n",
    "- check if `Dockerfile`, `environment.yml` and `requirements.txt` are properly written\n",
    "- add necessary comments and discussion to make your codes readable\n",
    "\n",
    "For this homework, you will be working with the real-time streams of the NS, the train company of the Netherlands. You can see an example webpage that uses the same streams to display the train information on a map: https://spoorkaart.mwnn.nl/ . \n",
    "\n",
    "To help you and avoid having too many connections to the NS streaming servers, we have setup a service that collects the streams and pushes them to our Kafka instance. The related topics are: \n",
    "\n",
    "`ndovloketnl-arrivals`: For each arrival of a train in a station, describe the previous and next station, time of arrival (planned and actual), track number,...\n",
    "\n",
    "`ndovloketnl-departures`: For each departure of a train from a station, describe the previous and next station, time of departure (planned and actual), track number,...\n",
    "\n",
    "`ndovloketnl-gps`: For each train, describe the current location, speed, bearing.\n",
    "\n",
    "The events are serialized in JSON (actually converted from XML), with properties in their original language. Google translate could help you understand all of them, but we will provide you with some useful mappings."
   ]
  },
  {
   "cell_type": "markdown",
   "metadata": {},
   "source": [
    "---\n",
    "## Set up environment\n",
    "\n",
    "Run the following cells below before running the other cells of this notebook. Run them whenever you need to recreate a Spark context. Pay particular attention to your `username` settings, and make sure that it is properly set to your user name, both locally and on the remote Spark Driver.\n",
    "\n",
    "Configure your spark settings:\n",
    "1. name your spark application as `\"YOUR_GASPAR_homework_4\"`.\n",
    "2. make the required kafka jars available on the remote Spark driver.\n",
    "\n",
    "<div class=\"alert alert-block alert-warning\"><b>Any application without a proper name would be promptly killed.</b></div>"
   ]
  },
  {
   "cell_type": "code",
   "execution_count": 1,
   "metadata": {},
   "outputs": [
    {
     "data": {
      "text/html": [
       "Current session configs: <tt>{'conf': {'spark.app.name': 'chahed_homework_4', 'spark.jars.packages': 'org.apache.spark:spark-streaming-kafka-0-8_2.11:2.3.1,org.apache.kafka:kafka_2.11:1.0.1'}, 'kind': 'pyspark'}</tt><br>"
      ],
      "text/plain": [
       "<IPython.core.display.HTML object>"
      ]
     },
     "metadata": {},
     "output_type": "display_data"
    },
    {
     "data": {
      "text/html": [
       "<table>\n",
       "<tr><th>ID</th><th>YARN Application ID</th><th>Kind</th><th>State</th><th>Spark UI</th><th>Driver log</th><th>Current session?</th></tr><tr><td>5575</td><td>application_1589299642358_0063</td><td>pyspark</td><td>idle</td><td><a target=\"_blank\" href=\"http://iccluster044.iccluster.epfl.ch:8088/proxy/application_1589299642358_0063/\">Link</a></td><td><a target=\"_blank\" href=\"http://iccluster066.iccluster.epfl.ch:8042/node/containerlogs/container_e06_1589299642358_0063_01_000001/ebouille\">Link</a></td><td></td></tr><tr><td>5578</td><td>application_1589299642358_0066</td><td>pyspark</td><td>idle</td><td><a target=\"_blank\" href=\"http://iccluster044.iccluster.epfl.ch:8088/proxy/application_1589299642358_0066/\">Link</a></td><td><a target=\"_blank\" href=\"http://iccluster066.iccluster.epfl.ch:8042/node/containerlogs/container_e06_1589299642358_0066_01_000001/ebouille\">Link</a></td><td></td></tr><tr><td>5583</td><td>application_1589299642358_0071</td><td>pyspark</td><td>idle</td><td><a target=\"_blank\" href=\"http://iccluster044.iccluster.epfl.ch:8088/proxy/application_1589299642358_0071/\">Link</a></td><td><a target=\"_blank\" href=\"http://iccluster071.iccluster.epfl.ch:8042/node/containerlogs/container_e06_1589299642358_0071_01_000001/ebouille\">Link</a></td><td></td></tr><tr><td>5586</td><td>application_1589299642358_0074</td><td>pyspark</td><td>idle</td><td><a target=\"_blank\" href=\"http://iccluster044.iccluster.epfl.ch:8088/proxy/application_1589299642358_0074/\">Link</a></td><td><a target=\"_blank\" href=\"http://iccluster069.iccluster.epfl.ch:8042/node/containerlogs/container_e06_1589299642358_0074_01_000001/ebouille\">Link</a></td><td></td></tr></table>"
      ],
      "text/plain": [
       "<IPython.core.display.HTML object>"
      ]
     },
     "metadata": {},
     "output_type": "display_data"
    }
   ],
   "source": [
    "%%configure -f\n",
    "{\"conf\": {\n",
    "    \"spark.app.name\": \"chahed_homework_4\",\n",
    "    \"spark.jars.packages\": \"org.apache.spark:spark-streaming-kafka-0-8_2.11:2.3.1,org.apache.kafka:kafka_2.11:1.0.1\"\n",
    "}}"
   ]
  },
  {
   "cell_type": "markdown",
   "metadata": {},
   "source": [
    "Create a new session unless one was already created above (check for `✔` in current session)"
   ]
  },
  {
   "cell_type": "code",
   "execution_count": 2,
   "metadata": {},
   "outputs": [
    {
     "name": "stdout",
     "output_type": "stream",
     "text": [
      "Starting Spark application\n"
     ]
    },
    {
     "data": {
      "text/html": [
       "<table>\n",
       "<tr><th>ID</th><th>YARN Application ID</th><th>Kind</th><th>State</th><th>Spark UI</th><th>Driver log</th><th>Current session?</th></tr><tr><td>5589</td><td>application_1589299642358_0077</td><td>pyspark</td><td>idle</td><td><a target=\"_blank\" href=\"http://iccluster044.iccluster.epfl.ch:8088/proxy/application_1589299642358_0077/\">Link</a></td><td><a target=\"_blank\" href=\"http://iccluster066.iccluster.epfl.ch:8042/node/containerlogs/container_e06_1589299642358_0077_01_000001/ebouille\">Link</a></td><td>✔</td></tr></table>"
      ],
      "text/plain": [
       "<IPython.core.display.HTML object>"
      ]
     },
     "metadata": {},
     "output_type": "display_data"
    },
    {
     "data": {
      "application/vnd.jupyter.widget-view+json": {
       "model_id": "",
       "version_major": 2,
       "version_minor": 0
      },
      "text/plain": [
       "FloatProgress(value=0.0, bar_style='info', description='Progress:', layout=Layout(height='25px', width='50%'),…"
      ]
     },
     "metadata": {},
     "output_type": "display_data"
    },
    {
     "name": "stdout",
     "output_type": "stream",
     "text": [
      "SparkSession available as 'spark'.\n"
     ]
    },
    {
     "data": {
      "application/vnd.jupyter.widget-view+json": {
       "model_id": "",
       "version_major": 2,
       "version_minor": 0
      },
      "text/plain": [
       "FloatProgress(value=0.0, bar_style='info', description='Progress:', layout=Layout(height='25px', width='50%'),…"
      ]
     },
     "metadata": {},
     "output_type": "display_data"
    }
   ],
   "source": [
    "# Initialize spark application"
   ]
  },
  {
   "cell_type": "markdown",
   "metadata": {},
   "source": [
    "Set `username` to your GASPAR both locally and on the Spark driver."
   ]
  },
  {
   "cell_type": "code",
   "execution_count": 3,
   "metadata": {},
   "outputs": [],
   "source": [
    "%%local\n",
    "import os\n",
    "username = os.environ['JUPYTERHUB_USER']"
   ]
  },
  {
   "cell_type": "code",
   "execution_count": 4,
   "metadata": {},
   "outputs": [
    {
     "data": {
      "application/vnd.jupyter.widget-view+json": {
       "model_id": "",
       "version_major": 2,
       "version_minor": 0
      },
      "text/plain": [
       "FloatProgress(value=0.0, bar_style='info', description='Progress:', layout=Layout(height='25px', width='50%'),…"
      ]
     },
     "metadata": {},
     "output_type": "display_data"
    },
    {
     "name": "stdout",
     "output_type": "stream",
     "text": [
      "Successfully passed 'username' as 'username' to Spark kernel"
     ]
    }
   ],
   "source": [
    "%%send_to_spark -i username -t str -n username"
   ]
  },
  {
   "cell_type": "markdown",
   "metadata": {},
   "source": [
    "---"
   ]
  },
  {
   "cell_type": "markdown",
   "metadata": {},
   "source": [
    "## Create a Kafka client"
   ]
  },
  {
   "cell_type": "code",
   "execution_count": 5,
   "metadata": {
    "scrolled": true
   },
   "outputs": [
    {
     "data": {
      "application/vnd.jupyter.widget-view+json": {
       "model_id": "",
       "version_major": 2,
       "version_minor": 0
      },
      "text/plain": [
       "FloatProgress(value=0.0, bar_style='info', description='Progress:', layout=Layout(height='25px', width='50%'),…"
      ]
     },
     "metadata": {},
     "output_type": "display_data"
    }
   ],
   "source": [
    "from pykafka import KafkaClient\n",
    "from pykafka.common import OffsetType\n",
    "\n",
    "ZOOKEEPER_QUORUM = 'iccluster044.iccluster.epfl.ch:2181,'\\\n",
    "                   'iccluster054.iccluster.epfl.ch:2181,'\\\n",
    "                   'iccluster059.iccluster.epfl.ch:2181'\n",
    "\n",
    "client = KafkaClient(zookeeper_hosts=ZOOKEEPER_QUORUM)"
   ]
  },
  {
   "cell_type": "markdown",
   "metadata": {},
   "source": [
    "## Streams from Kafka"
   ]
  },
  {
   "cell_type": "code",
   "execution_count": 6,
   "metadata": {
    "scrolled": true
   },
   "outputs": [
    {
     "data": {
      "application/vnd.jupyter.widget-view+json": {
       "model_id": "",
       "version_major": 2,
       "version_minor": 0
      },
      "text/plain": [
       "FloatProgress(value=0.0, bar_style='info', description='Progress:', layout=Layout(height='25px', width='50%'),…"
      ]
     },
     "metadata": {},
     "output_type": "display_data"
    },
    {
     "name": "stdout",
     "output_type": "stream",
     "text": [
      "checkpoint created at hdfs:///user/chahed/checkpoint/"
     ]
    }
   ],
   "source": [
    "# Define the checkpoint folder\n",
    "checkpoint = 'hdfs:///user/{}/checkpoint/'.format(username)\n",
    "print('checkpoint created at hdfs:///user/{}/checkpoint/'.format(username))"
   ]
  },
  {
   "cell_type": "code",
   "execution_count": 7,
   "metadata": {
    "scrolled": true
   },
   "outputs": [
    {
     "data": {
      "application/vnd.jupyter.widget-view+json": {
       "model_id": "",
       "version_major": 2,
       "version_minor": 0
      },
      "text/plain": [
       "FloatProgress(value=0.0, bar_style='info', description='Progress:', layout=Layout(height='25px', width='50%'),…"
      ]
     },
     "metadata": {},
     "output_type": "display_data"
    }
   ],
   "source": [
    "from pyspark.streaming import StreamingContext\n",
    "from pyspark.streaming.kafka import KafkaUtils\n",
    "\n",
    "# Create a StreamingContext with two working thread and batch interval of 10 seconds.\n",
    "# Each time you stop a StreamingContext, you will need to recreate it.\n",
    "ssc = StreamingContext(sc, 10)\n",
    "ssc.checkpoint(checkpoint)\n",
    "\n",
    "group_id = 'ns-{0}'.format(username)\n",
    "\n",
    "## Input streams\n",
    "arrival_stream = KafkaUtils.createStream(ssc, ZOOKEEPER_QUORUM, group_id, { 'ndovloketnl-arrivals': 1})\n",
    "departure_stream = KafkaUtils.createStream(ssc, ZOOKEEPER_QUORUM, group_id, { 'ndovloketnl-departures': 1})"
   ]
  },
  {
   "cell_type": "markdown",
   "metadata": {},
   "source": [
    "For now, let's just print the content of the streams. Note: the output may be shown after you run `ssc.stop`."
   ]
  },
  {
   "cell_type": "code",
   "execution_count": 8,
   "metadata": {
    "scrolled": true
   },
   "outputs": [
    {
     "data": {
      "application/vnd.jupyter.widget-view+json": {
       "model_id": "",
       "version_major": 2,
       "version_minor": 0
      },
      "text/plain": [
       "FloatProgress(value=0.0, bar_style='info', description='Progress:', layout=Layout(height='25px', width='50%'),…"
      ]
     },
     "metadata": {},
     "output_type": "display_data"
    }
   ],
   "source": [
    "arrival_stream.pprint()\n",
    "departure_stream.pprint()\n",
    "\n",
    "ssc.start()\n",
    "ssc.awaitTermination(timeout=10)"
   ]
  },
  {
   "cell_type": "code",
   "execution_count": 9,
   "metadata": {
    "scrolled": true
   },
   "outputs": [
    {
     "data": {
      "application/vnd.jupyter.widget-view+json": {
       "model_id": "",
       "version_major": 2,
       "version_minor": 0
      },
      "text/plain": [
       "FloatProgress(value=0.0, bar_style='info', description='Progress:', layout=Layout(height='25px', width='50%'),…"
      ]
     },
     "metadata": {},
     "output_type": "display_data"
    },
    {
     "name": "stdout",
     "output_type": "stream",
     "text": [
      "-------------------------------------------\n",
      "Time: 2020-05-13 10:16:40\n",
      "-------------------------------------------\n",
      "(None, u'{\"ns1:PutReisInformatieBoodschapIn\": {\"@xmlns:ns1\": \"urn:ndov:cdm:trein:reisinformatie:messages:dynamischeaankomststaat:1\", \"@xmlns:ns2\": \"urn:ndov:cdm:trein:reisinformatie:data:4\", \"ns2:ReisInformatieProductDAS\": {\"@TimeStamp\": \"2020-05-13T08:05:46.139Z\", \"@Versie\": \"6.1\", \"ns2:RIPAdministratie\": {\"ns2:ReisInformatieProductID\": \"2005131005462100002\", \"ns2:AbonnementId\": \"55\", \"ns2:ReisInformatieTijdstip\": \"2020-05-13T08:07:00.000Z\"}, \"ns2:DynamischeAankomstStaat\": {\"ns2:RitId\": \"6629\", \"ns2:RitDatum\": \"2020-05-13\", \"ns2:RitStation\": {\"ns2:StationCode\": \"BD\", \"ns2:Type\": \"5\", \"ns2:KorteNaam\": \"Breda\", \"ns2:MiddelNaam\": \"Breda\", \"ns2:LangeNaam\": \"Breda\", \"ns2:UICCode\": \"8400131\"}, \"ns2:TreinAankomst\": {\"ns2:TreinNummer\": \"6629\", \"ns2:TreinSoort\": {\"@Code\": \"SPR\", \"#text\": \"Sprinter\"}, \"ns2:TreinStatus\": \"2\", \"ns2:Vervoerder\": \"NS\", \"ns2:TreinHerkomst\": [{\"@InfoStatus\": \"Gepland\", \"ns2:StationCode\": \"AH\", \"ns2:Type\": \"5\", \"ns2:KorteNaam\": \"Arnhem C\", \"ns2:MiddelNaam\": \"Arnhem C.\", \"ns2:LangeNaam\": \"Arnhem Centraal\", \"ns2:UICCode\": \"8400071\"}, {\"@InfoStatus\": \"Actueel\", \"ns2:StationCode\": \"AH\", \"ns2:Type\": \"5\", \"ns2:KorteNaam\": \"Arnhem C\", \"ns2:MiddelNaam\": \"Arnhem C.\", \"ns2:LangeNaam\": \"Arnhem Centraal\", \"ns2:UICCode\": \"8400071\"}], \"ns2:PresentatieTreinHerkomst\": {\"ns2:Uitingen\": {\"ns2:Uiting\": \"Arnhem C.\"}}, \"ns2:AankomstTijd\": [{\"@InfoStatus\": \"Gepland\", \"#text\": \"2020-05-13T08:07:00.000Z\"}, {\"@InfoStatus\": \"Actueel\", \"#text\": \"2020-05-13T08:07:00.000Z\"}], \"ns2:ExacteAankomstVertraging\": \"PT0S\", \"ns2:GedempteAankomstVertraging\": \"PT0S\", \"ns2:TreinAankomstSpoor\": [{\"@InfoStatus\": \"Gepland\", \"ns2:SpoorNummer\": \"7\"}, {\"@InfoStatus\": \"Actueel\", \"ns2:SpoorNummer\": \"7\"}], \"ns2:PresentatieTreinAankomstSpoor\": {\"ns2:Uitingen\": {\"ns2:Uiting\": \"7\"}}, \"ns2:VerkorteRouteHerkomst\": [{\"@InfoStatus\": \"Gepland\", \"ns2:Station\": [{\"ns2:StationCode\": \"NM\", \"ns2:Type\": \"5\", \"ns2:KorteNaam\": \"Nijmegen\", \"ns2:MiddelNaam\": \"Nijmegen\", \"ns2:LangeNaam\": \"Nijmegen\", \"ns2:UICCode\": \"8400470\"}, {\"ns2:StationCode\": \"O\", \"ns2:Type\": \"5\", \"ns2:KorteNaam\": \"Oss\", \"ns2:MiddelNaam\": \"Oss\", \"ns2:LangeNaam\": \"Oss\", \"ns2:UICCode\": \"8400495\"}, {\"ns2:StationCode\": \"HT\", \"ns2:Type\": \"5\", \"ns2:KorteNaam\": \"Den Bosch\", \"ns2:MiddelNaam\": \"\\'s-Hertogenbosch\", \"ns2:LangeNaam\": \"\\'s-Hertogenbosch\", \"ns2:UICCode\": \"8400319\"}, {\"ns2:StationCode\": \"TB\", \"ns2:Type\": \"5\", \"ns2:KorteNaam\": \"Tilburg\", \"ns2:MiddelNaam\": \"Tilburg\", \"ns2:LangeNaam\": \"Tilburg\", \"ns2:UICCode\": \"8400597\"}]}, {\"@InfoStatus\": \"Actueel\", \"ns2:Station\": [{\"ns2:StationCode\": \"NM\", \"ns2:Type\": \"5\", \"ns2:KorteNaam\": \"Nijmegen\", \"ns2:MiddelNaam\": \"Nijmegen\", \"ns2:LangeNaam\": \"Nijmegen\", \"ns2:UICCode\": \"8400470\"}, {\"ns2:StationCode\": \"O\", \"ns2:Type\": \"5\", \"ns2:KorteNaam\": \"Oss\", \"ns2:MiddelNaam\": \"Oss\", \"ns2:LangeNaam\": \"Oss\", \"ns2:UICCode\": \"8400495\"}, {\"ns2:StationCode\": \"HT\", \"ns2:Type\": \"5\", \"ns2:KorteNaam\": \"Den Bosch\", \"ns2:MiddelNaam\": \"\\'s-Hertogenbosch\", \"ns2:LangeNaam\": \"\\'s-Hertogenbosch\", \"ns2:UICCode\": \"8400319\"}, {\"ns2:StationCode\": \"TB\", \"ns2:Type\": \"5\", \"ns2:KorteNaam\": \"Tilburg\", \"ns2:MiddelNaam\": \"Tilburg\", \"ns2:LangeNaam\": \"Tilburg\", \"ns2:UICCode\": \"8400597\"}]}], \"ns2:PresentatieVerkorteRouteHerkomst\": {\"ns2:Uitingen\": {\"ns2:Uiting\": \"Nijmegen, Oss, \\'s-Hertogenbosch, Tilburg\"}}, \"ns2:WijzigingHerkomst\": {\"ns2:WijzigingType\": \"40\"}}}}}}')\n",
      "(None, u'{\"ns1:PutReisInformatieBoodschapIn\": {\"@xmlns:ns1\": \"urn:ndov:cdm:trein:reisinformatie:messages:dynamischeaankomststaat:1\", \"@xmlns:ns2\": \"urn:ndov:cdm:trein:reisinformatie:data:4\", \"ns2:ReisInformatieProductDAS\": {\"@TimeStamp\": \"2020-05-13T08:05:47.689Z\", \"@Versie\": \"6.1\", \"ns2:RIPAdministratie\": {\"ns2:ReisInformatieProductID\": \"2005131005472500003\", \"ns2:AbonnementId\": \"55\", \"ns2:ReisInformatieTijdstip\": \"2020-05-13T08:10:00.000Z\"}, \"ns2:DynamischeAankomstStaat\": {\"ns2:RitId\": \"2226\", \"ns2:RitDatum\": \"2020-05-13\", \"ns2:RitStation\": {\"ns2:StationCode\": \"LEDN\", \"ns2:Type\": \"5\", \"ns2:KorteNaam\": \"Leiden C\", \"ns2:MiddelNaam\": \"Leiden C.\", \"ns2:LangeNaam\": \"Leiden Centraal\", \"ns2:UICCode\": \"8400390\"}, \"ns2:TreinAankomst\": {\"ns2:TreinNummer\": \"2226\", \"ns2:TreinSoort\": {\"@Code\": \"IC\", \"#text\": \"Intercity\"}, \"ns2:TreinStatus\": \"0\", \"ns2:Vervoerder\": \"NS\", \"ns2:TreinHerkomst\": [{\"@InfoStatus\": \"Gepland\", \"ns2:StationCode\": \"ASD\", \"ns2:Type\": \"6\", \"ns2:KorteNaam\": \"Amsterdm C\", \"ns2:MiddelNaam\": \"Amsterdam C.\", \"ns2:LangeNaam\": \"Amsterdam Centraal\", \"ns2:UICCode\": \"8400058\"}, {\"@InfoStatus\": \"Actueel\", \"ns2:StationCode\": \"ASD\", \"ns2:Type\": \"6\", \"ns2:KorteNaam\": \"Amsterdm C\", \"ns2:MiddelNaam\": \"Amsterdam C.\", \"ns2:LangeNaam\": \"Amsterdam Centraal\", \"ns2:UICCode\": \"8400058\"}], \"ns2:PresentatieTreinHerkomst\": {\"ns2:Uitingen\": {\"ns2:Uiting\": \"Amsterdam C.\"}}, \"ns2:AankomstTijd\": [{\"@InfoStatus\": \"Gepland\", \"#text\": \"2020-05-13T08:10:00.000Z\"}, {\"@InfoStatus\": \"Actueel\", \"#text\": \"2020-05-13T08:11:19.000Z\"}], \"ns2:ExacteAankomstVertraging\": \"PT1M19S\", \"ns2:PresentatieAankomstVertraging\": {\"ns2:Uitingen\": {\"ns2:Uiting\": \"+1 min.\"}}, \"ns2:GedempteAankomstVertraging\": \"PT0S\", \"ns2:TreinAankomstSpoor\": [{\"@InfoStatus\": \"Gepland\", \"ns2:SpoorNummer\": \"8\", \"ns2:SpoorFase\": \"b\"}, {\"@InfoStatus\": \"Actueel\", \"ns2:SpoorNummer\": \"8\", \"ns2:SpoorFase\": \"b\"}], \"ns2:PresentatieTreinAankomstSpoor\": {\"ns2:Uitingen\": {\"ns2:Uiting\": \"8b\"}}, \"ns2:VerkorteRouteHerkomst\": [{\"@InfoStatus\": \"Gepland\", \"ns2:Station\": [{\"ns2:StationCode\": \"ASS\", \"ns2:Type\": \"5\", \"ns2:KorteNaam\": \"Sloterdijk\", \"ns2:MiddelNaam\": \"Sloterdijk\", \"ns2:LangeNaam\": \"Amsterdam Sloterdijk\", \"ns2:UICCode\": \"8400059\"}, {\"ns2:StationCode\": \"HLM\", \"ns2:Type\": \"5\", \"ns2:KorteNaam\": \"Haarlem\", \"ns2:MiddelNaam\": \"Haarlem\", \"ns2:LangeNaam\": \"Haarlem\", \"ns2:UICCode\": \"8400285\"}, {\"ns2:StationCode\": \"HAD\", \"ns2:Type\": \"4\", \"ns2:KorteNaam\": \"Heemstede\", \"ns2:MiddelNaam\": \"Heemstede-A.\", \"ns2:LangeNaam\": \"Heemstede-Aerdenhout\", \"ns2:UICCode\": \"8400302\"}]}, {\"@InfoStatus\": \"Actueel\", \"ns2:Station\": [{\"ns2:StationCode\": \"ASS\", \"ns2:Type\": \"5\", \"ns2:KorteNaam\": \"Sloterdijk\", \"ns2:MiddelNaam\": \"Sloterdijk\", \"ns2:LangeNaam\": \"Amsterdam Sloterdijk\", \"ns2:UICCode\": \"8400059\"}, {\"ns2:StationCode\": \"HLM\", \"ns2:Type\": \"5\", \"ns2:KorteNaam\": \"Haarlem\", \"ns2:MiddelNaam\": \"Haarlem\", \"ns2:LangeNaam\": \"Haarlem\", \"ns2:UICCode\": \"8400285\"}, {\"ns2:StationCode\": \"HAD\", \"ns2:Type\": \"4\", \"ns2:KorteNaam\": \"Heemstede\", \"ns2:MiddelNaam\": \"Heemstede-A.\", \"ns2:LangeNaam\": \"Heemstede-Aerdenhout\", \"ns2:UICCode\": \"8400302\"}]}], \"ns2:PresentatieVerkorteRouteHerkomst\": {\"ns2:Uitingen\": {\"ns2:Uiting\": \"Sloterdijk, Haarlem, Heemstede-A.\"}}, \"ns2:WijzigingHerkomst\": {\"ns2:WijzigingType\": \"11\"}}}}}}')\n",
      "(None, u'{\"ns1:PutReisInformatieBoodschapIn\": {\"@xmlns:ns1\": \"urn:ndov:cdm:trein:reisinformatie:messages:dynamischeaankomststaat:1\", \"@xmlns:ns2\": \"urn:ndov:cdm:trein:reisinformatie:data:4\", \"ns2:ReisInformatieProductDAS\": {\"@TimeStamp\": \"2020-05-13T08:05:47.860Z\", \"@Versie\": \"6.1\", \"ns2:RIPAdministratie\": {\"ns2:ReisInformatieProductID\": \"2005131005472400006\", \"ns2:AbonnementId\": \"55\", \"ns2:ReisInformatieTijdstip\": \"2020-05-13T08:05:00.000Z\"}, \"ns2:DynamischeAankomstStaat\": {\"ns2:RitId\": \"5137\", \"ns2:RitDatum\": \"2020-05-13\", \"ns2:RitStation\": {\"ns2:StationCode\": \"RSW\", \"ns2:Type\": \"0\", \"ns2:KorteNaam\": \"Rijswijk\", \"ns2:MiddelNaam\": \"Rijswijk\", \"ns2:LangeNaam\": \"Rijswijk\", \"ns2:UICCode\": \"8400505\"}, \"ns2:TreinAankomst\": {\"ns2:TreinNummer\": \"5137\", \"ns2:TreinSoort\": {\"@Code\": \"SPR\", \"#text\": \"Sprinter\"}, \"ns2:TreinStatus\": \"5\", \"ns2:Vervoerder\": \"NS\", \"ns2:TreinHerkomst\": [{\"@InfoStatus\": \"Gepland\", \"ns2:StationCode\": \"GVC\", \"ns2:Type\": \"6\", \"ns2:KorteNaam\": \"Den Haag C\", \"ns2:MiddelNaam\": \"Den Haag C.\", \"ns2:LangeNaam\": \"Den Haag Centraal\", \"ns2:UICCode\": \"8400282\"}, {\"@InfoStatus\": \"Actueel\", \"ns2:StationCode\": \"GVC\", \"ns2:Type\": \"6\", \"ns2:KorteNaam\": \"Den Haag C\", \"ns2:MiddelNaam\": \"Den Haag C.\", \"ns2:LangeNaam\": \"Den Haag Centraal\", \"ns2:UICCode\": \"8400282\"}], \"ns2:PresentatieTreinHerkomst\": {\"ns2:Uitingen\": {\"ns2:Uiting\": \"Den Haag C.\"}}, \"ns2:AankomstTijd\": [{\"@InfoStatus\": \"Gepland\", \"#text\": \"2020-05-13T08:05:00.000Z\"}, {\"@InfoStatus\": \"Actueel\", \"#text\": \"2020-05-13T08:05:00.000Z\"}], \"ns2:ExacteAankomstVertraging\": \"PT0S\", \"ns2:GedempteAankomstVertraging\": \"PT0S\", \"ns2:TreinAankomstSpoor\": [{\"@InfoStatus\": \"Gepland\", \"ns2:SpoorNummer\": \"1\"}, {\"@InfoStatus\": \"Actueel\", \"ns2:SpoorNummer\": \"1\"}], \"ns2:PresentatieTreinAankomstSpoor\": {\"ns2:Uitingen\": {\"ns2:Uiting\": \"1\"}}, \"ns2:VerkorteRouteHerkomst\": [{\"@InfoStatus\": \"Gepland\", \"ns2:Station\": {\"ns2:StationCode\": \"GV\", \"ns2:Type\": \"5\", \"ns2:KorteNaam\": \"Dn Haag HS\", \"ns2:MiddelNaam\": \"Den Haag HS\", \"ns2:LangeNaam\": \"Den Haag HS\", \"ns2:UICCode\": \"8400280\"}}, {\"@InfoStatus\": \"Actueel\", \"ns2:Station\": {\"ns2:StationCode\": \"GV\", \"ns2:Type\": \"5\", \"ns2:KorteNaam\": \"Dn Haag HS\", \"ns2:MiddelNaam\": \"Den Haag HS\", \"ns2:LangeNaam\": \"Den Haag HS\", \"ns2:UICCode\": \"8400280\"}}], \"ns2:PresentatieVerkorteRouteHerkomst\": {\"ns2:Uitingen\": {\"ns2:Uiting\": \"Den Haag HS\"}}, \"ns2:WijzigingHerkomst\": {\"ns2:WijzigingType\": \"40\"}}}}}}')\n",
      "(None, u'{\"ns1:PutReisInformatieBoodschapIn\": {\"@xmlns:ns1\": \"urn:ndov:cdm:trein:reisinformatie:messages:dynamischeaankomststaat:1\", \"@xmlns:ns2\": \"urn:ndov:cdm:trein:reisinformatie:data:4\", \"ns2:ReisInformatieProductDAS\": {\"@TimeStamp\": \"2020-05-13T08:05:47.832Z\", \"@Versie\": \"6.1\", \"ns2:RIPAdministratie\": {\"ns2:ReisInformatieProductID\": \"2005131005472400003\", \"ns2:AbonnementId\": \"55\", \"ns2:ReisInformatieTijdstip\": \"2020-05-13T08:05:00.000Z\"}, \"ns2:DynamischeAankomstStaat\": {\"ns2:RitId\": \"8025\", \"ns2:RitDatum\": \"2020-05-13\", \"ns2:RitStation\": {\"ns2:StationCode\": \"OMN\", \"ns2:Type\": \"3\", \"ns2:KorteNaam\": \"Ommen\", \"ns2:MiddelNaam\": \"Ommen\", \"ns2:LangeNaam\": \"Ommen\", \"ns2:UICCode\": \"8400487\"}, \"ns2:TreinAankomst\": {\"ns2:TreinNummer\": \"8025\", \"ns2:TreinSoort\": {\"@Code\": \"ST\", \"#text\": \"Stoptrein\"}, \"ns2:TreinStatus\": \"2\", \"ns2:Vervoerder\": \"Blauwnet\", \"ns2:TreinHerkomst\": [{\"@InfoStatus\": \"Gepland\", \"ns2:StationCode\": \"ZL\", \"ns2:Type\": \"5\", \"ns2:KorteNaam\": \"Zwolle\", \"ns2:MiddelNaam\": \"Zwolle\", \"ns2:LangeNaam\": \"Zwolle\", \"ns2:UICCode\": \"8400747\"}, {\"@InfoStatus\": \"Actueel\", \"ns2:StationCode\": \"ZL\", \"ns2:Type\": \"5\", \"ns2:KorteNaam\": \"Zwolle\", \"ns2:MiddelNaam\": \"Zwolle\", \"ns2:LangeNaam\": \"Zwolle\", \"ns2:UICCode\": \"8400747\"}], \"ns2:PresentatieTreinHerkomst\": {\"ns2:Uitingen\": {\"ns2:Uiting\": \"Zwolle\"}}, \"ns2:AankomstTijd\": [{\"@InfoStatus\": \"Gepland\", \"#text\": \"2020-05-13T08:05:00.000Z\"}, {\"@InfoStatus\": \"Actueel\", \"#text\": \"2020-05-13T08:06:56.000Z\"}], \"ns2:ExacteAankomstVertraging\": \"PT1M56S\", \"ns2:PresentatieAankomstVertraging\": {\"ns2:Uitingen\": {\"ns2:Uiting\": \"+1 min.\"}}, \"ns2:GedempteAankomstVertraging\": \"PT0S\", \"ns2:TreinAankomstSpoor\": [{\"@InfoStatus\": \"Gepland\", \"ns2:SpoorNummer\": \"2\"}, {\"@InfoStatus\": \"Actueel\", \"ns2:SpoorNummer\": \"2\"}], \"ns2:PresentatieTreinAankomstSpoor\": {\"ns2:Uitingen\": {\"ns2:Uiting\": \"2\"}}, \"ns2:WijzigingHerkomst\": [{\"ns2:WijzigingType\": \"11\"}, {\"ns2:WijzigingType\": \"40\"}]}}}}}')\n",
      "(None, u'{\"ns1:PutReisInformatieBoodschapIn\": {\"@xmlns:ns1\": \"urn:ndov:cdm:trein:reisinformatie:messages:dynamischeaankomststaat:1\", \"@xmlns:ns2\": \"urn:ndov:cdm:trein:reisinformatie:data:4\", \"ns2:ReisInformatieProductDAS\": {\"@TimeStamp\": \"2020-05-13T08:05:47.870Z\", \"@Versie\": \"6.1\", \"ns2:RIPAdministratie\": {\"ns2:ReisInformatieProductID\": \"2005131005472500009\", \"ns2:AbonnementId\": \"55\", \"ns2:ReisInformatieTijdstip\": \"2020-05-13T08:05:00.000Z\"}, \"ns2:DynamischeAankomstStaat\": {\"ns2:RitId\": \"15831\", \"ns2:RitDatum\": \"2020-05-13\", \"ns2:RitStation\": {\"ns2:StationCode\": \"NDB\", \"ns2:Type\": \"1\", \"ns2:KorteNaam\": \"Naarden-Bu\", \"ns2:MiddelNaam\": \"Naarden-Bussum\", \"ns2:LangeNaam\": \"Naarden-Bussum\", \"ns2:UICCode\": \"8400452\"}, \"ns2:TreinAankomst\": {\"ns2:TreinNummer\": \"15831\", \"ns2:TreinSoort\": {\"@Code\": \"SPR\", \"#text\": \"Sprinter\"}, \"ns2:TreinStatus\": \"5\", \"ns2:Vervoerder\": \"NS\", \"ns2:TreinHerkomst\": [{\"@InfoStatus\": \"Gepland\", \"ns2:StationCode\": \"ASD\", \"ns2:Type\": \"6\", \"ns2:KorteNaam\": \"Amsterdm C\", \"ns2:MiddelNaam\": \"Amsterdam C.\", \"ns2:LangeNaam\": \"Amsterdam Centraal\", \"ns2:UICCode\": \"8400058\"}, {\"@InfoStatus\": \"Actueel\", \"ns2:StationCode\": \"ASD\", \"ns2:Type\": \"6\", \"ns2:KorteNaam\": \"Amsterdm C\", \"ns2:MiddelNaam\": \"Amsterdam C.\", \"ns2:LangeNaam\": \"Amsterdam Centraal\", \"ns2:UICCode\": \"8400058\"}], \"ns2:PresentatieTreinHerkomst\": {\"ns2:Uitingen\": {\"ns2:Uiting\": \"Amsterdam C.\"}}, \"ns2:AankomstTijd\": [{\"@InfoStatus\": \"Gepland\", \"#text\": \"2020-05-13T08:05:00.000Z\"}, {\"@InfoStatus\": \"Actueel\", \"#text\": \"2020-05-13T08:05:00.000Z\"}], \"ns2:ExacteAankomstVertraging\": \"PT0S\", \"ns2:GedempteAankomstVertraging\": \"PT0S\", \"ns2:TreinAankomstSpoor\": [{\"@InfoStatus\": \"Gepland\", \"ns2:SpoorNummer\": \"2\"}, {\"@InfoStatus\": \"Actueel\", \"ns2:SpoorNummer\": \"2\"}], \"ns2:PresentatieTreinAankomstSpoor\": {\"ns2:Uitingen\": {\"ns2:Uiting\": \"2\"}}, \"ns2:VerkorteRouteHerkomst\": [{\"@InfoStatus\": \"Gepland\", \"ns2:Station\": {\"ns2:StationCode\": \"WP\", \"ns2:Type\": \"1\", \"ns2:KorteNaam\": \"Weesp\", \"ns2:MiddelNaam\": \"Weesp\", \"ns2:LangeNaam\": \"Weesp\", \"ns2:UICCode\": \"8400685\"}}, {\"@InfoStatus\": \"Actueel\", \"ns2:Station\": {\"ns2:StationCode\": \"WP\", \"ns2:Type\": \"1\", \"ns2:KorteNaam\": \"Weesp\", \"ns2:MiddelNaam\": \"Weesp\", \"ns2:LangeNaam\": \"Weesp\", \"ns2:UICCode\": \"8400685\"}}], \"ns2:PresentatieVerkorteRouteHerkomst\": {\"ns2:Uitingen\": {\"ns2:Uiting\": \"Weesp\"}}, \"ns2:WijzigingHerkomst\": {\"ns2:WijzigingType\": \"40\"}}}}}}')\n",
      "(None, u'{\"ns1:PutReisInformatieBoodschapIn\": {\"@xmlns:ns1\": \"urn:ndov:cdm:trein:reisinformatie:messages:dynamischeaankomststaat:1\", \"@xmlns:ns2\": \"urn:ndov:cdm:trein:reisinformatie:data:4\", \"ns2:ReisInformatieProductDAS\": {\"@TimeStamp\": \"2020-05-13T08:05:47.928Z\", \"@Versie\": \"6.1\", \"ns2:RIPAdministratie\": {\"ns2:ReisInformatieProductID\": \"2005131005472400011\", \"ns2:AbonnementId\": \"55\", \"ns2:ReisInformatieTijdstip\": \"2020-05-13T08:07:00.000Z\"}, \"ns2:DynamischeAankomstStaat\": {\"ns2:RitId\": \"5229\", \"ns2:RitDatum\": \"2020-05-13\", \"ns2:RitStation\": {\"ns2:StationCode\": \"TB\", \"ns2:Type\": \"5\", \"ns2:KorteNaam\": \"Tilburg\", \"ns2:MiddelNaam\": \"Tilburg\", \"ns2:LangeNaam\": \"Tilburg\", \"ns2:UICCode\": \"8400597\"}, \"ns2:TreinAankomst\": {\"ns2:TreinNummer\": \"5229\", \"ns2:TreinSoort\": {\"@Code\": \"SPR\", \"#text\": \"Sprinter\"}, \"ns2:TreinStatus\": \"2\", \"ns2:Vervoerder\": \"NS\", \"ns2:TreinHerkomst\": [{\"@InfoStatus\": \"Gepland\", \"ns2:StationCode\": \"TBU\", \"ns2:Type\": \"0\", \"ns2:KorteNaam\": \"Tilburg Un\", \"ns2:MiddelNaam\": \"Tilburg Uni.\", \"ns2:LangeNaam\": \"Tilburg Universiteit\", \"ns2:UICCode\": \"8400594\"}, {\"@InfoStatus\": \"Actueel\", \"ns2:StationCode\": \"TBU\", \"ns2:Type\": \"0\", \"ns2:KorteNaam\": \"Tilburg Un\", \"ns2:MiddelNaam\": \"Tilburg Uni.\", \"ns2:LangeNaam\": \"Tilburg Universiteit\", \"ns2:UICCode\": \"8400594\"}], \"ns2:PresentatieTreinHerkomst\": {\"ns2:Uitingen\": {\"ns2:Uiting\": \"Tilburg Uni.\"}}, \"ns2:AankomstTijd\": [{\"@InfoStatus\": \"Gepland\", \"#text\": \"2020-05-13T08:07:00.000Z\"}, {\"@InfoStatus\": \"Actueel\", \"#text\": \"2020-05-13T08:07:00.000Z\"}], \"ns2:ExacteAankomstVertraging\": \"PT0S\", \"ns2:GedempteAankomstVertraging\": \"PT0S\", \"ns2:TreinAankomstSpoor\": [{\"@InfoStatus\": \"Gepland\", \"ns2:SpoorNummer\": \"1\"}, {\"@InfoStatus\": \"Actueel\", \"ns2:SpoorNummer\": \"1\"}], \"ns2:PresentatieTreinAankomstSpoor\": {\"ns2:Uitingen\": {\"ns2:Uiting\": \"1\"}}, \"ns2:WijzigingHerkomst\": {\"ns2:WijzigingType\": \"40\"}}}}}}')\n",
      "(None, u'{\"ns1:PutReisInformatieBoodschapIn\": {\"@xmlns:ns1\": \"urn:ndov:cdm:trein:reisinformatie:messages:dynamischeaankomststaat:1\", \"@xmlns:ns2\": \"urn:ndov:cdm:trein:reisinformatie:data:4\", \"ns2:ReisInformatieProductDAS\": {\"@TimeStamp\": \"2020-05-13T08:05:47.929Z\", \"@Versie\": \"6.1\", \"ns2:RIPAdministratie\": {\"ns2:ReisInformatieProductID\": \"2005131005472400012\", \"ns2:AbonnementId\": \"55\", \"ns2:ReisInformatieTijdstip\": \"2020-05-13T08:07:00.000Z\"}, \"ns2:DynamischeAankomstStaat\": {\"ns2:RitId\": \"14626\", \"ns2:RitDatum\": \"2020-05-13\", \"ns2:RitStation\": {\"ns2:StationCode\": \"ASD\", \"ns2:Type\": \"6\", \"ns2:KorteNaam\": \"Amsterdm C\", \"ns2:MiddelNaam\": \"Amsterdam C.\", \"ns2:LangeNaam\": \"Amsterdam Centraal\", \"ns2:UICCode\": \"8400058\"}, \"ns2:TreinAankomst\": {\"ns2:TreinNummer\": \"14626\", \"ns2:TreinSoort\": {\"@Code\": \"SPR\", \"#text\": \"Sprinter\"}, \"ns2:TreinStatus\": \"2\", \"ns2:Vervoerder\": \"NS\", \"ns2:TreinHerkomst\": [{\"@InfoStatus\": \"Gepland\", \"ns2:StationCode\": \"ZL\", \"ns2:Type\": \"5\", \"ns2:KorteNaam\": \"Zwolle\", \"ns2:MiddelNaam\": \"Zwolle\", \"ns2:LangeNaam\": \"Zwolle\", \"ns2:UICCode\": \"8400747\"}, {\"@InfoStatus\": \"Actueel\", \"ns2:StationCode\": \"ZL\", \"ns2:Type\": \"5\", \"ns2:KorteNaam\": \"Zwolle\", \"ns2:MiddelNaam\": \"Zwolle\", \"ns2:LangeNaam\": \"Zwolle\", \"ns2:UICCode\": \"8400747\"}], \"ns2:PresentatieTreinHerkomst\": {\"ns2:Uitingen\": {\"ns2:Uiting\": \"Zwolle\"}}, \"ns2:AankomstTijd\": [{\"@InfoStatus\": \"Gepland\", \"#text\": \"2020-05-13T08:07:00.000Z\"}, {\"@InfoStatus\": \"Actueel\", \"#text\": \"2020-05-13T08:07:00.000Z\"}], \"ns2:ExacteAankomstVertraging\": \"PT0S\", \"ns2:GedempteAankomstVertraging\": \"PT0S\", \"ns2:TreinAankomstSpoor\": [{\"@InfoStatus\": \"Gepland\", \"ns2:SpoorNummer\": \"14\", \"ns2:SpoorFase\": \"b\"}, {\"@InfoStatus\": \"Actueel\", \"ns2:SpoorNummer\": \"14\", \"ns2:SpoorFase\": \"b\"}], \"ns2:PresentatieTreinAankomstSpoor\": {\"ns2:Uitingen\": {\"ns2:Uiting\": \"14b\"}}, \"ns2:VerkorteRouteHerkomst\": [{\"@InfoStatus\": \"Gepland\", \"ns2:Station\": [{\"ns2:StationCode\": \"LLS\", \"ns2:Type\": \"5\", \"ns2:KorteNaam\": \"Lelystad C\", \"ns2:MiddelNaam\": \"Lelystad C.\", \"ns2:LangeNaam\": \"Lelystad Centrum\", \"ns2:UICCode\": \"8400394\"}, {\"ns2:StationCode\": \"ALM\", \"ns2:Type\": \"5\", \"ns2:KorteNaam\": \"Almere C\", \"ns2:MiddelNaam\": \"Almere C.\", \"ns2:LangeNaam\": \"Almere Centrum\", \"ns2:UICCode\": \"8400080\"}, {\"ns2:StationCode\": \"WP\", \"ns2:Type\": \"1\", \"ns2:KorteNaam\": \"Weesp\", \"ns2:MiddelNaam\": \"Weesp\", \"ns2:LangeNaam\": \"Weesp\", \"ns2:UICCode\": \"8400685\"}]}, {\"@InfoStatus\": \"Actueel\", \"ns2:Station\": [{\"ns2:StationCode\": \"LLS\", \"ns2:Type\": \"5\", \"ns2:KorteNaam\": \"Lelystad C\", \"ns2:MiddelNaam\": \"Lelystad C.\", \"ns2:LangeNaam\": \"Lelystad Centrum\", \"ns2:UICCode\": \"8400394\"}, {\"ns2:StationCode\": \"ALM\", \"ns2:Type\": \"5\", \"ns2:KorteNaam\": \"Almere C\", \"ns2:MiddelNaam\": \"Almere C.\", \"ns2:LangeNaam\": \"Almere Centrum\", \"ns2:UICCode\": \"8400080\"}, {\"ns2:StationCode\": \"WP\", \"ns2:Type\": \"1\", \"ns2:KorteNaam\": \"Weesp\", \"ns2:MiddelNaam\": \"Weesp\", \"ns2:LangeNaam\": \"Weesp\", \"ns2:UICCode\": \"8400685\"}]}], \"ns2:PresentatieVerkorteRouteHerkomst\": {\"ns2:Uitingen\": {\"ns2:Uiting\": \"Lelystad C., Almere C., Weesp\"}}, \"ns2:WijzigingHerkomst\": {\"ns2:WijzigingType\": \"40\"}}}}}}')\n",
      "(None, u'{\"ns1:PutReisInformatieBoodschapIn\": {\"@xmlns:ns1\": \"urn:ndov:cdm:trein:reisinformatie:messages:dynamischeaankomststaat:1\", \"@xmlns:ns2\": \"urn:ndov:cdm:trein:reisinformatie:data:4\", \"ns2:ReisInformatieProductDAS\": {\"@TimeStamp\": \"2020-05-13T08:05:47.833Z\", \"@Versie\": \"6.1\", \"ns2:RIPAdministratie\": {\"ns2:ReisInformatieProductID\": \"2005131005472500007\", \"ns2:AbonnementId\": \"55\", \"ns2:ReisInformatieTijdstip\": \"2020-05-13T08:07:00.000Z\"}, \"ns2:DynamischeAankomstStaat\": {\"ns2:RitId\": \"4635\", \"ns2:RitDatum\": \"2020-05-13\", \"ns2:RitStation\": {\"ns2:StationCode\": \"ASDL\", \"ns2:Type\": \"0\", \"ns2:KorteNaam\": \"Lelylaan\", \"ns2:MiddelNaam\": \"Lelylaan\", \"ns2:LangeNaam\": \"Amsterdam Lelylaan\", \"ns2:UICCode\": \"8400079\"}, \"ns2:TreinAankomst\": {\"ns2:TreinNummer\": \"4635\", \"ns2:TreinSoort\": {\"@Code\": \"SPR\", \"#text\": \"Sprinter\"}, \"ns2:TreinStatus\": \"2\", \"ns2:Vervoerder\": \"NS\", \"ns2:TreinHerkomst\": [{\"@InfoStatus\": \"Gepland\", \"ns2:StationCode\": \"GVC\", \"ns2:Type\": \"6\", \"ns2:KorteNaam\": \"Den Haag C\", \"ns2:MiddelNaam\": \"Den Haag C.\", \"ns2:LangeNaam\": \"Den Haag Centraal\", \"ns2:UICCode\": \"8400282\"}, {\"@InfoStatus\": \"Actueel\", \"ns2:StationCode\": \"GVC\", \"ns2:Type\": \"6\", \"ns2:KorteNaam\": \"Den Haag C\", \"ns2:MiddelNaam\": \"Den Haag C.\", \"ns2:LangeNaam\": \"Den Haag Centraal\", \"ns2:UICCode\": \"8400282\"}], \"ns2:PresentatieTreinHerkomst\": {\"ns2:Uitingen\": {\"ns2:Uiting\": \"Den Haag C.\"}}, \"ns2:AankomstTijd\": [{\"@InfoStatus\": \"Gepland\", \"#text\": \"2020-05-13T08:07:00.000Z\"}, {\"@InfoStatus\": \"Actueel\", \"#text\": \"2020-05-13T08:07:00.000Z\"}], \"ns2:ExacteAankomstVertraging\": \"PT0S\", \"ns2:GedempteAankomstVertraging\": \"PT0S\", \"ns2:TreinAankomstSpoor\": [{\"@InfoStatus\": \"Gepland\", \"ns2:SpoorNummer\": \"2\"}, {\"@InfoStatus\": \"Actueel\", \"ns2:SpoorNummer\": \"2\"}], \"ns2:PresentatieTreinAankomstSpoor\": {\"ns2:Uitingen\": {\"ns2:Uiting\": \"2\"}}, \"ns2:VerkorteRouteHerkomst\": [{\"@InfoStatus\": \"Gepland\", \"ns2:Station\": [{\"ns2:StationCode\": \"LAA\", \"ns2:Type\": \"1\", \"ns2:KorteNaam\": \"Laan v NOI\", \"ns2:MiddelNaam\": \"Laan v NOI\", \"ns2:LangeNaam\": \"Den Haag Laan v NOI\", \"ns2:UICCode\": \"8400380\"}, {\"ns2:StationCode\": \"LEDN\", \"ns2:Type\": \"5\", \"ns2:KorteNaam\": \"Leiden C\", \"ns2:MiddelNaam\": \"Leiden C.\", \"ns2:LangeNaam\": \"Leiden Centraal\", \"ns2:UICCode\": \"8400390\"}, {\"ns2:StationCode\": \"SHL\", \"ns2:Type\": \"6\", \"ns2:KorteNaam\": \"Schiphol\", \"ns2:MiddelNaam\": \"Schiphol Airport\", \"ns2:LangeNaam\": \"Schiphol Airport\", \"ns2:UICCode\": \"8400561\"}]}, {\"@InfoStatus\": \"Actueel\", \"ns2:Station\": [{\"ns2:StationCode\": \"LAA\", \"ns2:Type\": \"1\", \"ns2:KorteNaam\": \"Laan v NOI\", \"ns2:MiddelNaam\": \"Laan v NOI\", \"ns2:LangeNaam\": \"Den Haag Laan v NOI\", \"ns2:UICCode\": \"8400380\"}, {\"ns2:StationCode\": \"LEDN\", \"ns2:Type\": \"5\", \"ns2:KorteNaam\": \"Leiden C\", \"ns2:MiddelNaam\": \"Leiden C.\", \"ns2:LangeNaam\": \"Leiden Centraal\", \"ns2:UICCode\": \"8400390\"}, {\"ns2:StationCode\": \"SHL\", \"ns2:Type\": \"6\", \"ns2:KorteNaam\": \"Schiphol\", \"ns2:MiddelNaam\": \"Schiphol Airport\", \"ns2:LangeNaam\": \"Schiphol Airport\", \"ns2:UICCode\": \"8400561\"}]}], \"ns2:PresentatieVerkorteRouteHerkomst\": {\"ns2:Uitingen\": {\"ns2:Uiting\": \"Laan v NOI, Leiden C., Schiphol Airport\"}}, \"ns2:WijzigingHerkomst\": {\"ns2:WijzigingType\": \"40\"}}}}}}')\n",
      "(None, u'{\"ns1:PutReisInformatieBoodschapIn\": {\"@xmlns:ns1\": \"urn:ndov:cdm:trein:reisinformatie:messages:dynamischeaankomststaat:1\", \"@xmlns:ns2\": \"urn:ndov:cdm:trein:reisinformatie:data:4\", \"ns2:ReisInformatieProductDAS\": {\"@TimeStamp\": \"2020-05-13T08:05:51.056Z\", \"@Versie\": \"6.1\", \"ns2:RIPAdministratie\": {\"ns2:ReisInformatieProductID\": \"2005131005512400004\", \"ns2:AbonnementId\": \"55\", \"ns2:ReisInformatieTijdstip\": \"2020-05-13T08:04:00.000Z\"}, \"ns2:DynamischeAankomstStaat\": {\"ns2:RitId\": \"2439\", \"ns2:RitDatum\": \"2020-05-13\", \"ns2:RitStation\": {\"ns2:StationCode\": \"ASDZ\", \"ns2:Type\": \"4\", \"ns2:KorteNaam\": \"Amsterdm Z\", \"ns2:MiddelNaam\": \"Amsterdam Z.\", \"ns2:LangeNaam\": \"Amsterdam Zuid\", \"ns2:UICCode\": \"8400061\"}, \"ns2:TreinAankomst\": {\"ns2:TreinNummer\": \"2439\", \"ns2:TreinSoort\": {\"@Code\": \"IC\", \"#text\": \"Intercity\"}, \"ns2:TreinStatus\": \"5\", \"ns2:Vervoerder\": \"NS\", \"ns2:TreinHerkomst\": [{\"@InfoStatus\": \"Gepland\", \"ns2:StationCode\": \"LLS\", \"ns2:Type\": \"5\", \"ns2:KorteNaam\": \"Lelystad C\", \"ns2:MiddelNaam\": \"Lelystad C.\", \"ns2:LangeNaam\": \"Lelystad Centrum\", \"ns2:UICCode\": \"8400394\"}, {\"@InfoStatus\": \"Actueel\", \"ns2:StationCode\": \"LLS\", \"ns2:Type\": \"5\", \"ns2:KorteNaam\": \"Lelystad C\", \"ns2:MiddelNaam\": \"Lelystad C.\", \"ns2:LangeNaam\": \"Lelystad Centrum\", \"ns2:UICCode\": \"8400394\"}], \"ns2:PresentatieTreinHerkomst\": {\"ns2:Uitingen\": {\"ns2:Uiting\": \"Lelystad C.\"}}, \"ns2:AankomstTijd\": [{\"@InfoStatus\": \"Gepland\", \"#text\": \"2020-05-13T08:04:00.000Z\"}, {\"@InfoStatus\": \"Actueel\", \"#text\": \"2020-05-13T08:04:31.000Z\"}], \"ns2:ExacteAankomstVertraging\": \"PT31S\", \"ns2:GedempteAankomstVertraging\": \"PT0S\", \"ns2:TreinAankomstSpoor\": [{\"@InfoStatus\": \"Gepland\", \"ns2:SpoorNummer\": \"4\"}, {\"@InfoStatus\": \"Actueel\", \"ns2:SpoorNummer\": \"4\"}], \"ns2:PresentatieTreinAankomstSpoor\": {\"ns2:Uitingen\": {\"ns2:Uiting\": \"4\"}}, \"ns2:VerkorteRouteHerkomst\": [{\"@InfoStatus\": \"Gepland\", \"ns2:Station\": {\"ns2:StationCode\": \"ALM\", \"ns2:Type\": \"5\", \"ns2:KorteNaam\": \"Almere C\", \"ns2:MiddelNaam\": \"Almere C.\", \"ns2:LangeNaam\": \"Almere Centrum\", \"ns2:UICCode\": \"8400080\"}}, {\"@InfoStatus\": \"Actueel\", \"ns2:Station\": {\"ns2:StationCode\": \"ALM\", \"ns2:Type\": \"5\", \"ns2:KorteNaam\": \"Almere C\", \"ns2:MiddelNaam\": \"Almere C.\", \"ns2:LangeNaam\": \"Almere Centrum\", \"ns2:UICCode\": \"8400080\"}}], \"ns2:PresentatieVerkorteRouteHerkomst\": {\"ns2:Uitingen\": {\"ns2:Uiting\": \"Almere C.\"}}, \"ns2:WijzigingHerkomst\": [{\"ns2:WijzigingType\": \"11\"}, {\"ns2:WijzigingType\": \"40\"}]}}}}}')\n",
      "(None, u'{\"ns1:PutReisInformatieBoodschapIn\": {\"@xmlns:ns1\": \"urn:ndov:cdm:trein:reisinformatie:messages:dynamischeaankomststaat:1\", \"@xmlns:ns2\": \"urn:ndov:cdm:trein:reisinformatie:data:4\", \"ns2:ReisInformatieProductDAS\": {\"@TimeStamp\": \"2020-05-13T08:05:51.010Z\", \"@Versie\": \"6.1\", \"ns2:RIPAdministratie\": {\"ns2:ReisInformatieProductID\": \"2005131005512400000\", \"ns2:AbonnementId\": \"55\", \"ns2:ReisInformatieTijdstip\": \"2020-05-13T08:07:00.000Z\"}, \"ns2:DynamischeAankomstStaat\": {\"ns2:RitId\": \"4024\", \"ns2:RitDatum\": \"2020-05-13\", \"ns2:RitStation\": {\"ns2:StationCode\": \"KMA\", \"ns2:Type\": \"0\", \"ns2:KorteNaam\": \"Krommenie\", \"ns2:MiddelNaam\": \"Krommenie-Ass.\", \"ns2:LangeNaam\": \"Krommenie-Assendelft\", \"ns2:UICCode\": \"8400368\"}, \"ns2:TreinAankomst\": {\"ns2:TreinNummer\": \"4024\", \"ns2:TreinSoort\": {\"@Code\": \"SPR\", \"#text\": \"Sprinter\"}, \"ns2:TreinStatus\": \"2\", \"ns2:Vervoerder\": \"NS\", \"ns2:TreinHerkomst\": [{\"@InfoStatus\": \"Gepland\", \"ns2:StationCode\": \"RTD\", \"ns2:Type\": \"6\", \"ns2:KorteNaam\": \"Rotterdm C\", \"ns2:MiddelNaam\": \"Rotterdam C.\", \"ns2:LangeNaam\": \"Rotterdam Centraal\", \"ns2:UICCode\": \"8400530\"}, {\"@InfoStatus\": \"Actueel\", \"ns2:StationCode\": \"RTD\", \"ns2:Type\": \"6\", \"ns2:KorteNaam\": \"Rotterdm C\", \"ns2:MiddelNaam\": \"Rotterdam C.\", \"ns2:LangeNaam\": \"Rotterdam Centraal\", \"ns2:UICCode\": \"8400530\"}], \"ns2:PresentatieTreinHerkomst\": {\"ns2:Uitingen\": {\"ns2:Uiting\": \"Rotterdam C.\"}}, \"ns2:AankomstTijd\": [{\"@InfoStatus\": \"Gepland\", \"#text\": \"2020-05-13T08:07:00.000Z\"}, {\"@InfoStatus\": \"Actueel\", \"#text\": \"2020-05-13T08:07:30.000Z\"}], \"ns2:ExacteAankomstVertraging\": \"PT30S\", \"ns2:GedempteAankomstVertraging\": \"PT0S\", \"ns2:TreinAankomstSpoor\": [{\"@InfoStatus\": \"Gepland\", \"ns2:SpoorNummer\": \"1\"}, {\"@InfoStatus\": \"Actueel\", \"ns2:SpoorNummer\": \"1\"}], \"ns2:PresentatieTreinAankomstSpoor\": {\"ns2:Uitingen\": {\"ns2:Uiting\": \"1\"}}, \"ns2:VerkorteRouteHerkomst\": [{\"@InfoStatus\": \"Gepland\", \"ns2:Station\": [{\"ns2:StationCode\": \"ASD\", \"ns2:Type\": \"6\", \"ns2:KorteNaam\": \"Amsterdm C\", \"ns2:MiddelNaam\": \"Amsterdam C.\", \"ns2:LangeNaam\": \"Amsterdam Centraal\", \"ns2:UICCode\": \"8400058\"}, {\"ns2:StationCode\": \"ASS\", \"ns2:Type\": \"5\", \"ns2:KorteNaam\": \"Sloterdijk\", \"ns2:MiddelNaam\": \"Sloterdijk\", \"ns2:LangeNaam\": \"Amsterdam Sloterdijk\", \"ns2:UICCode\": \"8400059\"}, {\"ns2:StationCode\": \"ZD\", \"ns2:Type\": \"5\", \"ns2:KorteNaam\": \"Zaandam\", \"ns2:MiddelNaam\": \"Zaandam\", \"ns2:LangeNaam\": \"Zaandam\", \"ns2:UICCode\": \"8400731\"}, {\"ns2:StationCode\": \"ZZS\", \"ns2:Type\": \"1\", \"ns2:KorteNaam\": \"Zaanse S.\", \"ns2:MiddelNaam\": \"Zaanse Schans\", \"ns2:LangeNaam\": \"Zaandijk Zaanse Schans\", \"ns2:UICCode\": \"8400364\"}]}, {\"@InfoStatus\": \"Actueel\", \"ns2:Station\": [{\"ns2:StationCode\": \"ASD\", \"ns2:Type\": \"6\", \"ns2:KorteNaam\": \"Amsterdm C\", \"ns2:MiddelNaam\": \"Amsterdam C.\", \"ns2:LangeNaam\": \"Amsterdam Centraal\", \"ns2:UICCode\": \"8400058\"}, {\"ns2:StationCode\": \"ASS\", \"ns2:Type\": \"5\", \"ns2:KorteNaam\": \"Sloterdijk\", \"ns2:MiddelNaam\": \"Sloterdijk\", \"ns2:LangeNaam\": \"Amsterdam Sloterdijk\", \"ns2:UICCode\": \"8400059\"}, {\"ns2:StationCode\": \"ZD\", \"ns2:Type\": \"5\", \"ns2:KorteNaam\": \"Zaandam\", \"ns2:MiddelNaam\": \"Zaandam\", \"ns2:LangeNaam\": \"Zaandam\", \"ns2:UICCode\": \"8400731\"}, {\"ns2:StationCode\": \"ZZS\", \"ns2:Type\": \"1\", \"ns2:KorteNaam\": \"Zaanse S.\", \"ns2:MiddelNaam\": \"Zaanse Schans\", \"ns2:LangeNaam\": \"Zaandijk Zaanse Schans\", \"ns2:UICCode\": \"8400364\"}]}], \"ns2:PresentatieVerkorteRouteHerkomst\": {\"ns2:Uitingen\": {\"ns2:Uiting\": \"Amsterdam C., Sloterdijk, Zaandam, Zaanse Schans\"}}, \"ns2:WijzigingHerkomst\": [{\"ns2:WijzigingType\": \"11\"}, {\"ns2:WijzigingType\": \"40\"}]}}}}}')\n",
      "...\n",
      "\n",
      "-------------------------------------------\n",
      "Time: 2020-05-13 10:16:40\n",
      "-------------------------------------------\n",
      "(None, u'{\"ns1:PutReisInformatieBoodschapIn\": {\"@xmlns:ns1\": \"urn:ndov:cdm:trein:reisinformatie:messages:5\", \"@xmlns:ns2\": \"urn:ndov:cdm:trein:reisinformatie:data:4\", \"ns2:ReisInformatieProductDVS\": {\"@TimeStamp\": \"2020-05-13T08:05:44.796Z\", \"@Versie\": \"6.2\", \"ns2:RIPAdministratie\": {\"ns2:ReisInformatieProductID\": \"2005131005442500001\", \"ns2:AbonnementId\": \"54\", \"ns2:ReisInformatieTijdstip\": \"2020-05-13T08:05:00.000Z\"}, \"ns2:DynamischeVertrekStaat\": {\"ns2:RitId\": \"6630\", \"ns2:RitDatum\": \"2020-05-13\", \"ns2:RitStation\": {\"ns2:StationCode\": \"TBR\", \"ns2:Type\": \"0\", \"ns2:KorteNaam\": \"Reeshof\", \"ns2:MiddelNaam\": \"Reeshof\", \"ns2:LangeNaam\": \"Tilburg Reeshof\", \"ns2:UICCode\": \"8400598\"}, \"ns2:Trein\": {\"ns2:TreinNummer\": \"6630\", \"ns2:TreinSoort\": {\"@Code\": \"SPR\", \"#text\": \"Sprinter\"}, \"ns2:TreinFormule\": \"1\", \"ns2:TreinStatus\": \"5\", \"ns2:Vervoerder\": \"NS\", \"ns2:Reserveren\": \"N\", \"ns2:Toeslag\": \"N\", \"ns2:NietInstappen\": \"N\", \"ns2:AchterBlijvenAchtersteTreinDeel\": \"N\", \"ns2:RangeerBeweging\": \"N\", \"ns2:SpeciaalKaartje\": \"N\", \"ns2:TreinEindBestemming\": [{\"@InfoStatus\": \"Gepland\", \"ns2:StationCode\": \"AH\", \"ns2:Type\": \"5\", \"ns2:KorteNaam\": \"Arnhem C\", \"ns2:MiddelNaam\": \"Arnhem C.\", \"ns2:LangeNaam\": \"Arnhem Centraal\", \"ns2:UICCode\": \"8400071\"}, {\"@InfoStatus\": \"Actueel\", \"ns2:StationCode\": \"AH\", \"ns2:Type\": \"5\", \"ns2:KorteNaam\": \"Arnhem C\", \"ns2:MiddelNaam\": \"Arnhem C.\", \"ns2:LangeNaam\": \"Arnhem Centraal\", \"ns2:UICCode\": \"8400071\"}], \"ns2:PresentatieTreinEindBestemming\": {\"ns2:Uitingen\": {\"ns2:Uiting\": \"Arnhem Centraal\"}}, \"ns2:VertrekTijd\": [{\"@InfoStatus\": \"Gepland\", \"#text\": \"2020-05-13T08:05:00.000Z\"}, {\"@InfoStatus\": \"Actueel\", \"#text\": \"2020-05-13T08:05:00.000Z\"}], \"ns2:ExacteVertrekVertraging\": \"PT0S\", \"ns2:GedempteVertrekVertraging\": \"PT0S\", \"ns2:TreinVertrekSpoor\": [{\"@InfoStatus\": \"Gepland\", \"ns2:SpoorNummer\": \"2\"}, {\"@InfoStatus\": \"Actueel\", \"ns2:SpoorNummer\": \"2\"}], \"ns2:PresentatieTreinVertrekSpoor\": {\"ns2:Uitingen\": {\"ns2:Uiting\": \"2\"}}, \"ns2:VertrekRichting\": \"B\", \"ns2:AfstandPerronEindKopVertrekTrein\": \"0\", \"ns2:VerkorteRoute\": [{\"@InfoStatus\": \"Gepland\", \"ns2:Station\": [{\"ns2:StationCode\": \"TB\", \"ns2:Type\": \"5\", \"ns2:KorteNaam\": \"Tilburg\", \"ns2:MiddelNaam\": \"Tilburg\", \"ns2:LangeNaam\": \"Tilburg\", \"ns2:UICCode\": \"8400597\"}, {\"ns2:StationCode\": \"HT\", \"ns2:Type\": \"5\", \"ns2:KorteNaam\": \"Den Bosch\", \"ns2:MiddelNaam\": \"\\'s-Hertogenbosch\", \"ns2:LangeNaam\": \"\\'s-Hertogenbosch\", \"ns2:UICCode\": \"8400319\"}, {\"ns2:StationCode\": \"O\", \"ns2:Type\": \"5\", \"ns2:KorteNaam\": \"Oss\", \"ns2:MiddelNaam\": \"Oss\", \"ns2:LangeNaam\": \"Oss\", \"ns2:UICCode\": \"8400495\"}, {\"ns2:StationCode\": \"NM\", \"ns2:Type\": \"5\", \"ns2:KorteNaam\": \"Nijmegen\", \"ns2:MiddelNaam\": \"Nijmegen\", \"ns2:LangeNaam\": \"Nijmegen\", \"ns2:UICCode\": \"8400470\"}]}, {\"@InfoStatus\": \"Actueel\", \"ns2:Station\": [{\"ns2:StationCode\": \"TB\", \"ns2:Type\": \"5\", \"ns2:KorteNaam\": \"Tilburg\", \"ns2:MiddelNaam\": \"Tilburg\", \"ns2:LangeNaam\": \"Tilburg\", \"ns2:UICCode\": \"8400597\"}, {\"ns2:StationCode\": \"HT\", \"ns2:Type\": \"5\", \"ns2:KorteNaam\": \"Den Bosch\", \"ns2:MiddelNaam\": \"\\'s-Hertogenbosch\", \"ns2:LangeNaam\": \"\\'s-Hertogenbosch\", \"ns2:UICCode\": \"8400319\"}, {\"ns2:StationCode\": \"O\", \"ns2:Type\": \"5\", \"ns2:KorteNaam\": \"Oss\", \"ns2:MiddelNaam\": \"Oss\", \"ns2:LangeNaam\": \"Oss\", \"ns2:UICCode\": \"8400495\"}, {\"ns2:StationCode\": \"NM\", \"ns2:Type\": \"5\", \"ns2:KorteNaam\": \"Nijmegen\", \"ns2:MiddelNaam\": \"Nijmegen\", \"ns2:LangeNaam\": \"Nijmegen\", \"ns2:UICCode\": \"8400470\"}]}], \"ns2:PresentatieVerkorteRoute\": {\"ns2:Uitingen\": {\"ns2:Uiting\": \"Tilburg, \\'s-Hertogenbosch, Oss, Nijmegen\"}}, \"ns2:TreinVleugel\": {\"ns2:TreinVleugelVertrekSpoor\": [{\"@InfoStatus\": \"Gepland\", \"ns2:SpoorNummer\": \"2\"}, {\"@InfoStatus\": \"Actueel\", \"ns2:SpoorNummer\": \"2\"}], \"ns2:PresentatieTreinVleugelVertrekSpoor\": {\"ns2:Uitingen\": {\"ns2:Uiting\": \"2\"}}, \"ns2:TreinVleugelEindBestemming\": [{\"@InfoStatus\": \"Gepland\", \"ns2:StationCode\": \"AH\", \"ns2:Type\": \"5\", \"ns2:KorteNaam\": \"Arnhem C\", \"ns2:MiddelNaam\": \"Arnhem C.\", \"ns2:LangeNaam\": \"Arnhem Centraal\", \"ns2:UICCode\": \"8400071\"}, {\"@InfoStatus\": \"Actueel\", \"ns2:StationCode\": \"AH\", \"ns2:Type\": \"5\", \"ns2:KorteNaam\": \"Arnhem C\", \"ns2:MiddelNaam\": \"Arnhem C.\", \"ns2:LangeNaam\": \"Arnhem Centraal\", \"ns2:UICCode\": \"8400071\"}], \"ns2:PresentatieTreinVleugelEindBestemming\": {\"ns2:Uitingen\": {\"ns2:Uiting\": \"Arnhem Centraal\"}}, \"ns2:StopStations\": [{\"@InfoStatus\": \"Gepland\", \"ns2:Station\": [{\"ns2:StationCode\": \"TBU\", \"ns2:Type\": \"0\", \"ns2:KorteNaam\": \"Tilburg Un\", \"ns2:MiddelNaam\": \"Tilburg Uni.\", \"ns2:LangeNaam\": \"Tilburg Universiteit\", \"ns2:UICCode\": \"8400594\"}, {\"ns2:StationCode\": \"TB\", \"ns2:Type\": \"5\", \"ns2:KorteNaam\": \"Tilburg\", \"ns2:MiddelNaam\": \"Tilburg\", \"ns2:LangeNaam\": \"Tilburg\", \"ns2:UICCode\": \"8400597\"}, {\"ns2:StationCode\": \"HT\", \"ns2:Type\": \"5\", \"ns2:KorteNaam\": \"Den Bosch\", \"ns2:MiddelNaam\": \"\\'s-Hertogenbosch\", \"ns2:LangeNaam\": \"\\'s-Hertogenbosch\", \"ns2:UICCode\": \"8400319\"}, {\"ns2:StationCode\": \"HTO\", \"ns2:Type\": \"0\", \"ns2:KorteNaam\": \"Dn Bosch O\", \"ns2:MiddelNaam\": \"\\'s-Hertogenb. O.\", \"ns2:LangeNaam\": \"\\'s-Hertogenbosch Oost\", \"ns2:UICCode\": \"8400320\"}, {\"ns2:StationCode\": \"RS\", \"ns2:Type\": \"0\", \"ns2:KorteNaam\": \"Rosmalen\", \"ns2:MiddelNaam\": \"Rosmalen\", \"ns2:LangeNaam\": \"Rosmalen\", \"ns2:UICCode\": \"8400524\"}, {\"ns2:StationCode\": \"OW\", \"ns2:Type\": \"0\", \"ns2:KorteNaam\": \"Oss W\", \"ns2:MiddelNaam\": \"Oss W.\", \"ns2:LangeNaam\": \"Oss West\", \"ns2:UICCode\": \"8400496\"}, {\"ns2:StationCode\": \"O\", \"ns2:Type\": \"5\", \"ns2:KorteNaam\": \"Oss\", \"ns2:MiddelNaam\": \"Oss\", \"ns2:LangeNaam\": \"Oss\", \"ns2:UICCode\": \"8400495\"}, {\"ns2:StationCode\": \"RVS\", \"ns2:Type\": \"0\", \"ns2:KorteNaam\": \"Ravenstein\", \"ns2:MiddelNaam\": \"Ravenstein\", \"ns2:LangeNaam\": \"Ravenstein\", \"ns2:UICCode\": \"8400515\"}, {\"ns2:StationCode\": \"WC\", \"ns2:Type\": \"0\", \"ns2:KorteNaam\": \"Wijchen\", \"ns2:MiddelNaam\": \"Wijchen\", \"ns2:LangeNaam\": \"Wijchen\", \"ns2:UICCode\": \"8400710\"}, {\"ns2:StationCode\": \"NMD\", \"ns2:Type\": \"0\", \"ns2:KorteNaam\": \"Dukenburg\", \"ns2:MiddelNaam\": \"Dukenburg\", \"ns2:LangeNaam\": \"Nijmegen Dukenburg\", \"ns2:UICCode\": \"8400475\"}, {\"ns2:StationCode\": \"NMGO\", \"ns2:Type\": \"0\", \"ns2:KorteNaam\": \"Goffert\", \"ns2:MiddelNaam\": \"Goffert\", \"ns2:LangeNaam\": \"Nijmegen Goffert\", \"ns2:UICCode\": \"8400477\"}, {\"ns2:StationCode\": \"NM\", \"ns2:Type\": \"5\", \"ns2:KorteNaam\": \"Nijmegen\", \"ns2:MiddelNaam\": \"Nijmegen\", \"ns2:LangeNaam\": \"Nijmegen\", \"ns2:UICCode\": \"8400470\"}, {\"ns2:StationCode\": \"NML\", \"ns2:Type\": \"0\", \"ns2:KorteNaam\": \"Lent\", \"ns2:MiddelNaam\": \"Lent\", \"ns2:LangeNaam\": \"Nijmegen Lent\", \"ns2:UICCode\": \"8400451\"}, {\"ns2:StationCode\": \"EST\", \"ns2:Type\": \"1\", \"ns2:KorteNaam\": \"Elst\", \"ns2:MiddelNaam\": \"Elst\", \"ns2:LangeNaam\": \"Elst\", \"ns2:UICCode\": \"8400207\"}, {\"ns2:StationCode\": \"AHZ\", \"ns2:Type\": \"0\", \"ns2:KorteNaam\": \"Arnhem Z\", \"ns2:MiddelNaam\": \"Arnhem Zuid\", \"ns2:LangeNaam\": \"Arnhem Zuid\", \"ns2:UICCode\": \"8400227\"}, {\"ns2:StationCode\": \"AH\", \"ns2:Type\": \"5\", \"ns2:KorteNaam\": \"Arnhem C\", \"ns2:MiddelNaam\": \"Arnhem C.\", \"ns2:LangeNaam\": \"Arnhem Centraal\", \"ns2:UICCode\": \"8400071\"}]}, {\"@InfoStatus\": \"Actueel\", \"ns2:Station\": [{\"ns2:StationCode\": \"TBU\", \"ns2:Type\": \"0\", \"ns2:KorteNaam\": \"Tilburg Un\", \"ns2:MiddelNaam\": \"Tilburg Uni.\", \"ns2:LangeNaam\": \"Tilburg Universiteit\", \"ns2:UICCode\": \"8400594\"}, {\"ns2:StationCode\": \"TB\", \"ns2:Type\": \"5\", \"ns2:KorteNaam\": \"Tilburg\", \"ns2:MiddelNaam\": \"Tilburg\", \"ns2:LangeNaam\": \"Tilburg\", \"ns2:UICCode\": \"8400597\"}, {\"ns2:StationCode\": \"HT\", \"ns2:Type\": \"5\", \"ns2:KorteNaam\": \"Den Bosch\", \"ns2:MiddelNaam\": \"\\'s-Hertogenbosch\", \"ns2:LangeNaam\": \"\\'s-Hertogenbosch\", \"ns2:UICCode\": \"8400319\"}, {\"ns2:StationCode\": \"HTO\", \"ns2:Type\": \"0\", \"ns2:KorteNaam\": \"Dn Bosch O\", \"ns2:MiddelNaam\": \"\\'s-Hertogenb. O.\", \"ns2:LangeNaam\": \"\\'s-Hertogenbosch Oost\", \"ns2:UICCode\": \"8400320\"}, {\"ns2:StationCode\": \"RS\", \"ns2:Type\": \"0\", \"ns2:KorteNaam\": \"Rosmalen\", \"ns2:MiddelNaam\": \"Rosmalen\", \"ns2:LangeNaam\": \"Rosmalen\", \"ns2:UICCode\": \"8400524\"}, {\"ns2:StationCode\": \"OW\", \"ns2:Type\": \"0\", \"ns2:KorteNaam\": \"Oss W\", \"ns2:MiddelNaam\": \"Oss W.\", \"ns2:LangeNaam\": \"Oss West\", \"ns2:UICCode\": \"8400496\"}, {\"ns2:StationCode\": \"O\", \"ns2:Type\": \"5\", \"ns2:KorteNaam\": \"Oss\", \"ns2:MiddelNaam\": \"Oss\", \"ns2:LangeNaam\": \"Oss\", \"ns2:UICCode\": \"8400495\"}, {\"ns2:StationCode\": \"RVS\", \"ns2:Type\": \"0\", \"ns2:KorteNaam\": \"Ravenstein\", \"ns2:MiddelNaam\": \"Ravenstein\", \"ns2:LangeNaam\": \"Ravenstein\", \"ns2:UICCode\": \"8400515\"}, {\"ns2:StationCode\": \"WC\", \"ns2:Type\": \"0\", \"ns2:KorteNaam\": \"Wijchen\", \"ns2:MiddelNaam\": \"Wijchen\", \"ns2:LangeNaam\": \"Wijchen\", \"ns2:UICCode\": \"8400710\"}, {\"ns2:StationCode\": \"NMD\", \"ns2:Type\": \"0\", \"ns2:KorteNaam\": \"Dukenburg\", \"ns2:MiddelNaam\": \"Dukenburg\", \"ns2:LangeNaam\": \"Nijmegen Dukenburg\", \"ns2:UICCode\": \"8400475\"}, {\"ns2:StationCode\": \"NMGO\", \"ns2:Type\": \"0\", \"ns2:KorteNaam\": \"Goffert\", \"ns2:MiddelNaam\": \"Goffert\", \"ns2:LangeNaam\": \"Nijmegen Goffert\", \"ns2:UICCode\": \"8400477\"}, {\"ns2:StationCode\": \"NM\", \"ns2:Type\": \"5\", \"ns2:KorteNaam\": \"Nijmegen\", \"ns2:MiddelNaam\": \"Nijmegen\", \"ns2:LangeNaam\": \"Nijmegen\", \"ns2:UICCode\": \"8400470\"}, {\"ns2:StationCode\": \"NML\", \"ns2:Type\": \"0\", \"ns2:KorteNaam\": \"Lent\", \"ns2:MiddelNaam\": \"Lent\", \"ns2:LangeNaam\": \"Nijmegen Lent\", \"ns2:UICCode\": \"8400451\"}, {\"ns2:StationCode\": \"EST\", \"ns2:Type\": \"1\", \"ns2:KorteNaam\": \"Elst\", \"ns2:MiddelNaam\": \"Elst\", \"ns2:LangeNaam\": \"Elst\", \"ns2:UICCode\": \"8400207\"}, {\"ns2:StationCode\": \"AHZ\", \"ns2:Type\": \"0\", \"ns2:KorteNaam\": \"Arnhem Z\", \"ns2:MiddelNaam\": \"Arnhem Zuid\", \"ns2:LangeNaam\": \"Arnhem Zuid\", \"ns2:UICCode\": \"8400227\"}, {\"ns2:StationCode\": \"AH\", \"ns2:Type\": \"5\", \"ns2:KorteNaam\": \"Arnhem C\", \"ns2:MiddelNaam\": \"Arnhem C.\", \"ns2:LangeNaam\": \"Arnhem Centraal\", \"ns2:UICCode\": \"8400071\"}]}], \"ns2:MaterieelDeelDVS\": [{\"ns2:MaterieelSoort\": \"FLIRT FFF\", \"ns2:MaterieelAanduiding\": \"3\", \"ns2:MaterieelLengte\": \"6320\", \"ns2:MaterieelDeelVertrekPositie\": \"1\", \"ns2:MaterieelDeelVolgordeVertrek\": \"1\", \"ns2:MaterieelNummer\": \"000000-02207-0\", \"ns2:MaterieelDeelEindBestemming\": [{\"@InfoStatus\": \"Gepland\", \"ns2:StationCode\": \"AH\", \"ns2:Type\": \"5\", \"ns2:KorteNaam\": \"Arnhem C\", \"ns2:MiddelNaam\": \"Arnhem C.\", \"ns2:LangeNaam\": \"Arnhem Centraal\", \"ns2:UICCode\": \"8400071\"}, {\"@InfoStatus\": \"Actueel\", \"ns2:StationCode\": \"AH\", \"ns2:Type\": \"5\", \"ns2:KorteNaam\": \"Arnhem C\", \"ns2:MiddelNaam\": \"Arnhem C.\", \"ns2:LangeNaam\": \"Arnhem Centraal\", \"ns2:UICCode\": \"8400071\"}], \"ns2:PresentatieMaterieelDeelEindBestemming\": {\"ns2:Uitingen\": {\"ns2:Uiting\": \"Arnhem Centraal\"}}}, {\"ns2:MaterieelSoort\": \"FLIRT FFF\", \"ns2:MaterieelAanduiding\": \"3\", \"ns2:MaterieelLengte\": \"6320\", \"ns2:MaterieelDeelVertrekPositie\": \"2\", \"ns2:MaterieelDeelVolgordeVertrek\": \"2\", \"ns2:MaterieelNummer\": \"000000-02206-0\", \"ns2:MaterieelDeelEindBestemming\": [{\"@InfoStatus\": \"Gepland\", \"ns2:StationCode\": \"AH\", \"ns2:Type\": \"5\", \"ns2:KorteNaam\": \"Arnhem C\", \"ns2:MiddelNaam\": \"Arnhem C.\", \"ns2:LangeNaam\": \"Arnhem Centraal\", \"ns2:UICCode\": \"8400071\"}, {\"@InfoStatus\": \"Actueel\", \"ns2:StationCode\": \"AH\", \"ns2:Type\": \"5\", \"ns2:KorteNaam\": \"Arnhem C\", \"ns2:MiddelNaam\": \"Arnhem C.\", \"ns2:LangeNaam\": \"Arnhem Centraal\", \"ns2:UICCode\": \"8400071\"}], \"ns2:PresentatieMaterieelDeelEindBestemming\": {\"ns2:Uitingen\": {\"ns2:Uiting\": \"Arnhem Centraal\"}}}, {\"ns2:MaterieelSoort\": \"FLIRT FFF\", \"ns2:MaterieelAanduiding\": \"4\", \"ns2:MaterieelLengte\": \"8070\", \"ns2:MaterieelDeelVertrekPositie\": \"3\", \"ns2:MaterieelDeelVolgordeVertrek\": \"3\", \"ns2:MaterieelNummer\": \"000000-02504-0\", \"ns2:MaterieelDeelEindBestemming\": [{\"@InfoStatus\": \"Gepland\", \"ns2:StationCode\": \"HT\", \"ns2:Type\": \"5\", \"ns2:KorteNaam\": \"Den Bosch\", \"ns2:MiddelNaam\": \"\\'s-Hertogenbosch\", \"ns2:LangeNaam\": \"\\'s-Hertogenbosch\", \"ns2:UICCode\": \"8400319\"}, {\"@InfoStatus\": \"Actueel\", \"ns2:StationCode\": \"HT\", \"ns2:Type\": \"5\", \"ns2:KorteNaam\": \"Den Bosch\", \"ns2:MiddelNaam\": \"\\'s-Hertogenbosch\", \"ns2:LangeNaam\": \"\\'s-Hertogenbosch\", \"ns2:UICCode\": \"8400319\"}], \"ns2:PresentatieMaterieelDeelEindBestemming\": {\"ns2:Uitingen\": {\"ns2:Uiting\": \"\\'s-Hertogenbosch\"}}}]}, \"ns2:Wijziging\": {\"ns2:WijzigingType\": \"40\"}}}}}}')\n",
      "(None, u'{\"ns1:PutReisInformatieBoodschapIn\": {\"@xmlns:ns1\": \"urn:ndov:cdm:trein:reisinformatie:messages:5\", \"@xmlns:ns2\": \"urn:ndov:cdm:trein:reisinformatie:data:4\", \"ns2:ReisInformatieProductDVS\": {\"@TimeStamp\": \"2020-05-13T08:05:46.118Z\", \"@Versie\": \"6.2\", \"ns2:RIPAdministratie\": {\"ns2:ReisInformatieProductID\": \"2005131005462100001\", \"ns2:AbonnementId\": \"54\", \"ns2:ReisInformatieTijdstip\": \"2020-05-13T08:09:00.000Z\"}, \"ns2:DynamischeVertrekStaat\": {\"ns2:RitId\": \"6629\", \"ns2:RitDatum\": \"2020-05-13\", \"ns2:RitStation\": {\"ns2:StationCode\": \"BD\", \"ns2:Type\": \"5\", \"ns2:KorteNaam\": \"Breda\", \"ns2:MiddelNaam\": \"Breda\", \"ns2:LangeNaam\": \"Breda\", \"ns2:UICCode\": \"8400131\"}, \"ns2:Trein\": {\"ns2:TreinNummer\": \"6629\", \"ns2:TreinSoort\": {\"@Code\": \"SPR\", \"#text\": \"Sprinter\"}, \"ns2:TreinFormule\": \"1\", \"ns2:TreinStatus\": \"2\", \"ns2:Vervoerder\": \"NS\", \"ns2:Reserveren\": \"N\", \"ns2:Toeslag\": \"N\", \"ns2:NietInstappen\": \"N\", \"ns2:AchterBlijvenAchtersteTreinDeel\": \"N\", \"ns2:RangeerBeweging\": \"N\", \"ns2:SpeciaalKaartje\": \"N\", \"ns2:TreinEindBestemming\": [{\"@InfoStatus\": \"Gepland\", \"ns2:StationCode\": \"DDR\", \"ns2:Type\": \"5\", \"ns2:KorteNaam\": \"Dordrecht\", \"ns2:MiddelNaam\": \"Dordrecht\", \"ns2:LangeNaam\": \"Dordrecht\", \"ns2:UICCode\": \"8400180\"}, {\"@InfoStatus\": \"Actueel\", \"ns2:StationCode\": \"DDR\", \"ns2:Type\": \"5\", \"ns2:KorteNaam\": \"Dordrecht\", \"ns2:MiddelNaam\": \"Dordrecht\", \"ns2:LangeNaam\": \"Dordrecht\", \"ns2:UICCode\": \"8400180\"}], \"ns2:PresentatieTreinEindBestemming\": {\"ns2:Uitingen\": {\"ns2:Uiting\": \"Dordrecht\"}}, \"ns2:VertrekTijd\": [{\"@InfoStatus\": \"Gepland\", \"#text\": \"2020-05-13T08:09:00.000Z\"}, {\"@InfoStatus\": \"Actueel\", \"#text\": \"2020-05-13T08:09:00.000Z\"}], \"ns2:ExacteVertrekVertraging\": \"PT0S\", \"ns2:GedempteVertrekVertraging\": \"PT0S\", \"ns2:TreinVertrekSpoor\": [{\"@InfoStatus\": \"Gepland\", \"ns2:SpoorNummer\": \"7\"}, {\"@InfoStatus\": \"Actueel\", \"ns2:SpoorNummer\": \"7\"}], \"ns2:PresentatieTreinVertrekSpoor\": {\"ns2:Uitingen\": {\"ns2:Uiting\": \"7\"}}, \"ns2:VertrekRichting\": \"A\", \"ns2:AfstandPerronEindKopVertrekTrein\": \"0\", \"ns2:VerkorteRoute\": [{\"@InfoStatus\": \"Gepland\", \"ns2:Station\": {\"ns2:StationCode\": \"ZLW\", \"ns2:Type\": \"1\", \"ns2:KorteNaam\": \"Lage Zwalu\", \"ns2:MiddelNaam\": \"Lage Zwaluwe\", \"ns2:LangeNaam\": \"Lage Zwaluwe\", \"ns2:UICCode\": \"8400382\"}}, {\"@InfoStatus\": \"Actueel\", \"ns2:Station\": {\"ns2:StationCode\": \"ZLW\", \"ns2:Type\": \"1\", \"ns2:KorteNaam\": \"Lage Zwalu\", \"ns2:MiddelNaam\": \"Lage Zwaluwe\", \"ns2:LangeNaam\": \"Lage Zwaluwe\", \"ns2:UICCode\": \"8400382\"}}], \"ns2:PresentatieVerkorteRoute\": {\"ns2:Uitingen\": {\"ns2:Uiting\": \"Lage Zwaluwe\"}}, \"ns2:TreinVleugel\": {\"ns2:TreinVleugelVertrekSpoor\": [{\"@InfoStatus\": \"Gepland\", \"ns2:SpoorNummer\": \"7\"}, {\"@InfoStatus\": \"Actueel\", \"ns2:SpoorNummer\": \"7\"}], \"ns2:PresentatieTreinVleugelVertrekSpoor\": {\"ns2:Uitingen\": {\"ns2:Uiting\": \"7\"}}, \"ns2:TreinVleugelEindBestemming\": [{\"@InfoStatus\": \"Gepland\", \"ns2:StationCode\": \"DDR\", \"ns2:Type\": \"5\", \"ns2:KorteNaam\": \"Dordrecht\", \"ns2:MiddelNaam\": \"Dordrecht\", \"ns2:LangeNaam\": \"Dordrecht\", \"ns2:UICCode\": \"8400180\"}, {\"@InfoStatus\": \"Actueel\", \"ns2:StationCode\": \"DDR\", \"ns2:Type\": \"5\", \"ns2:KorteNaam\": \"Dordrecht\", \"ns2:MiddelNaam\": \"Dordrecht\", \"ns2:LangeNaam\": \"Dordrecht\", \"ns2:UICCode\": \"8400180\"}], \"ns2:PresentatieTreinVleugelEindBestemming\": {\"ns2:Uitingen\": {\"ns2:Uiting\": \"Dordrecht\"}}, \"ns2:StopStations\": [{\"@InfoStatus\": \"Gepland\", \"ns2:Station\": [{\"ns2:StationCode\": \"BDPB\", \"ns2:Type\": \"0\", \"ns2:KorteNaam\": \"Prinsenbk\", \"ns2:MiddelNaam\": \"Prinsenbeek\", \"ns2:LangeNaam\": \"Breda-Prinsenbeek\", \"ns2:UICCode\": \"8400132\"}, {\"ns2:StationCode\": \"ZLW\", \"ns2:Type\": \"1\", \"ns2:KorteNaam\": \"Lage Zwalu\", \"ns2:MiddelNaam\": \"Lage Zwaluwe\", \"ns2:LangeNaam\": \"Lage Zwaluwe\", \"ns2:UICCode\": \"8400382\"}, {\"ns2:StationCode\": \"DDZD\", \"ns2:Type\": \"0\", \"ns2:KorteNaam\": \"Dordrcht Z\", \"ns2:MiddelNaam\": \"Dordrecht Z.\", \"ns2:LangeNaam\": \"Dordrecht Zuid\", \"ns2:UICCode\": \"8400181\"}, {\"ns2:StationCode\": \"DDR\", \"ns2:Type\": \"5\", \"ns2:KorteNaam\": \"Dordrecht\", \"ns2:MiddelNaam\": \"Dordrecht\", \"ns2:LangeNaam\": \"Dordrecht\", \"ns2:UICCode\": \"8400180\"}]}, {\"@InfoStatus\": \"Actueel\", \"ns2:Station\": [{\"ns2:StationCode\": \"BDPB\", \"ns2:Type\": \"0\", \"ns2:KorteNaam\": \"Prinsenbk\", \"ns2:MiddelNaam\": \"Prinsenbeek\", \"ns2:LangeNaam\": \"Breda-Prinsenbeek\", \"ns2:UICCode\": \"8400132\"}, {\"ns2:StationCode\": \"ZLW\", \"ns2:Type\": \"1\", \"ns2:KorteNaam\": \"Lage Zwalu\", \"ns2:MiddelNaam\": \"Lage Zwaluwe\", \"ns2:LangeNaam\": \"Lage Zwaluwe\", \"ns2:UICCode\": \"8400382\"}, {\"ns2:StationCode\": \"DDZD\", \"ns2:Type\": \"0\", \"ns2:KorteNaam\": \"Dordrcht Z\", \"ns2:MiddelNaam\": \"Dordrecht Z.\", \"ns2:LangeNaam\": \"Dordrecht Zuid\", \"ns2:UICCode\": \"8400181\"}, {\"ns2:StationCode\": \"DDR\", \"ns2:Type\": \"5\", \"ns2:KorteNaam\": \"Dordrecht\", \"ns2:MiddelNaam\": \"Dordrecht\", \"ns2:LangeNaam\": \"Dordrecht\", \"ns2:UICCode\": \"8400180\"}]}], \"ns2:MaterieelDeelDVS\": [{\"ns2:MaterieelSoort\": \"FLIRT FFF\", \"ns2:MaterieelAanduiding\": \"4\", \"ns2:MaterieelLengte\": \"8070\", \"ns2:MaterieelDeelVertrekPositie\": \"1\", \"ns2:MaterieelDeelVolgordeVertrek\": \"1\", \"ns2:MaterieelNummer\": \"000000-02518-0\", \"ns2:MaterieelDeelEindBestemming\": [{\"@InfoStatus\": \"Gepland\", \"ns2:StationCode\": \"DDR\", \"ns2:Type\": \"5\", \"ns2:KorteNaam\": \"Dordrecht\", \"ns2:MiddelNaam\": \"Dordrecht\", \"ns2:LangeNaam\": \"Dordrecht\", \"ns2:UICCode\": \"8400180\"}, {\"@InfoStatus\": \"Actueel\", \"ns2:StationCode\": \"DDR\", \"ns2:Type\": \"5\", \"ns2:KorteNaam\": \"Dordrecht\", \"ns2:MiddelNaam\": \"Dordrecht\", \"ns2:LangeNaam\": \"Dordrecht\", \"ns2:UICCode\": \"8400180\"}], \"ns2:PresentatieMaterieelDeelEindBestemming\": {\"ns2:Uitingen\": {\"ns2:Uiting\": \"Dordrecht\"}}}, {\"ns2:MaterieelSoort\": \"FLIRT FFF\", \"ns2:MaterieelAanduiding\": \"3\", \"ns2:MaterieelLengte\": \"6320\", \"ns2:MaterieelDeelVertrekPositie\": \"3\", \"ns2:MaterieelDeelVolgordeVertrek\": \"2\", \"ns2:MaterieelNummer\": \"000000-02233-0\", \"ns2:MaterieelDeelEindBestemming\": [{\"@InfoStatus\": \"Gepland\", \"ns2:StationCode\": \"DDR\", \"ns2:Type\": \"5\", \"ns2:KorteNaam\": \"Dordrecht\", \"ns2:MiddelNaam\": \"Dordrecht\", \"ns2:LangeNaam\": \"Dordrecht\", \"ns2:UICCode\": \"8400180\"}, {\"@InfoStatus\": \"Actueel\", \"ns2:StationCode\": \"DDR\", \"ns2:Type\": \"5\", \"ns2:KorteNaam\": \"Dordrecht\", \"ns2:MiddelNaam\": \"Dordrecht\", \"ns2:LangeNaam\": \"Dordrecht\", \"ns2:UICCode\": \"8400180\"}], \"ns2:PresentatieMaterieelDeelEindBestemming\": {\"ns2:Uitingen\": {\"ns2:Uiting\": \"Dordrecht\"}}}]}, \"ns2:Wijziging\": {\"ns2:WijzigingType\": \"40\"}}}}}}')\n",
      "(None, u'{\"ns1:PutReisInformatieBoodschapIn\": {\"@xmlns:ns1\": \"urn:ndov:cdm:trein:reisinformatie:messages:5\", \"@xmlns:ns2\": \"urn:ndov:cdm:trein:reisinformatie:data:4\", \"ns2:ReisInformatieProductDVS\": {\"@TimeStamp\": \"2020-05-13T08:05:47.818Z\", \"@Versie\": \"6.2\", \"ns2:RIPAdministratie\": {\"ns2:ReisInformatieProductID\": \"2005131005472500006\", \"ns2:AbonnementId\": \"54\", \"ns2:ReisInformatieTijdstip\": \"2020-05-13T08:07:00.000Z\"}, \"ns2:DynamischeVertrekStaat\": {\"ns2:RitId\": \"4635\", \"ns2:RitDatum\": \"2020-05-13\", \"ns2:RitStation\": {\"ns2:StationCode\": \"ASDL\", \"ns2:Type\": \"0\", \"ns2:KorteNaam\": \"Lelylaan\", \"ns2:MiddelNaam\": \"Lelylaan\", \"ns2:LangeNaam\": \"Amsterdam Lelylaan\", \"ns2:UICCode\": \"8400079\"}, \"ns2:Trein\": {\"ns2:TreinNummer\": \"4635\", \"ns2:TreinSoort\": {\"@Code\": \"SPR\", \"#text\": \"Sprinter\"}, \"ns2:TreinFormule\": \"1\", \"ns2:TreinStatus\": \"2\", \"ns2:Vervoerder\": \"NS\", \"ns2:Reserveren\": \"N\", \"ns2:Toeslag\": \"N\", \"ns2:NietInstappen\": \"N\", \"ns2:AchterBlijvenAchtersteTreinDeel\": \"N\", \"ns2:RangeerBeweging\": \"N\", \"ns2:SpeciaalKaartje\": \"N\", \"ns2:TreinEindBestemming\": [{\"@InfoStatus\": \"Gepland\", \"ns2:StationCode\": \"ASD\", \"ns2:Type\": \"6\", \"ns2:KorteNaam\": \"Amsterdm C\", \"ns2:MiddelNaam\": \"Amsterdam C.\", \"ns2:LangeNaam\": \"Amsterdam Centraal\", \"ns2:UICCode\": \"8400058\"}, {\"@InfoStatus\": \"Actueel\", \"ns2:StationCode\": \"ASD\", \"ns2:Type\": \"6\", \"ns2:KorteNaam\": \"Amsterdm C\", \"ns2:MiddelNaam\": \"Amsterdam C.\", \"ns2:LangeNaam\": \"Amsterdam Centraal\", \"ns2:UICCode\": \"8400058\"}], \"ns2:PresentatieTreinEindBestemming\": {\"ns2:Uitingen\": {\"ns2:Uiting\": \"Amsterdam Centraal\"}}, \"ns2:VertrekTijd\": [{\"@InfoStatus\": \"Gepland\", \"#text\": \"2020-05-13T08:07:00.000Z\"}, {\"@InfoStatus\": \"Actueel\", \"#text\": \"2020-05-13T08:07:00.000Z\"}], \"ns2:ExacteVertrekVertraging\": \"PT0S\", \"ns2:GedempteVertrekVertraging\": \"PT0S\", \"ns2:TreinVertrekSpoor\": [{\"@InfoStatus\": \"Gepland\", \"ns2:SpoorNummer\": \"2\"}, {\"@InfoStatus\": \"Actueel\", \"ns2:SpoorNummer\": \"2\"}], \"ns2:PresentatieTreinVertrekSpoor\": {\"ns2:Uitingen\": {\"ns2:Uiting\": \"2\"}}, \"ns2:VertrekRichting\": \"B\", \"ns2:AfstandPerronEindKopVertrekTrein\": \"0\", \"ns2:VerkorteRoute\": [{\"@InfoStatus\": \"Gepland\", \"ns2:Station\": {\"ns2:StationCode\": \"ASS\", \"ns2:Type\": \"5\", \"ns2:KorteNaam\": \"Sloterdijk\", \"ns2:MiddelNaam\": \"Sloterdijk\", \"ns2:LangeNaam\": \"Amsterdam Sloterdijk\", \"ns2:UICCode\": \"8400059\"}}, {\"@InfoStatus\": \"Actueel\", \"ns2:Station\": {\"ns2:StationCode\": \"ASS\", \"ns2:Type\": \"5\", \"ns2:KorteNaam\": \"Sloterdijk\", \"ns2:MiddelNaam\": \"Sloterdijk\", \"ns2:LangeNaam\": \"Amsterdam Sloterdijk\", \"ns2:UICCode\": \"8400059\"}}], \"ns2:PresentatieVerkorteRoute\": {\"ns2:Uitingen\": {\"ns2:Uiting\": \"Sloterdijk\"}}, \"ns2:TreinVleugel\": {\"ns2:TreinVleugelVertrekSpoor\": [{\"@InfoStatus\": \"Gepland\", \"ns2:SpoorNummer\": \"2\"}, {\"@InfoStatus\": \"Actueel\", \"ns2:SpoorNummer\": \"2\"}], \"ns2:PresentatieTreinVleugelVertrekSpoor\": {\"ns2:Uitingen\": {\"ns2:Uiting\": \"2\"}}, \"ns2:TreinVleugelEindBestemming\": [{\"@InfoStatus\": \"Gepland\", \"ns2:StationCode\": \"ASD\", \"ns2:Type\": \"6\", \"ns2:KorteNaam\": \"Amsterdm C\", \"ns2:MiddelNaam\": \"Amsterdam C.\", \"ns2:LangeNaam\": \"Amsterdam Centraal\", \"ns2:UICCode\": \"8400058\"}, {\"@InfoStatus\": \"Actueel\", \"ns2:StationCode\": \"ASD\", \"ns2:Type\": \"6\", \"ns2:KorteNaam\": \"Amsterdm C\", \"ns2:MiddelNaam\": \"Amsterdam C.\", \"ns2:LangeNaam\": \"Amsterdam Centraal\", \"ns2:UICCode\": \"8400058\"}], \"ns2:PresentatieTreinVleugelEindBestemming\": {\"ns2:Uitingen\": {\"ns2:Uiting\": \"Amsterdam Centraal\"}}, \"ns2:StopStations\": [{\"@InfoStatus\": \"Gepland\", \"ns2:Station\": [{\"ns2:StationCode\": \"ASS\", \"ns2:Type\": \"5\", \"ns2:KorteNaam\": \"Sloterdijk\", \"ns2:MiddelNaam\": \"Sloterdijk\", \"ns2:LangeNaam\": \"Amsterdam Sloterdijk\", \"ns2:UICCode\": \"8400059\"}, {\"ns2:StationCode\": \"ASD\", \"ns2:Type\": \"6\", \"ns2:KorteNaam\": \"Amsterdm C\", \"ns2:MiddelNaam\": \"Amsterdam C.\", \"ns2:LangeNaam\": \"Amsterdam Centraal\", \"ns2:UICCode\": \"8400058\"}]}, {\"@InfoStatus\": \"Actueel\", \"ns2:Station\": [{\"ns2:StationCode\": \"ASS\", \"ns2:Type\": \"5\", \"ns2:KorteNaam\": \"Sloterdijk\", \"ns2:MiddelNaam\": \"Sloterdijk\", \"ns2:LangeNaam\": \"Amsterdam Sloterdijk\", \"ns2:UICCode\": \"8400059\"}, {\"ns2:StationCode\": \"ASD\", \"ns2:Type\": \"6\", \"ns2:KorteNaam\": \"Amsterdm C\", \"ns2:MiddelNaam\": \"Amsterdam C.\", \"ns2:LangeNaam\": \"Amsterdam Centraal\", \"ns2:UICCode\": \"8400058\"}]}], \"ns2:MaterieelDeelDVS\": [{\"ns2:MaterieelSoort\": \"SNG\", \"ns2:MaterieelAanduiding\": \"3\", \"ns2:MaterieelLengte\": \"5956\", \"ns2:MaterieelDeelVertrekPositie\": \"1\", \"ns2:MaterieelDeelVolgordeVertrek\": \"1\", \"ns2:MaterieelNummer\": \"000000-02339-0\", \"ns2:MaterieelDeelEindBestemming\": [{\"@InfoStatus\": \"Gepland\", \"ns2:StationCode\": \"ASD\", \"ns2:Type\": \"6\", \"ns2:KorteNaam\": \"Amsterdm C\", \"ns2:MiddelNaam\": \"Amsterdam C.\", \"ns2:LangeNaam\": \"Amsterdam Centraal\", \"ns2:UICCode\": \"8400058\"}, {\"@InfoStatus\": \"Actueel\", \"ns2:StationCode\": \"ASD\", \"ns2:Type\": \"6\", \"ns2:KorteNaam\": \"Amsterdm C\", \"ns2:MiddelNaam\": \"Amsterdam C.\", \"ns2:LangeNaam\": \"Amsterdam Centraal\", \"ns2:UICCode\": \"8400058\"}], \"ns2:PresentatieMaterieelDeelEindBestemming\": {\"ns2:Uitingen\": {\"ns2:Uiting\": \"Amsterdam Centraal\"}}}, {\"ns2:MaterieelSoort\": \"SNG\", \"ns2:MaterieelAanduiding\": \"4\", \"ns2:MaterieelLengte\": \"7576\", \"ns2:MaterieelDeelVertrekPositie\": \"2\", \"ns2:MaterieelDeelVolgordeVertrek\": \"2\", \"ns2:MaterieelNummer\": \"000000-02712-0\", \"ns2:MaterieelDeelEindBestemming\": [{\"@InfoStatus\": \"Gepland\", \"ns2:StationCode\": \"ASD\", \"ns2:Type\": \"6\", \"ns2:KorteNaam\": \"Amsterdm C\", \"ns2:MiddelNaam\": \"Amsterdam C.\", \"ns2:LangeNaam\": \"Amsterdam Centraal\", \"ns2:UICCode\": \"8400058\"}, {\"@InfoStatus\": \"Actueel\", \"ns2:StationCode\": \"ASD\", \"ns2:Type\": \"6\", \"ns2:KorteNaam\": \"Amsterdm C\", \"ns2:MiddelNaam\": \"Amsterdam C.\", \"ns2:LangeNaam\": \"Amsterdam Centraal\", \"ns2:UICCode\": \"8400058\"}], \"ns2:PresentatieMaterieelDeelEindBestemming\": {\"ns2:Uitingen\": {\"ns2:Uiting\": \"Amsterdam Centraal\"}}}, {\"ns2:MaterieelSoort\": \"SNG\", \"ns2:MaterieelAanduiding\": \"4\", \"ns2:MaterieelLengte\": \"7576\", \"ns2:MaterieelDeelVertrekPositie\": \"3\", \"ns2:MaterieelDeelVolgordeVertrek\": \"3\", \"ns2:MaterieelNummer\": \"000000-02735-0\", \"ns2:MaterieelDeelEindBestemming\": [{\"@InfoStatus\": \"Gepland\", \"ns2:StationCode\": \"ASD\", \"ns2:Type\": \"6\", \"ns2:KorteNaam\": \"Amsterdm C\", \"ns2:MiddelNaam\": \"Amsterdam C.\", \"ns2:LangeNaam\": \"Amsterdam Centraal\", \"ns2:UICCode\": \"8400058\"}, {\"@InfoStatus\": \"Actueel\", \"ns2:StationCode\": \"ASD\", \"ns2:Type\": \"6\", \"ns2:KorteNaam\": \"Amsterdm C\", \"ns2:MiddelNaam\": \"Amsterdam C.\", \"ns2:LangeNaam\": \"Amsterdam Centraal\", \"ns2:UICCode\": \"8400058\"}], \"ns2:PresentatieMaterieelDeelEindBestemming\": {\"ns2:Uitingen\": {\"ns2:Uiting\": \"Amsterdam Centraal\"}}}]}, \"ns2:Wijziging\": {\"ns2:WijzigingType\": \"40\"}}}}}}')\n",
      "(None, u'{\"ns1:PutReisInformatieBoodschapIn\": {\"@xmlns:ns1\": \"urn:ndov:cdm:trein:reisinformatie:messages:5\", \"@xmlns:ns2\": \"urn:ndov:cdm:trein:reisinformatie:data:4\", \"ns2:ReisInformatieProductDVS\": {\"@TimeStamp\": \"2020-05-13T08:05:47.855Z\", \"@Versie\": \"6.2\", \"ns2:RIPAdministratie\": {\"ns2:ReisInformatieProductID\": \"2005131005472500008\", \"ns2:AbonnementId\": \"54\", \"ns2:ReisInformatieTijdstip\": \"2020-05-13T08:05:00.000Z\"}, \"ns2:DynamischeVertrekStaat\": {\"ns2:RitId\": \"15831\", \"ns2:RitDatum\": \"2020-05-13\", \"ns2:RitStation\": {\"ns2:StationCode\": \"NDB\", \"ns2:Type\": \"1\", \"ns2:KorteNaam\": \"Naarden-Bu\", \"ns2:MiddelNaam\": \"Naarden-Bussum\", \"ns2:LangeNaam\": \"Naarden-Bussum\", \"ns2:UICCode\": \"8400452\"}, \"ns2:Trein\": {\"ns2:TreinNummer\": \"15831\", \"ns2:TreinSoort\": {\"@Code\": \"SPR\", \"#text\": \"Sprinter\"}, \"ns2:TreinFormule\": \"1\", \"ns2:TreinStatus\": \"5\", \"ns2:Vervoerder\": \"NS\", \"ns2:Reserveren\": \"N\", \"ns2:Toeslag\": \"N\", \"ns2:NietInstappen\": \"N\", \"ns2:AchterBlijvenAchtersteTreinDeel\": \"N\", \"ns2:RangeerBeweging\": \"N\", \"ns2:SpeciaalKaartje\": \"N\", \"ns2:TreinEindBestemming\": [{\"@InfoStatus\": \"Gepland\", \"ns2:StationCode\": \"AVAT\", \"ns2:Type\": \"0\", \"ns2:KorteNaam\": \"Vathorst\", \"ns2:MiddelNaam\": \"Vathorst\", \"ns2:LangeNaam\": \"Amersfoort Vathorst\", \"ns2:UICCode\": \"8400228\"}, {\"@InfoStatus\": \"Actueel\", \"ns2:StationCode\": \"AVAT\", \"ns2:Type\": \"0\", \"ns2:KorteNaam\": \"Vathorst\", \"ns2:MiddelNaam\": \"Vathorst\", \"ns2:LangeNaam\": \"Amersfoort Vathorst\", \"ns2:UICCode\": \"8400228\"}], \"ns2:PresentatieTreinEindBestemming\": {\"ns2:Uitingen\": {\"ns2:Uiting\": \"Amersfoort Vathorst\"}}, \"ns2:VertrekTijd\": [{\"@InfoStatus\": \"Gepland\", \"#text\": \"2020-05-13T08:05:00.000Z\"}, {\"@InfoStatus\": \"Actueel\", \"#text\": \"2020-05-13T08:05:00.000Z\"}], \"ns2:ExacteVertrekVertraging\": \"PT0S\", \"ns2:GedempteVertrekVertraging\": \"PT0S\", \"ns2:TreinVertrekSpoor\": [{\"@InfoStatus\": \"Gepland\", \"ns2:SpoorNummer\": \"2\"}, {\"@InfoStatus\": \"Actueel\", \"ns2:SpoorNummer\": \"2\"}], \"ns2:PresentatieTreinVertrekSpoor\": {\"ns2:Uitingen\": {\"ns2:Uiting\": \"2\"}}, \"ns2:VertrekRichting\": \"B\", \"ns2:AfstandPerronEindKopVertrekTrein\": \"0\", \"ns2:VerkorteRoute\": [{\"@InfoStatus\": \"Gepland\", \"ns2:Station\": [{\"ns2:StationCode\": \"HVS\", \"ns2:Type\": \"5\", \"ns2:KorteNaam\": \"Hilversum\", \"ns2:MiddelNaam\": \"Hilversum\", \"ns2:LangeNaam\": \"Hilversum\", \"ns2:UICCode\": \"8400322\"}, {\"ns2:StationCode\": \"BRN\", \"ns2:Type\": \"1\", \"ns2:KorteNaam\": \"Baarn\", \"ns2:MiddelNaam\": \"Baarn\", \"ns2:LangeNaam\": \"Baarn\", \"ns2:UICCode\": \"8400086\"}, {\"ns2:StationCode\": \"AMF\", \"ns2:Type\": \"5\", \"ns2:KorteNaam\": \"Amersfrt C\", \"ns2:MiddelNaam\": \"Amersfoort C.\", \"ns2:LangeNaam\": \"Amersfoort Centraal\", \"ns2:UICCode\": \"8400055\"}]}, {\"@InfoStatus\": \"Actueel\", \"ns2:Station\": [{\"ns2:StationCode\": \"HVS\", \"ns2:Type\": \"5\", \"ns2:KorteNaam\": \"Hilversum\", \"ns2:MiddelNaam\": \"Hilversum\", \"ns2:LangeNaam\": \"Hilversum\", \"ns2:UICCode\": \"8400322\"}, {\"ns2:StationCode\": \"BRN\", \"ns2:Type\": \"1\", \"ns2:KorteNaam\": \"Baarn\", \"ns2:MiddelNaam\": \"Baarn\", \"ns2:LangeNaam\": \"Baarn\", \"ns2:UICCode\": \"8400086\"}, {\"ns2:StationCode\": \"AMF\", \"ns2:Type\": \"5\", \"ns2:KorteNaam\": \"Amersfrt C\", \"ns2:MiddelNaam\": \"Amersfoort C.\", \"ns2:LangeNaam\": \"Amersfoort Centraal\", \"ns2:UICCode\": \"8400055\"}]}], \"ns2:PresentatieVerkorteRoute\": {\"ns2:Uitingen\": {\"ns2:Uiting\": \"Hilversum, Baarn, Amersfoort C.\"}}, \"ns2:TreinVleugel\": {\"ns2:TreinVleugelVertrekSpoor\": [{\"@InfoStatus\": \"Gepland\", \"ns2:SpoorNummer\": \"2\"}, {\"@InfoStatus\": \"Actueel\", \"ns2:SpoorNummer\": \"2\"}], \"ns2:PresentatieTreinVleugelVertrekSpoor\": {\"ns2:Uitingen\": {\"ns2:Uiting\": \"2\"}}, \"ns2:TreinVleugelEindBestemming\": [{\"@InfoStatus\": \"Gepland\", \"ns2:StationCode\": \"AVAT\", \"ns2:Type\": \"0\", \"ns2:KorteNaam\": \"Vathorst\", \"ns2:MiddelNaam\": \"Vathorst\", \"ns2:LangeNaam\": \"Amersfoort Vathorst\", \"ns2:UICCode\": \"8400228\"}, {\"@InfoStatus\": \"Actueel\", \"ns2:StationCode\": \"AVAT\", \"ns2:Type\": \"0\", \"ns2:KorteNaam\": \"Vathorst\", \"ns2:MiddelNaam\": \"Vathorst\", \"ns2:LangeNaam\": \"Amersfoort Vathorst\", \"ns2:UICCode\": \"8400228\"}], \"ns2:PresentatieTreinVleugelEindBestemming\": {\"ns2:Uitingen\": {\"ns2:Uiting\": \"Amersfoort Vathorst\"}}, \"ns2:StopStations\": [{\"@InfoStatus\": \"Gepland\", \"ns2:Station\": [{\"ns2:StationCode\": \"BSMZ\", \"ns2:Type\": \"0\", \"ns2:KorteNaam\": \"Bussum Z\", \"ns2:MiddelNaam\": \"Bussum Z.\", \"ns2:LangeNaam\": \"Bussum Zuid\", \"ns2:UICCode\": \"8400145\"}, {\"ns2:StationCode\": \"HVSM\", \"ns2:Type\": \"0\", \"ns2:KorteNaam\": \"Media Park\", \"ns2:MiddelNaam\": \"Media Park\", \"ns2:LangeNaam\": \"Hilversum Media Park\", \"ns2:UICCode\": \"8400324\"}, {\"ns2:StationCode\": \"HVS\", \"ns2:Type\": \"5\", \"ns2:KorteNaam\": \"Hilversum\", \"ns2:MiddelNaam\": \"Hilversum\", \"ns2:LangeNaam\": \"Hilversum\", \"ns2:UICCode\": \"8400322\"}, {\"ns2:StationCode\": \"BRN\", \"ns2:Type\": \"1\", \"ns2:KorteNaam\": \"Baarn\", \"ns2:MiddelNaam\": \"Baarn\", \"ns2:LangeNaam\": \"Baarn\", \"ns2:UICCode\": \"8400086\"}, {\"ns2:StationCode\": \"AMF\", \"ns2:Type\": \"5\", \"ns2:KorteNaam\": \"Amersfrt C\", \"ns2:MiddelNaam\": \"Amersfoort C.\", \"ns2:LangeNaam\": \"Amersfoort Centraal\", \"ns2:UICCode\": \"8400055\"}, {\"ns2:StationCode\": \"AMFS\", \"ns2:Type\": \"0\", \"ns2:KorteNaam\": \"Schothorst\", \"ns2:MiddelNaam\": \"Schothorst\", \"ns2:LangeNaam\": \"Amersfoort Schothorst\", \"ns2:UICCode\": \"8400054\"}, {\"ns2:StationCode\": \"AVAT\", \"ns2:Type\": \"0\", \"ns2:KorteNaam\": \"Vathorst\", \"ns2:MiddelNaam\": \"Vathorst\", \"ns2:LangeNaam\": \"Amersfoort Vathorst\", \"ns2:UICCode\": \"8400228\"}]}, {\"@InfoStatus\": \"Actueel\", \"ns2:Station\": [{\"ns2:StationCode\": \"BSMZ\", \"ns2:Type\": \"0\", \"ns2:KorteNaam\": \"Bussum Z\", \"ns2:MiddelNaam\": \"Bussum Z.\", \"ns2:LangeNaam\": \"Bussum Zuid\", \"ns2:UICCode\": \"8400145\"}, {\"ns2:StationCode\": \"HVSM\", \"ns2:Type\": \"0\", \"ns2:KorteNaam\": \"Media Park\", \"ns2:MiddelNaam\": \"Media Park\", \"ns2:LangeNaam\": \"Hilversum Media Park\", \"ns2:UICCode\": \"8400324\"}, {\"ns2:StationCode\": \"HVS\", \"ns2:Type\": \"5\", \"ns2:KorteNaam\": \"Hilversum\", \"ns2:MiddelNaam\": \"Hilversum\", \"ns2:LangeNaam\": \"Hilversum\", \"ns2:UICCode\": \"8400322\"}, {\"ns2:StationCode\": \"BRN\", \"ns2:Type\": \"1\", \"ns2:KorteNaam\": \"Baarn\", \"ns2:MiddelNaam\": \"Baarn\", \"ns2:LangeNaam\": \"Baarn\", \"ns2:UICCode\": \"8400086\"}, {\"ns2:StationCode\": \"AMF\", \"ns2:Type\": \"5\", \"ns2:KorteNaam\": \"Amersfrt C\", \"ns2:MiddelNaam\": \"Amersfoort C.\", \"ns2:LangeNaam\": \"Amersfoort Centraal\", \"ns2:UICCode\": \"8400055\"}, {\"ns2:StationCode\": \"AMFS\", \"ns2:Type\": \"0\", \"ns2:KorteNaam\": \"Schothorst\", \"ns2:MiddelNaam\": \"Schothorst\", \"ns2:LangeNaam\": \"Amersfoort Schothorst\", \"ns2:UICCode\": \"8400054\"}, {\"ns2:StationCode\": \"AVAT\", \"ns2:Type\": \"0\", \"ns2:KorteNaam\": \"Vathorst\", \"ns2:MiddelNaam\": \"Vathorst\", \"ns2:LangeNaam\": \"Amersfoort Vathorst\", \"ns2:UICCode\": \"8400228\"}]}], \"ns2:MaterieelDeelDVS\": [{\"ns2:MaterieelSoort\": \"SLT\", \"ns2:MaterieelAanduiding\": \"6\", \"ns2:MaterieelLengte\": \"10050\", \"ns2:MaterieelDeelVertrekPositie\": \"1\", \"ns2:MaterieelDeelVolgordeVertrek\": \"1\", \"ns2:MaterieelNummer\": \"000000-02616-0\", \"ns2:MaterieelDeelEindBestemming\": [{\"@InfoStatus\": \"Gepland\", \"ns2:StationCode\": \"AVAT\", \"ns2:Type\": \"0\", \"ns2:KorteNaam\": \"Vathorst\", \"ns2:MiddelNaam\": \"Vathorst\", \"ns2:LangeNaam\": \"Amersfoort Vathorst\", \"ns2:UICCode\": \"8400228\"}, {\"@InfoStatus\": \"Actueel\", \"ns2:StationCode\": \"AVAT\", \"ns2:Type\": \"0\", \"ns2:KorteNaam\": \"Vathorst\", \"ns2:MiddelNaam\": \"Vathorst\", \"ns2:LangeNaam\": \"Amersfoort Vathorst\", \"ns2:UICCode\": \"8400228\"}], \"ns2:PresentatieMaterieelDeelEindBestemming\": {\"ns2:Uitingen\": {\"ns2:Uiting\": \"Amersfoort Vathorst\"}}}, {\"ns2:MaterieelSoort\": \"SLT\", \"ns2:MaterieelAanduiding\": \"4\", \"ns2:MaterieelLengte\": \"6940\", \"ns2:MaterieelDeelVertrekPositie\": \"3\", \"ns2:MaterieelDeelVolgordeVertrek\": \"2\", \"ns2:MaterieelNummer\": \"000000-02411-0\", \"ns2:MaterieelDeelEindBestemming\": [{\"@InfoStatus\": \"Gepland\", \"ns2:StationCode\": \"AVAT\", \"ns2:Type\": \"0\", \"ns2:KorteNaam\": \"Vathorst\", \"ns2:MiddelNaam\": \"Vathorst\", \"ns2:LangeNaam\": \"Amersfoort Vathorst\", \"ns2:UICCode\": \"8400228\"}, {\"@InfoStatus\": \"Actueel\", \"ns2:StationCode\": \"AVAT\", \"ns2:Type\": \"0\", \"ns2:KorteNaam\": \"Vathorst\", \"ns2:MiddelNaam\": \"Vathorst\", \"ns2:LangeNaam\": \"Amersfoort Vathorst\", \"ns2:UICCode\": \"8400228\"}], \"ns2:PresentatieMaterieelDeelEindBestemming\": {\"ns2:Uitingen\": {\"ns2:Uiting\": \"Amersfoort Vathorst\"}}}]}, \"ns2:Wijziging\": {\"ns2:WijzigingType\": \"40\"}}}}}}')\n",
      "(None, u'{\"ns1:PutReisInformatieBoodschapIn\": {\"@xmlns:ns1\": \"urn:ndov:cdm:trein:reisinformatie:messages:5\", \"@xmlns:ns2\": \"urn:ndov:cdm:trein:reisinformatie:data:4\", \"ns2:ReisInformatieProductDVS\": {\"@TimeStamp\": \"2020-05-13T08:05:47.818Z\", \"@Versie\": \"6.2\", \"ns2:RIPAdministratie\": {\"ns2:ReisInformatieProductID\": \"2005131005472400002\", \"ns2:AbonnementId\": \"54\", \"ns2:ReisInformatieTijdstip\": \"2020-05-13T08:06:00.000Z\"}, \"ns2:DynamischeVertrekStaat\": {\"ns2:RitId\": \"8025\", \"ns2:RitDatum\": \"2020-05-13\", \"ns2:RitStation\": {\"ns2:StationCode\": \"OMN\", \"ns2:Type\": \"3\", \"ns2:KorteNaam\": \"Ommen\", \"ns2:MiddelNaam\": \"Ommen\", \"ns2:LangeNaam\": \"Ommen\", \"ns2:UICCode\": \"8400487\"}, \"ns2:Trein\": {\"ns2:TreinNummer\": \"8025\", \"ns2:TreinSoort\": {\"@Code\": \"ST\", \"#text\": \"Stoptrein\"}, \"ns2:TreinFormule\": \"1\", \"ns2:TreinStatus\": \"2\", \"ns2:Vervoerder\": \"Blauwnet\", \"ns2:Reserveren\": \"N\", \"ns2:Toeslag\": \"N\", \"ns2:NietInstappen\": \"N\", \"ns2:AchterBlijvenAchtersteTreinDeel\": \"N\", \"ns2:RangeerBeweging\": \"N\", \"ns2:SpeciaalKaartje\": \"N\", \"ns2:TreinEindBestemming\": [{\"@InfoStatus\": \"Gepland\", \"ns2:StationCode\": \"EMN\", \"ns2:Type\": \"2\", \"ns2:KorteNaam\": \"Emmen\", \"ns2:MiddelNaam\": \"Emmen\", \"ns2:LangeNaam\": \"Emmen\", \"ns2:UICCode\": \"8400208\"}, {\"@InfoStatus\": \"Actueel\", \"ns2:StationCode\": \"EMN\", \"ns2:Type\": \"2\", \"ns2:KorteNaam\": \"Emmen\", \"ns2:MiddelNaam\": \"Emmen\", \"ns2:LangeNaam\": \"Emmen\", \"ns2:UICCode\": \"8400208\"}], \"ns2:PresentatieTreinEindBestemming\": {\"ns2:Uitingen\": {\"ns2:Uiting\": \"Emmen\"}}, \"ns2:VertrekTijd\": [{\"@InfoStatus\": \"Gepland\", \"#text\": \"2020-05-13T08:06:00.000Z\"}, {\"@InfoStatus\": \"Actueel\", \"#text\": \"2020-05-13T08:07:56.000Z\"}], \"ns2:ExacteVertrekVertraging\": \"PT1M56S\", \"ns2:PresentatieVertrekVertraging\": {\"ns2:Uitingen\": {\"ns2:Uiting\": \"+1 min.\"}}, \"ns2:GedempteVertrekVertraging\": \"PT0S\", \"ns2:TreinVertrekSpoor\": [{\"@InfoStatus\": \"Gepland\", \"ns2:SpoorNummer\": \"2\"}, {\"@InfoStatus\": \"Actueel\", \"ns2:SpoorNummer\": \"2\"}], \"ns2:PresentatieTreinVertrekSpoor\": {\"ns2:Uitingen\": {\"ns2:Uiting\": \"2\"}}, \"ns2:VertrekRichting\": \"B\", \"ns2:AfstandPerronEindKopVertrekTrein\": \"0\", \"ns2:VerkorteRoute\": [{\"@InfoStatus\": \"Gepland\", \"ns2:Station\": [{\"ns2:StationCode\": \"MRB\", \"ns2:Type\": \"3\", \"ns2:KorteNaam\": \"Mari\\\\u00ebnberg\", \"ns2:MiddelNaam\": \"Mari\\\\u00ebnberg\", \"ns2:LangeNaam\": \"Mari\\\\u00ebnberg\", \"ns2:UICCode\": \"8400428\"}, {\"ns2:StationCode\": \"CO\", \"ns2:Type\": \"3\", \"ns2:KorteNaam\": \"Coevorden\", \"ns2:MiddelNaam\": \"Coevorden\", \"ns2:LangeNaam\": \"Coevorden\", \"ns2:UICCode\": \"8400153\"}]}, {\"@InfoStatus\": \"Actueel\", \"ns2:Station\": [{\"ns2:StationCode\": \"MRB\", \"ns2:Type\": \"3\", \"ns2:KorteNaam\": \"Mari\\\\u00ebnberg\", \"ns2:MiddelNaam\": \"Mari\\\\u00ebnberg\", \"ns2:LangeNaam\": \"Mari\\\\u00ebnberg\", \"ns2:UICCode\": \"8400428\"}, {\"ns2:StationCode\": \"CO\", \"ns2:Type\": \"3\", \"ns2:KorteNaam\": \"Coevorden\", \"ns2:MiddelNaam\": \"Coevorden\", \"ns2:LangeNaam\": \"Coevorden\", \"ns2:UICCode\": \"8400153\"}]}], \"ns2:PresentatieVerkorteRoute\": {\"ns2:Uitingen\": {\"ns2:Uiting\": \"Mari\\\\u00ebnberg, Coevorden\"}}, \"ns2:TreinVleugel\": {\"ns2:TreinVleugelVertrekSpoor\": [{\"@InfoStatus\": \"Gepland\", \"ns2:SpoorNummer\": \"2\"}, {\"@InfoStatus\": \"Actueel\", \"ns2:SpoorNummer\": \"2\"}], \"ns2:PresentatieTreinVleugelVertrekSpoor\": {\"ns2:Uitingen\": {\"ns2:Uiting\": \"2\"}}, \"ns2:TreinVleugelEindBestemming\": [{\"@InfoStatus\": \"Gepland\", \"ns2:StationCode\": \"EMN\", \"ns2:Type\": \"2\", \"ns2:KorteNaam\": \"Emmen\", \"ns2:MiddelNaam\": \"Emmen\", \"ns2:LangeNaam\": \"Emmen\", \"ns2:UICCode\": \"8400208\"}, {\"@InfoStatus\": \"Actueel\", \"ns2:StationCode\": \"EMN\", \"ns2:Type\": \"2\", \"ns2:KorteNaam\": \"Emmen\", \"ns2:MiddelNaam\": \"Emmen\", \"ns2:LangeNaam\": \"Emmen\", \"ns2:UICCode\": \"8400208\"}], \"ns2:PresentatieTreinVleugelEindBestemming\": {\"ns2:Uitingen\": {\"ns2:Uiting\": \"Emmen\"}}, \"ns2:StopStations\": [{\"@InfoStatus\": \"Gepland\", \"ns2:Station\": [{\"ns2:StationCode\": \"MRB\", \"ns2:Type\": \"3\", \"ns2:KorteNaam\": \"Mari\\\\u00ebnberg\", \"ns2:MiddelNaam\": \"Mari\\\\u00ebnberg\", \"ns2:LangeNaam\": \"Mari\\\\u00ebnberg\", \"ns2:UICCode\": \"8400428\"}, {\"ns2:StationCode\": \"HDB\", \"ns2:Type\": \"2\", \"ns2:KorteNaam\": \"Hardenberg\", \"ns2:MiddelNaam\": \"Hardenberg\", \"ns2:LangeNaam\": \"Hardenberg\", \"ns2:UICCode\": \"8400293\"}, {\"ns2:StationCode\": \"GBG\", \"ns2:Type\": \"0\", \"ns2:KorteNaam\": \"Gramsbergn\", \"ns2:MiddelNaam\": \"Gramsbergen\", \"ns2:LangeNaam\": \"Gramsbergen\", \"ns2:UICCode\": \"8400259\"}, {\"ns2:StationCode\": \"CO\", \"ns2:Type\": \"3\", \"ns2:KorteNaam\": \"Coevorden\", \"ns2:MiddelNaam\": \"Coevorden\", \"ns2:LangeNaam\": \"Coevorden\", \"ns2:UICCode\": \"8400153\"}, {\"ns2:StationCode\": \"DLN\", \"ns2:Type\": \"0\", \"ns2:KorteNaam\": \"Dalen\", \"ns2:MiddelNaam\": \"Dalen\", \"ns2:LangeNaam\": \"Dalen\", \"ns2:UICCode\": \"8400161\"}, {\"ns2:StationCode\": \"NA\", \"ns2:Type\": \"2\", \"ns2:KorteNaam\": \"Nw A\\'dam\", \"ns2:MiddelNaam\": \"Nw. Amsterdam\", \"ns2:LangeNaam\": \"Nieuw Amsterdam\", \"ns2:UICCode\": \"8400454\"}, {\"ns2:StationCode\": \"EMNZ\", \"ns2:Type\": \"2\", \"ns2:KorteNaam\": \"Emmen Z\", \"ns2:MiddelNaam\": \"Emmen Z.\", \"ns2:LangeNaam\": \"Emmen Zuid\", \"ns2:UICCode\": \"8400407\"}, {\"ns2:StationCode\": \"EMN\", \"ns2:Type\": \"2\", \"ns2:KorteNaam\": \"Emmen\", \"ns2:MiddelNaam\": \"Emmen\", \"ns2:LangeNaam\": \"Emmen\", \"ns2:UICCode\": \"8400208\"}]}, {\"@InfoStatus\": \"Actueel\", \"ns2:Station\": [{\"ns2:StationCode\": \"MRB\", \"ns2:Type\": \"3\", \"ns2:KorteNaam\": \"Mari\\\\u00ebnberg\", \"ns2:MiddelNaam\": \"Mari\\\\u00ebnberg\", \"ns2:LangeNaam\": \"Mari\\\\u00ebnberg\", \"ns2:UICCode\": \"8400428\"}, {\"ns2:StationCode\": \"HDB\", \"ns2:Type\": \"2\", \"ns2:KorteNaam\": \"Hardenberg\", \"ns2:MiddelNaam\": \"Hardenberg\", \"ns2:LangeNaam\": \"Hardenberg\", \"ns2:UICCode\": \"8400293\"}, {\"ns2:StationCode\": \"GBG\", \"ns2:Type\": \"0\", \"ns2:KorteNaam\": \"Gramsbergn\", \"ns2:MiddelNaam\": \"Gramsbergen\", \"ns2:LangeNaam\": \"Gramsbergen\", \"ns2:UICCode\": \"8400259\"}, {\"ns2:StationCode\": \"CO\", \"ns2:Type\": \"3\", \"ns2:KorteNaam\": \"Coevorden\", \"ns2:MiddelNaam\": \"Coevorden\", \"ns2:LangeNaam\": \"Coevorden\", \"ns2:UICCode\": \"8400153\"}, {\"ns2:StationCode\": \"DLN\", \"ns2:Type\": \"0\", \"ns2:KorteNaam\": \"Dalen\", \"ns2:MiddelNaam\": \"Dalen\", \"ns2:LangeNaam\": \"Dalen\", \"ns2:UICCode\": \"8400161\"}, {\"ns2:StationCode\": \"NA\", \"ns2:Type\": \"2\", \"ns2:KorteNaam\": \"Nw A\\'dam\", \"ns2:MiddelNaam\": \"Nw. Amsterdam\", \"ns2:LangeNaam\": \"Nieuw Amsterdam\", \"ns2:UICCode\": \"8400454\"}, {\"ns2:StationCode\": \"EMNZ\", \"ns2:Type\": \"2\", \"ns2:KorteNaam\": \"Emmen Z\", \"ns2:MiddelNaam\": \"Emmen Z.\", \"ns2:LangeNaam\": \"Emmen Zuid\", \"ns2:UICCode\": \"8400407\"}, {\"ns2:StationCode\": \"EMN\", \"ns2:Type\": \"2\", \"ns2:KorteNaam\": \"Emmen\", \"ns2:MiddelNaam\": \"Emmen\", \"ns2:LangeNaam\": \"Emmen\", \"ns2:UICCode\": \"8400208\"}]}], \"ns2:MaterieelDeelDVS\": {\"ns2:MaterieelSoort\": \"GTW-E-ARR\", \"ns2:MaterieelAanduiding\": \"2/8\", \"ns2:MaterieelLengte\": \"5600\", \"ns2:MaterieelDeelEindBestemming\": [{\"@InfoStatus\": \"Gepland\", \"ns2:StationCode\": \"EMN\", \"ns2:Type\": \"2\", \"ns2:KorteNaam\": \"Emmen\", \"ns2:MiddelNaam\": \"Emmen\", \"ns2:LangeNaam\": \"Emmen\", \"ns2:UICCode\": \"8400208\"}, {\"@InfoStatus\": \"Actueel\", \"ns2:StationCode\": \"EMN\", \"ns2:Type\": \"2\", \"ns2:KorteNaam\": \"Emmen\", \"ns2:MiddelNaam\": \"Emmen\", \"ns2:LangeNaam\": \"Emmen\", \"ns2:UICCode\": \"8400208\"}], \"ns2:PresentatieMaterieelDeelEindBestemming\": {\"ns2:Uitingen\": {\"ns2:Uiting\": \"Emmen\"}}}}, \"ns2:Wijziging\": [{\"ns2:WijzigingType\": \"10\", \"ns2:PresentatieWijziging\": {\"ns2:Uitingen\": [{\"@Taal\": \"nl\", \"ns2:Uiting\": {\"@Prioriteit\": \"10\", \"#text\": \"Later vertrek\"}}, {\"@Taal\": \"en\", \"ns2:Uiting\": {\"@Prioriteit\": \"10\", \"#text\": \"Delayed\"}}]}}, {\"ns2:WijzigingType\": \"40\"}]}, \"ns2:PresentatieOpmerkingen\": {\"ns2:Uitingen\": [{\"@Taal\": \"nl\", \"ns2:Uiting\": {\"@Prioriteit\": \"20\", \"@ReferentieType\": \"Wijziging\", \"@ReferentieWaarde\": \"10\", \"#text\": \"Later vertrek\"}}, {\"@Taal\": \"en\", \"ns2:Uiting\": {\"@Prioriteit\": \"20\", \"@ReferentieType\": \"Wijziging\", \"@ReferentieWaarde\": \"10\", \"#text\": \"Delayed\"}}]}}}}}')\n",
      "(None, u'{\"ns1:PutReisInformatieBoodschapIn\": {\"@xmlns:ns1\": \"urn:ndov:cdm:trein:reisinformatie:messages:5\", \"@xmlns:ns2\": \"urn:ndov:cdm:trein:reisinformatie:data:4\", \"ns2:ReisInformatieProductDVS\": {\"@TimeStamp\": \"2020-05-13T08:05:47.846Z\", \"@Versie\": \"6.2\", \"ns2:RIPAdministratie\": {\"ns2:ReisInformatieProductID\": \"2005131005472400005\", \"ns2:AbonnementId\": \"54\", \"ns2:ReisInformatieTijdstip\": \"2020-05-13T08:05:00.000Z\"}, \"ns2:DynamischeVertrekStaat\": {\"ns2:RitId\": \"5137\", \"ns2:RitDatum\": \"2020-05-13\", \"ns2:RitStation\": {\"ns2:StationCode\": \"RSW\", \"ns2:Type\": \"0\", \"ns2:KorteNaam\": \"Rijswijk\", \"ns2:MiddelNaam\": \"Rijswijk\", \"ns2:LangeNaam\": \"Rijswijk\", \"ns2:UICCode\": \"8400505\"}, \"ns2:Trein\": {\"ns2:TreinNummer\": \"5137\", \"ns2:TreinSoort\": {\"@Code\": \"SPR\", \"#text\": \"Sprinter\"}, \"ns2:TreinFormule\": \"1\", \"ns2:TreinStatus\": \"5\", \"ns2:Vervoerder\": \"NS\", \"ns2:Reserveren\": \"N\", \"ns2:Toeslag\": \"N\", \"ns2:NietInstappen\": \"N\", \"ns2:AchterBlijvenAchtersteTreinDeel\": \"N\", \"ns2:RangeerBeweging\": \"N\", \"ns2:SpeciaalKaartje\": \"N\", \"ns2:TreinEindBestemming\": [{\"@InfoStatus\": \"Gepland\", \"ns2:StationCode\": \"DDR\", \"ns2:Type\": \"5\", \"ns2:KorteNaam\": \"Dordrecht\", \"ns2:MiddelNaam\": \"Dordrecht\", \"ns2:LangeNaam\": \"Dordrecht\", \"ns2:UICCode\": \"8400180\"}, {\"@InfoStatus\": \"Actueel\", \"ns2:StationCode\": \"DDR\", \"ns2:Type\": \"5\", \"ns2:KorteNaam\": \"Dordrecht\", \"ns2:MiddelNaam\": \"Dordrecht\", \"ns2:LangeNaam\": \"Dordrecht\", \"ns2:UICCode\": \"8400180\"}], \"ns2:PresentatieTreinEindBestemming\": {\"ns2:Uitingen\": {\"ns2:Uiting\": \"Dordrecht\"}}, \"ns2:VertrekTijd\": [{\"@InfoStatus\": \"Gepland\", \"#text\": \"2020-05-13T08:05:00.000Z\"}, {\"@InfoStatus\": \"Actueel\", \"#text\": \"2020-05-13T08:05:00.000Z\"}], \"ns2:ExacteVertrekVertraging\": \"PT0S\", \"ns2:GedempteVertrekVertraging\": \"PT0S\", \"ns2:TreinVertrekSpoor\": [{\"@InfoStatus\": \"Gepland\", \"ns2:SpoorNummer\": \"1\"}, {\"@InfoStatus\": \"Actueel\", \"ns2:SpoorNummer\": \"1\"}], \"ns2:PresentatieTreinVertrekSpoor\": {\"ns2:Uitingen\": {\"ns2:Uiting\": \"1\"}}, \"ns2:VertrekRichting\": \"B\", \"ns2:AfstandPerronEindKopVertrekTrein\": \"0\", \"ns2:VerkorteRoute\": [{\"@InfoStatus\": \"Gepland\", \"ns2:Station\": [{\"ns2:StationCode\": \"DT\", \"ns2:Type\": \"5\", \"ns2:KorteNaam\": \"Delft\", \"ns2:MiddelNaam\": \"Delft\", \"ns2:LangeNaam\": \"Delft\", \"ns2:UICCode\": \"8400170\"}, {\"ns2:StationCode\": \"RTD\", \"ns2:Type\": \"6\", \"ns2:KorteNaam\": \"Rotterdm C\", \"ns2:MiddelNaam\": \"Rotterdam C.\", \"ns2:LangeNaam\": \"Rotterdam Centraal\", \"ns2:UICCode\": \"8400530\"}]}, {\"@InfoStatus\": \"Actueel\", \"ns2:Station\": [{\"ns2:StationCode\": \"DT\", \"ns2:Type\": \"5\", \"ns2:KorteNaam\": \"Delft\", \"ns2:MiddelNaam\": \"Delft\", \"ns2:LangeNaam\": \"Delft\", \"ns2:UICCode\": \"8400170\"}, {\"ns2:StationCode\": \"RTD\", \"ns2:Type\": \"6\", \"ns2:KorteNaam\": \"Rotterdm C\", \"ns2:MiddelNaam\": \"Rotterdam C.\", \"ns2:LangeNaam\": \"Rotterdam Centraal\", \"ns2:UICCode\": \"8400530\"}]}], \"ns2:PresentatieVerkorteRoute\": {\"ns2:Uitingen\": {\"ns2:Uiting\": \"Delft, Rotterdam C.\"}}, \"ns2:TreinVleugel\": {\"ns2:TreinVleugelVertrekSpoor\": [{\"@InfoStatus\": \"Gepland\", \"ns2:SpoorNummer\": \"1\"}, {\"@InfoStatus\": \"Actueel\", \"ns2:SpoorNummer\": \"1\"}], \"ns2:PresentatieTreinVleugelVertrekSpoor\": {\"ns2:Uitingen\": {\"ns2:Uiting\": \"1\"}}, \"ns2:TreinVleugelEindBestemming\": [{\"@InfoStatus\": \"Gepland\", \"ns2:StationCode\": \"DDR\", \"ns2:Type\": \"5\", \"ns2:KorteNaam\": \"Dordrecht\", \"ns2:MiddelNaam\": \"Dordrecht\", \"ns2:LangeNaam\": \"Dordrecht\", \"ns2:UICCode\": \"8400180\"}, {\"@InfoStatus\": \"Actueel\", \"ns2:StationCode\": \"DDR\", \"ns2:Type\": \"5\", \"ns2:KorteNaam\": \"Dordrecht\", \"ns2:MiddelNaam\": \"Dordrecht\", \"ns2:LangeNaam\": \"Dordrecht\", \"ns2:UICCode\": \"8400180\"}], \"ns2:PresentatieTreinVleugelEindBestemming\": {\"ns2:Uitingen\": {\"ns2:Uiting\": \"Dordrecht\"}}, \"ns2:StopStations\": [{\"@InfoStatus\": \"Gepland\", \"ns2:Station\": [{\"ns2:StationCode\": \"DT\", \"ns2:Type\": \"5\", \"ns2:KorteNaam\": \"Delft\", \"ns2:MiddelNaam\": \"Delft\", \"ns2:LangeNaam\": \"Delft\", \"ns2:UICCode\": \"8400170\"}, {\"ns2:StationCode\": \"DTCP\", \"ns2:Type\": \"0\", \"ns2:KorteNaam\": \"Delft Camp\", \"ns2:MiddelNaam\": \"Delft Campus\", \"ns2:LangeNaam\": \"Delft Campus\", \"ns2:UICCode\": \"8400166\"}, {\"ns2:StationCode\": \"SDM\", \"ns2:Type\": \"0\", \"ns2:KorteNaam\": \"Schiedam C\", \"ns2:MiddelNaam\": \"Schiedam C.\", \"ns2:LangeNaam\": \"Schiedam Centrum\", \"ns2:UICCode\": \"8400553\"}, {\"ns2:StationCode\": \"RTD\", \"ns2:Type\": \"6\", \"ns2:KorteNaam\": \"Rotterdm C\", \"ns2:MiddelNaam\": \"Rotterdam C.\", \"ns2:LangeNaam\": \"Rotterdam Centraal\", \"ns2:UICCode\": \"8400530\"}, {\"ns2:StationCode\": \"RTB\", \"ns2:Type\": \"0\", \"ns2:KorteNaam\": \"Blaak\", \"ns2:MiddelNaam\": \"Blaak\", \"ns2:LangeNaam\": \"Rotterdam Blaak\", \"ns2:UICCode\": \"8400529\"}, {\"ns2:StationCode\": \"RTZ\", \"ns2:Type\": \"0\", \"ns2:KorteNaam\": \"Rotterdm Z\", \"ns2:MiddelNaam\": \"Rotterdam Z.\", \"ns2:LangeNaam\": \"Rotterdam Zuid\", \"ns2:UICCode\": \"8400533\"}, {\"ns2:StationCode\": \"RLB\", \"ns2:Type\": \"0\", \"ns2:KorteNaam\": \"Lombardije\", \"ns2:MiddelNaam\": \"Lombardijen\", \"ns2:LangeNaam\": \"Rotterdam Lombardijen\", \"ns2:UICCode\": \"8400542\"}, {\"ns2:StationCode\": \"BRD\", \"ns2:Type\": \"0\", \"ns2:KorteNaam\": \"Barendrcht\", \"ns2:MiddelNaam\": \"Barendrecht\", \"ns2:LangeNaam\": \"Barendrecht\", \"ns2:UICCode\": \"8400090\"}, {\"ns2:StationCode\": \"ZWD\", \"ns2:Type\": \"0\", \"ns2:KorteNaam\": \"Zwijndrcht\", \"ns2:MiddelNaam\": \"Zwijndrecht\", \"ns2:LangeNaam\": \"Zwijndrecht\", \"ns2:UICCode\": \"8400752\"}, {\"ns2:StationCode\": \"DDR\", \"ns2:Type\": \"5\", \"ns2:KorteNaam\": \"Dordrecht\", \"ns2:MiddelNaam\": \"Dordrecht\", \"ns2:LangeNaam\": \"Dordrecht\", \"ns2:UICCode\": \"8400180\"}]}, {\"@InfoStatus\": \"Actueel\", \"ns2:Station\": [{\"ns2:StationCode\": \"DT\", \"ns2:Type\": \"5\", \"ns2:KorteNaam\": \"Delft\", \"ns2:MiddelNaam\": \"Delft\", \"ns2:LangeNaam\": \"Delft\", \"ns2:UICCode\": \"8400170\"}, {\"ns2:StationCode\": \"DTCP\", \"ns2:Type\": \"0\", \"ns2:KorteNaam\": \"Delft Camp\", \"ns2:MiddelNaam\": \"Delft Campus\", \"ns2:LangeNaam\": \"Delft Campus\", \"ns2:UICCode\": \"8400166\"}, {\"ns2:StationCode\": \"SDM\", \"ns2:Type\": \"0\", \"ns2:KorteNaam\": \"Schiedam C\", \"ns2:MiddelNaam\": \"Schiedam C.\", \"ns2:LangeNaam\": \"Schiedam Centrum\", \"ns2:UICCode\": \"8400553\"}, {\"ns2:StationCode\": \"RTD\", \"ns2:Type\": \"6\", \"ns2:KorteNaam\": \"Rotterdm C\", \"ns2:MiddelNaam\": \"Rotterdam C.\", \"ns2:LangeNaam\": \"Rotterdam Centraal\", \"ns2:UICCode\": \"8400530\"}, {\"ns2:StationCode\": \"RTB\", \"ns2:Type\": \"0\", \"ns2:KorteNaam\": \"Blaak\", \"ns2:MiddelNaam\": \"Blaak\", \"ns2:LangeNaam\": \"Rotterdam Blaak\", \"ns2:UICCode\": \"8400529\"}, {\"ns2:StationCode\": \"RTZ\", \"ns2:Type\": \"0\", \"ns2:KorteNaam\": \"Rotterdm Z\", \"ns2:MiddelNaam\": \"Rotterdam Z.\", \"ns2:LangeNaam\": \"Rotterdam Zuid\", \"ns2:UICCode\": \"8400533\"}, {\"ns2:StationCode\": \"RLB\", \"ns2:Type\": \"0\", \"ns2:KorteNaam\": \"Lombardije\", \"ns2:MiddelNaam\": \"Lombardijen\", \"ns2:LangeNaam\": \"Rotterdam Lombardijen\", \"ns2:UICCode\": \"8400542\"}, {\"ns2:StationCode\": \"BRD\", \"ns2:Type\": \"0\", \"ns2:KorteNaam\": \"Barendrcht\", \"ns2:MiddelNaam\": \"Barendrecht\", \"ns2:LangeNaam\": \"Barendrecht\", \"ns2:UICCode\": \"8400090\"}, {\"ns2:StationCode\": \"ZWD\", \"ns2:Type\": \"0\", \"ns2:KorteNaam\": \"Zwijndrcht\", \"ns2:MiddelNaam\": \"Zwijndrecht\", \"ns2:LangeNaam\": \"Zwijndrecht\", \"ns2:UICCode\": \"8400752\"}, {\"ns2:StationCode\": \"DDR\", \"ns2:Type\": \"5\", \"ns2:KorteNaam\": \"Dordrecht\", \"ns2:MiddelNaam\": \"Dordrecht\", \"ns2:LangeNaam\": \"Dordrecht\", \"ns2:UICCode\": \"8400180\"}]}], \"ns2:MaterieelDeelDVS\": [{\"ns2:MaterieelSoort\": \"SGMM\", \"ns2:MaterieelAanduiding\": \"3\", \"ns2:MaterieelLengte\": \"7860\", \"ns2:MaterieelDeelVertrekPositie\": \"1\", \"ns2:MaterieelDeelVolgordeVertrek\": \"1\", \"ns2:MaterieelNummer\": \"000000-02980-0\", \"ns2:MaterieelDeelEindBestemming\": [{\"@InfoStatus\": \"Gepland\", \"ns2:StationCode\": \"DDR\", \"ns2:Type\": \"5\", \"ns2:KorteNaam\": \"Dordrecht\", \"ns2:MiddelNaam\": \"Dordrecht\", \"ns2:LangeNaam\": \"Dordrecht\", \"ns2:UICCode\": \"8400180\"}, {\"@InfoStatus\": \"Actueel\", \"ns2:StationCode\": \"DDR\", \"ns2:Type\": \"5\", \"ns2:KorteNaam\": \"Dordrecht\", \"ns2:MiddelNaam\": \"Dordrecht\", \"ns2:LangeNaam\": \"Dordrecht\", \"ns2:UICCode\": \"8400180\"}], \"ns2:PresentatieMaterieelDeelEindBestemming\": {\"ns2:Uitingen\": {\"ns2:Uiting\": \"Dordrecht\"}}}, {\"ns2:MaterieelSoort\": \"SGMM\", \"ns2:MaterieelAanduiding\": \"2\", \"ns2:MaterieelLengte\": \"5220\", \"ns2:MaterieelDeelVertrekPositie\": \"3\", \"ns2:MaterieelDeelVolgordeVertrek\": \"2\", \"ns2:MaterieelNummer\": \"000000-02113-0\", \"ns2:MaterieelDeelEindBestemming\": [{\"@InfoStatus\": \"Gepland\", \"ns2:StationCode\": \"DDR\", \"ns2:Type\": \"5\", \"ns2:KorteNaam\": \"Dordrecht\", \"ns2:MiddelNaam\": \"Dordrecht\", \"ns2:LangeNaam\": \"Dordrecht\", \"ns2:UICCode\": \"8400180\"}, {\"@InfoStatus\": \"Actueel\", \"ns2:StationCode\": \"DDR\", \"ns2:Type\": \"5\", \"ns2:KorteNaam\": \"Dordrecht\", \"ns2:MiddelNaam\": \"Dordrecht\", \"ns2:LangeNaam\": \"Dordrecht\", \"ns2:UICCode\": \"8400180\"}], \"ns2:PresentatieMaterieelDeelEindBestemming\": {\"ns2:Uitingen\": {\"ns2:Uiting\": \"Dordrecht\"}}}]}, \"ns2:Wijziging\": {\"ns2:WijzigingType\": \"40\"}}}}}}')\n",
      "(None, u'{\"ns1:PutReisInformatieBoodschapIn\": {\"@xmlns:ns1\": \"urn:ndov:cdm:trein:reisinformatie:messages:5\", \"@xmlns:ns2\": \"urn:ndov:cdm:trein:reisinformatie:data:4\", \"ns2:ReisInformatieProductDVS\": {\"@TimeStamp\": \"2020-05-13T08:05:47.885Z\", \"@Versie\": \"6.2\", \"ns2:RIPAdministratie\": {\"ns2:ReisInformatieProductID\": \"2005131005472400008\", \"ns2:AbonnementId\": \"54\", \"ns2:ReisInformatieTijdstip\": \"2020-05-13T08:08:00.000Z\"}, \"ns2:DynamischeVertrekStaat\": {\"ns2:RitId\": \"5229\", \"ns2:RitDatum\": \"2020-05-13\", \"ns2:RitStation\": {\"ns2:StationCode\": \"TB\", \"ns2:Type\": \"5\", \"ns2:KorteNaam\": \"Tilburg\", \"ns2:MiddelNaam\": \"Tilburg\", \"ns2:LangeNaam\": \"Tilburg\", \"ns2:UICCode\": \"8400597\"}, \"ns2:Trein\": {\"ns2:TreinNummer\": \"5229\", \"ns2:TreinSoort\": {\"@Code\": \"SPR\", \"#text\": \"Sprinter\"}, \"ns2:TreinFormule\": \"1\", \"ns2:TreinStatus\": \"2\", \"ns2:Vervoerder\": \"NS\", \"ns2:Reserveren\": \"N\", \"ns2:Toeslag\": \"N\", \"ns2:NietInstappen\": \"N\", \"ns2:AchterBlijvenAchtersteTreinDeel\": \"N\", \"ns2:RangeerBeweging\": \"N\", \"ns2:SpeciaalKaartje\": \"N\", \"ns2:TreinEindBestemming\": [{\"@InfoStatus\": \"Gepland\", \"ns2:StationCode\": \"WT\", \"ns2:Type\": \"4\", \"ns2:KorteNaam\": \"Weert\", \"ns2:MiddelNaam\": \"Weert\", \"ns2:LangeNaam\": \"Weert\", \"ns2:UICCode\": \"8400684\"}, {\"@InfoStatus\": \"Actueel\", \"ns2:StationCode\": \"WT\", \"ns2:Type\": \"4\", \"ns2:KorteNaam\": \"Weert\", \"ns2:MiddelNaam\": \"Weert\", \"ns2:LangeNaam\": \"Weert\", \"ns2:UICCode\": \"8400684\"}], \"ns2:PresentatieTreinEindBestemming\": {\"ns2:Uitingen\": {\"ns2:Uiting\": \"Weert\"}}, \"ns2:VertrekTijd\": [{\"@InfoStatus\": \"Gepland\", \"#text\": \"2020-05-13T08:08:00.000Z\"}, {\"@InfoStatus\": \"Actueel\", \"#text\": \"2020-05-13T08:08:00.000Z\"}], \"ns2:ExacteVertrekVertraging\": \"PT0S\", \"ns2:GedempteVertrekVertraging\": \"PT0S\", \"ns2:TreinVertrekSpoor\": [{\"@InfoStatus\": \"Gepland\", \"ns2:SpoorNummer\": \"1\"}, {\"@InfoStatus\": \"Actueel\", \"ns2:SpoorNummer\": \"1\"}], \"ns2:PresentatieTreinVertrekSpoor\": {\"ns2:Uitingen\": {\"ns2:Uiting\": \"1\"}}, \"ns2:VertrekRichting\": \"B\", \"ns2:AfstandPerronEindKopVertrekTrein\": \"0\", \"ns2:VerkorteRoute\": [{\"@InfoStatus\": \"Gepland\", \"ns2:Station\": [{\"ns2:StationCode\": \"BTL\", \"ns2:Type\": \"1\", \"ns2:KorteNaam\": \"Boxtel\", \"ns2:MiddelNaam\": \"Boxtel\", \"ns2:LangeNaam\": \"Boxtel\", \"ns2:UICCode\": \"8400129\"}, {\"ns2:StationCode\": \"EHV\", \"ns2:Type\": \"6\", \"ns2:KorteNaam\": \"Eindhovn C\", \"ns2:MiddelNaam\": \"Eindhoven C.\", \"ns2:LangeNaam\": \"Eindhoven Centraal\", \"ns2:UICCode\": \"8400206\"}, {\"ns2:StationCode\": \"GP\", \"ns2:Type\": \"1\", \"ns2:KorteNaam\": \"Geldrop\", \"ns2:MiddelNaam\": \"Geldrop\", \"ns2:LangeNaam\": \"Geldrop\", \"ns2:UICCode\": \"8400245\"}]}, {\"@InfoStatus\": \"Actueel\", \"ns2:Station\": [{\"ns2:StationCode\": \"BTL\", \"ns2:Type\": \"1\", \"ns2:KorteNaam\": \"Boxtel\", \"ns2:MiddelNaam\": \"Boxtel\", \"ns2:LangeNaam\": \"Boxtel\", \"ns2:UICCode\": \"8400129\"}, {\"ns2:StationCode\": \"EHV\", \"ns2:Type\": \"6\", \"ns2:KorteNaam\": \"Eindhovn C\", \"ns2:MiddelNaam\": \"Eindhoven C.\", \"ns2:LangeNaam\": \"Eindhoven Centraal\", \"ns2:UICCode\": \"8400206\"}, {\"ns2:StationCode\": \"GP\", \"ns2:Type\": \"1\", \"ns2:KorteNaam\": \"Geldrop\", \"ns2:MiddelNaam\": \"Geldrop\", \"ns2:LangeNaam\": \"Geldrop\", \"ns2:UICCode\": \"8400245\"}]}], \"ns2:PresentatieVerkorteRoute\": {\"ns2:Uitingen\": {\"ns2:Uiting\": \"Boxtel, Eindhoven C., Geldrop\"}}, \"ns2:TreinVleugel\": {\"ns2:TreinVleugelVertrekSpoor\": [{\"@InfoStatus\": \"Gepland\", \"ns2:SpoorNummer\": \"1\"}, {\"@InfoStatus\": \"Actueel\", \"ns2:SpoorNummer\": \"1\"}], \"ns2:PresentatieTreinVleugelVertrekSpoor\": {\"ns2:Uitingen\": {\"ns2:Uiting\": \"1\"}}, \"ns2:TreinVleugelEindBestemming\": [{\"@InfoStatus\": \"Gepland\", \"ns2:StationCode\": \"WT\", \"ns2:Type\": \"4\", \"ns2:KorteNaam\": \"Weert\", \"ns2:MiddelNaam\": \"Weert\", \"ns2:LangeNaam\": \"Weert\", \"ns2:UICCode\": \"8400684\"}, {\"@InfoStatus\": \"Actueel\", \"ns2:StationCode\": \"WT\", \"ns2:Type\": \"4\", \"ns2:KorteNaam\": \"Weert\", \"ns2:MiddelNaam\": \"Weert\", \"ns2:LangeNaam\": \"Weert\", \"ns2:UICCode\": \"8400684\"}], \"ns2:PresentatieTreinVleugelEindBestemming\": {\"ns2:Uitingen\": {\"ns2:Uiting\": \"Weert\"}}, \"ns2:StopStations\": [{\"@InfoStatus\": \"Gepland\", \"ns2:Station\": [{\"ns2:StationCode\": \"OT\", \"ns2:Type\": \"0\", \"ns2:KorteNaam\": \"Oisterwijk\", \"ns2:MiddelNaam\": \"Oisterwijk\", \"ns2:LangeNaam\": \"Oisterwijk\", \"ns2:UICCode\": \"8400482\"}, {\"ns2:StationCode\": \"BTL\", \"ns2:Type\": \"1\", \"ns2:KorteNaam\": \"Boxtel\", \"ns2:MiddelNaam\": \"Boxtel\", \"ns2:LangeNaam\": \"Boxtel\", \"ns2:UICCode\": \"8400129\"}, {\"ns2:StationCode\": \"BET\", \"ns2:Type\": \"0\", \"ns2:KorteNaam\": \"Best\", \"ns2:MiddelNaam\": \"Best\", \"ns2:LangeNaam\": \"Best\", \"ns2:UICCode\": \"8400112\"}, {\"ns2:StationCode\": \"EHS\", \"ns2:Type\": \"0\", \"ns2:KorteNaam\": \"Strijp-S\", \"ns2:MiddelNaam\": \"Strijp-S\", \"ns2:LangeNaam\": \"Eindhoven Strijp-S\", \"ns2:UICCode\": \"8400196\"}, {\"ns2:StationCode\": \"EHV\", \"ns2:Type\": \"6\", \"ns2:KorteNaam\": \"Eindhovn C\", \"ns2:MiddelNaam\": \"Eindhoven C.\", \"ns2:LangeNaam\": \"Eindhoven Centraal\", \"ns2:UICCode\": \"8400206\"}, {\"ns2:StationCode\": \"GP\", \"ns2:Type\": \"1\", \"ns2:KorteNaam\": \"Geldrop\", \"ns2:MiddelNaam\": \"Geldrop\", \"ns2:LangeNaam\": \"Geldrop\", \"ns2:UICCode\": \"8400245\"}, {\"ns2:StationCode\": \"HZE\", \"ns2:Type\": \"0\", \"ns2:KorteNaam\": \"Heeze\", \"ns2:MiddelNaam\": \"Heeze\", \"ns2:LangeNaam\": \"Heeze\", \"ns2:UICCode\": \"8400308\"}, {\"ns2:StationCode\": \"MZ\", \"ns2:Type\": \"0\", \"ns2:KorteNaam\": \"Maarheeze\", \"ns2:MiddelNaam\": \"Maarheeze\", \"ns2:LangeNaam\": \"Maarheeze\", \"ns2:UICCode\": \"8400432\"}, {\"ns2:StationCode\": \"WT\", \"ns2:Type\": \"4\", \"ns2:KorteNaam\": \"Weert\", \"ns2:MiddelNaam\": \"Weert\", \"ns2:LangeNaam\": \"Weert\", \"ns2:UICCode\": \"8400684\"}]}, {\"@InfoStatus\": \"Actueel\", \"ns2:Station\": [{\"ns2:StationCode\": \"OT\", \"ns2:Type\": \"0\", \"ns2:KorteNaam\": \"Oisterwijk\", \"ns2:MiddelNaam\": \"Oisterwijk\", \"ns2:LangeNaam\": \"Oisterwijk\", \"ns2:UICCode\": \"8400482\"}, {\"ns2:StationCode\": \"BTL\", \"ns2:Type\": \"1\", \"ns2:KorteNaam\": \"Boxtel\", \"ns2:MiddelNaam\": \"Boxtel\", \"ns2:LangeNaam\": \"Boxtel\", \"ns2:UICCode\": \"8400129\"}, {\"ns2:StationCode\": \"BET\", \"ns2:Type\": \"0\", \"ns2:KorteNaam\": \"Best\", \"ns2:MiddelNaam\": \"Best\", \"ns2:LangeNaam\": \"Best\", \"ns2:UICCode\": \"8400112\"}, {\"ns2:StationCode\": \"EHS\", \"ns2:Type\": \"0\", \"ns2:KorteNaam\": \"Strijp-S\", \"ns2:MiddelNaam\": \"Strijp-S\", \"ns2:LangeNaam\": \"Eindhoven Strijp-S\", \"ns2:UICCode\": \"8400196\"}, {\"ns2:StationCode\": \"EHV\", \"ns2:Type\": \"6\", \"ns2:KorteNaam\": \"Eindhovn C\", \"ns2:MiddelNaam\": \"Eindhoven C.\", \"ns2:LangeNaam\": \"Eindhoven Centraal\", \"ns2:UICCode\": \"8400206\"}, {\"ns2:StationCode\": \"GP\", \"ns2:Type\": \"1\", \"ns2:KorteNaam\": \"Geldrop\", \"ns2:MiddelNaam\": \"Geldrop\", \"ns2:LangeNaam\": \"Geldrop\", \"ns2:UICCode\": \"8400245\"}, {\"ns2:StationCode\": \"HZE\", \"ns2:Type\": \"0\", \"ns2:KorteNaam\": \"Heeze\", \"ns2:MiddelNaam\": \"Heeze\", \"ns2:LangeNaam\": \"Heeze\", \"ns2:UICCode\": \"8400308\"}, {\"ns2:StationCode\": \"MZ\", \"ns2:Type\": \"0\", \"ns2:KorteNaam\": \"Maarheeze\", \"ns2:MiddelNaam\": \"Maarheeze\", \"ns2:LangeNaam\": \"Maarheeze\", \"ns2:UICCode\": \"8400432\"}, {\"ns2:StationCode\": \"WT\", \"ns2:Type\": \"4\", \"ns2:KorteNaam\": \"Weert\", \"ns2:MiddelNaam\": \"Weert\", \"ns2:LangeNaam\": \"Weert\", \"ns2:UICCode\": \"8400684\"}]}], \"ns2:MaterieelDeelDVS\": [{\"ns2:MaterieelSoort\": \"FLIRT FFF\", \"ns2:MaterieelAanduiding\": \"3\", \"ns2:MaterieelLengte\": \"6320\", \"ns2:MaterieelDeelVertrekPositie\": \"1\", \"ns2:MaterieelDeelVolgordeVertrek\": \"1\", \"ns2:MaterieelNummer\": \"000000-02222-0\", \"ns2:MaterieelDeelEindBestemming\": [{\"@InfoStatus\": \"Gepland\", \"ns2:StationCode\": \"WT\", \"ns2:Type\": \"4\", \"ns2:KorteNaam\": \"Weert\", \"ns2:MiddelNaam\": \"Weert\", \"ns2:LangeNaam\": \"Weert\", \"ns2:UICCode\": \"8400684\"}, {\"@InfoStatus\": \"Actueel\", \"ns2:StationCode\": \"WT\", \"ns2:Type\": \"4\", \"ns2:KorteNaam\": \"Weert\", \"ns2:MiddelNaam\": \"Weert\", \"ns2:LangeNaam\": \"Weert\", \"ns2:UICCode\": \"8400684\"}], \"ns2:PresentatieMaterieelDeelEindBestemming\": {\"ns2:Uitingen\": {\"ns2:Uiting\": \"Weert\"}}}, {\"ns2:MaterieelSoort\": \"FLIRT FFF\", \"ns2:MaterieelAanduiding\": \"4\", \"ns2:MaterieelLengte\": \"8070\", \"ns2:MaterieelDeelVertrekPositie\": \"3\", \"ns2:MaterieelDeelVolgordeVertrek\": \"2\", \"ns2:MaterieelNummer\": \"000000-02508-0\", \"ns2:MaterieelDeelEindBestemming\": [{\"@InfoStatus\": \"Gepland\", \"ns2:StationCode\": \"WT\", \"ns2:Type\": \"4\", \"ns2:KorteNaam\": \"Weert\", \"ns2:MiddelNaam\": \"Weert\", \"ns2:LangeNaam\": \"Weert\", \"ns2:UICCode\": \"8400684\"}, {\"@InfoStatus\": \"Actueel\", \"ns2:StationCode\": \"WT\", \"ns2:Type\": \"4\", \"ns2:KorteNaam\": \"Weert\", \"ns2:MiddelNaam\": \"Weert\", \"ns2:LangeNaam\": \"Weert\", \"ns2:UICCode\": \"8400684\"}], \"ns2:PresentatieMaterieelDeelEindBestemming\": {\"ns2:Uitingen\": {\"ns2:Uiting\": \"Weert\"}}}]}, \"ns2:Wijziging\": {\"ns2:WijzigingType\": \"40\"}}}}}}')\n",
      "(None, u'{\"ns1:PutReisInformatieBoodschapIn\": {\"@xmlns:ns1\": \"urn:ndov:cdm:trein:reisinformatie:messages:5\", \"@xmlns:ns2\": \"urn:ndov:cdm:trein:reisinformatie:data:4\", \"ns2:ReisInformatieProductDVS\": {\"@TimeStamp\": \"2020-05-13T08:05:51.041Z\", \"@Versie\": \"6.2\", \"ns2:RIPAdministratie\": {\"ns2:ReisInformatieProductID\": \"2005131005512400002\", \"ns2:AbonnementId\": \"54\", \"ns2:ReisInformatieTijdstip\": \"2020-05-13T08:05:00.000Z\"}, \"ns2:DynamischeVertrekStaat\": {\"ns2:RitId\": \"2439\", \"ns2:RitDatum\": \"2020-05-13\", \"ns2:RitStation\": {\"ns2:StationCode\": \"ASDZ\", \"ns2:Type\": \"4\", \"ns2:KorteNaam\": \"Amsterdm Z\", \"ns2:MiddelNaam\": \"Amsterdam Z.\", \"ns2:LangeNaam\": \"Amsterdam Zuid\", \"ns2:UICCode\": \"8400061\"}, \"ns2:Trein\": {\"ns2:TreinNummer\": \"2439\", \"ns2:TreinSoort\": {\"@Code\": \"IC\", \"#text\": \"Intercity\"}, \"ns2:TreinFormule\": \"3\", \"ns2:TreinStatus\": \"5\", \"ns2:Vervoerder\": \"NS\", \"ns2:Reserveren\": \"N\", \"ns2:Toeslag\": \"N\", \"ns2:NietInstappen\": \"N\", \"ns2:AchterBlijvenAchtersteTreinDeel\": \"N\", \"ns2:RangeerBeweging\": \"N\", \"ns2:SpeciaalKaartje\": \"N\", \"ns2:ReisTip\": {\"ns2:ReisTipStation\": [{\"ns2:StationCode\": \"LAA\", \"ns2:Type\": \"1\", \"ns2:KorteNaam\": \"Laan v NOI\", \"ns2:MiddelNaam\": \"Laan v NOI\", \"ns2:LangeNaam\": \"Den Haag Laan v NOI\", \"ns2:UICCode\": \"8400380\"}, {\"ns2:StationCode\": \"SDM\", \"ns2:Type\": \"0\", \"ns2:KorteNaam\": \"Schiedam C\", \"ns2:MiddelNaam\": \"Schiedam C.\", \"ns2:LangeNaam\": \"Schiedam Centrum\", \"ns2:UICCode\": \"8400553\"}], \"ns2:ReisTipCode\": \"STO\", \"ns2:PresentatieReisTip\": {\"ns2:Uitingen\": [{\"@Taal\": \"nl\", \"ns2:Uiting\": {\"@Prioriteit\": \"7\", \"#text\": \"Stopt ook in Laan v NOI, Schiedam C.\"}}, {\"@Taal\": \"en\", \"ns2:Uiting\": {\"@Prioriteit\": \"7\", \"#text\": \"Also stopping in Laan v NOI, Schiedam C.\"}}]}}, \"ns2:TreinEindBestemming\": [{\"@InfoStatus\": \"Gepland\", \"ns2:StationCode\": \"DDR\", \"ns2:Type\": \"5\", \"ns2:KorteNaam\": \"Dordrecht\", \"ns2:MiddelNaam\": \"Dordrecht\", \"ns2:LangeNaam\": \"Dordrecht\", \"ns2:UICCode\": \"8400180\"}, {\"@InfoStatus\": \"Actueel\", \"ns2:StationCode\": \"DDR\", \"ns2:Type\": \"5\", \"ns2:KorteNaam\": \"Dordrecht\", \"ns2:MiddelNaam\": \"Dordrecht\", \"ns2:LangeNaam\": \"Dordrecht\", \"ns2:UICCode\": \"8400180\"}], \"ns2:PresentatieTreinEindBestemming\": {\"ns2:Uitingen\": {\"ns2:Uiting\": \"Dordrecht\"}}, \"ns2:VertrekTijd\": [{\"@InfoStatus\": \"Gepland\", \"#text\": \"2020-05-13T08:05:00.000Z\"}, {\"@InfoStatus\": \"Actueel\", \"#text\": \"2020-05-13T08:05:31.000Z\"}], \"ns2:ExacteVertrekVertraging\": \"PT31S\", \"ns2:GedempteVertrekVertraging\": \"PT0S\", \"ns2:TreinVertrekSpoor\": [{\"@InfoStatus\": \"Gepland\", \"ns2:SpoorNummer\": \"4\"}, {\"@InfoStatus\": \"Actueel\", \"ns2:SpoorNummer\": \"4\"}], \"ns2:PresentatieTreinVertrekSpoor\": {\"ns2:Uitingen\": {\"ns2:Uiting\": \"4\"}}, \"ns2:VertrekRichting\": \"B\", \"ns2:AfstandPerronEindKopVertrekTrein\": \"0\", \"ns2:VerkorteRoute\": [{\"@InfoStatus\": \"Gepland\", \"ns2:Station\": [{\"ns2:StationCode\": \"SHL\", \"ns2:Type\": \"6\", \"ns2:KorteNaam\": \"Schiphol\", \"ns2:MiddelNaam\": \"Schiphol Airport\", \"ns2:LangeNaam\": \"Schiphol Airport\", \"ns2:UICCode\": \"8400561\"}, {\"ns2:StationCode\": \"LEDN\", \"ns2:Type\": \"5\", \"ns2:KorteNaam\": \"Leiden C\", \"ns2:MiddelNaam\": \"Leiden C.\", \"ns2:LangeNaam\": \"Leiden Centraal\", \"ns2:UICCode\": \"8400390\"}, {\"ns2:StationCode\": \"GV\", \"ns2:Type\": \"5\", \"ns2:KorteNaam\": \"Dn Haag HS\", \"ns2:MiddelNaam\": \"Den Haag HS\", \"ns2:LangeNaam\": \"Den Haag HS\", \"ns2:UICCode\": \"8400280\"}, {\"ns2:StationCode\": \"RTD\", \"ns2:Type\": \"6\", \"ns2:KorteNaam\": \"Rotterdm C\", \"ns2:MiddelNaam\": \"Rotterdam C.\", \"ns2:LangeNaam\": \"Rotterdam Centraal\", \"ns2:UICCode\": \"8400530\"}]}, {\"@InfoStatus\": \"Actueel\", \"ns2:Station\": [{\"ns2:StationCode\": \"SHL\", \"ns2:Type\": \"6\", \"ns2:KorteNaam\": \"Schiphol\", \"ns2:MiddelNaam\": \"Schiphol Airport\", \"ns2:LangeNaam\": \"Schiphol Airport\", \"ns2:UICCode\": \"8400561\"}, {\"ns2:StationCode\": \"LEDN\", \"ns2:Type\": \"5\", \"ns2:KorteNaam\": \"Leiden C\", \"ns2:MiddelNaam\": \"Leiden C.\", \"ns2:LangeNaam\": \"Leiden Centraal\", \"ns2:UICCode\": \"8400390\"}, {\"ns2:StationCode\": \"GV\", \"ns2:Type\": \"5\", \"ns2:KorteNaam\": \"Dn Haag HS\", \"ns2:MiddelNaam\": \"Den Haag HS\", \"ns2:LangeNaam\": \"Den Haag HS\", \"ns2:UICCode\": \"8400280\"}, {\"ns2:StationCode\": \"RTD\", \"ns2:Type\": \"6\", \"ns2:KorteNaam\": \"Rotterdm C\", \"ns2:MiddelNaam\": \"Rotterdam C.\", \"ns2:LangeNaam\": \"Rotterdam Centraal\", \"ns2:UICCode\": \"8400530\"}]}], \"ns2:PresentatieVerkorteRoute\": {\"ns2:Uitingen\": {\"ns2:Uiting\": \"Schiphol Airport, Leiden C., Den Haag HS, Rotterdam C.\"}}, \"ns2:TreinVleugel\": {\"ns2:TreinVleugelVertrekSpoor\": [{\"@InfoStatus\": \"Gepland\", \"ns2:SpoorNummer\": \"4\"}, {\"@InfoStatus\": \"Actueel\", \"ns2:SpoorNummer\": \"4\"}], \"ns2:PresentatieTreinVleugelVertrekSpoor\": {\"ns2:Uitingen\": {\"ns2:Uiting\": \"4\"}}, \"ns2:TreinVleugelEindBestemming\": [{\"@InfoStatus\": \"Gepland\", \"ns2:StationCode\": \"DDR\", \"ns2:Type\": \"5\", \"ns2:KorteNaam\": \"Dordrecht\", \"ns2:MiddelNaam\": \"Dordrecht\", \"ns2:LangeNaam\": \"Dordrecht\", \"ns2:UICCode\": \"8400180\"}, {\"@InfoStatus\": \"Actueel\", \"ns2:StationCode\": \"DDR\", \"ns2:Type\": \"5\", \"ns2:KorteNaam\": \"Dordrecht\", \"ns2:MiddelNaam\": \"Dordrecht\", \"ns2:LangeNaam\": \"Dordrecht\", \"ns2:UICCode\": \"8400180\"}], \"ns2:PresentatieTreinVleugelEindBestemming\": {\"ns2:Uitingen\": {\"ns2:Uiting\": \"Dordrecht\"}}, \"ns2:StopStations\": [{\"@InfoStatus\": \"Gepland\", \"ns2:Station\": [{\"ns2:StationCode\": \"SHL\", \"ns2:Type\": \"6\", \"ns2:KorteNaam\": \"Schiphol\", \"ns2:MiddelNaam\": \"Schiphol Airport\", \"ns2:LangeNaam\": \"Schiphol Airport\", \"ns2:UICCode\": \"8400561\"}, {\"ns2:StationCode\": \"LEDN\", \"ns2:Type\": \"5\", \"ns2:KorteNaam\": \"Leiden C\", \"ns2:MiddelNaam\": \"Leiden C.\", \"ns2:LangeNaam\": \"Leiden Centraal\", \"ns2:UICCode\": \"8400390\"}, {\"ns2:StationCode\": \"LAA\", \"ns2:Type\": \"1\", \"ns2:KorteNaam\": \"Laan v NOI\", \"ns2:MiddelNaam\": \"Laan v NOI\", \"ns2:LangeNaam\": \"Den Haag Laan v NOI\", \"ns2:UICCode\": \"8400380\"}, {\"ns2:StationCode\": \"GV\", \"ns2:Type\": \"5\", \"ns2:KorteNaam\": \"Dn Haag HS\", \"ns2:MiddelNaam\": \"Den Haag HS\", \"ns2:LangeNaam\": \"Den Haag HS\", \"ns2:UICCode\": \"8400280\"}, {\"ns2:StationCode\": \"DT\", \"ns2:Type\": \"5\", \"ns2:KorteNaam\": \"Delft\", \"ns2:MiddelNaam\": \"Delft\", \"ns2:LangeNaam\": \"Delft\", \"ns2:UICCode\": \"8400170\"}, {\"ns2:StationCode\": \"SDM\", \"ns2:Type\": \"0\", \"ns2:KorteNaam\": \"Schiedam C\", \"ns2:MiddelNaam\": \"Schiedam C.\", \"ns2:LangeNaam\": \"Schiedam Centrum\", \"ns2:UICCode\": \"8400553\"}, {\"ns2:StationCode\": \"RTD\", \"ns2:Type\": \"6\", \"ns2:KorteNaam\": \"Rotterdm C\", \"ns2:MiddelNaam\": \"Rotterdam C.\", \"ns2:LangeNaam\": \"Rotterdam Centraal\", \"ns2:UICCode\": \"8400530\"}, {\"ns2:StationCode\": \"RTB\", \"ns2:Type\": \"0\", \"ns2:KorteNaam\": \"Blaak\", \"ns2:MiddelNaam\": \"Blaak\", \"ns2:LangeNaam\": \"Rotterdam Blaak\", \"ns2:UICCode\": \"8400529\"}, {\"ns2:StationCode\": \"DDR\", \"ns2:Type\": \"5\", \"ns2:KorteNaam\": \"Dordrecht\", \"ns2:MiddelNaam\": \"Dordrecht\", \"ns2:LangeNaam\": \"Dordrecht\", \"ns2:UICCode\": \"8400180\"}]}, {\"@InfoStatus\": \"Actueel\", \"ns2:Station\": [{\"ns2:StationCode\": \"SHL\", \"ns2:Type\": \"6\", \"ns2:KorteNaam\": \"Schiphol\", \"ns2:MiddelNaam\": \"Schiphol Airport\", \"ns2:LangeNaam\": \"Schiphol Airport\", \"ns2:UICCode\": \"8400561\"}, {\"ns2:StationCode\": \"LEDN\", \"ns2:Type\": \"5\", \"ns2:KorteNaam\": \"Leiden C\", \"ns2:MiddelNaam\": \"Leiden C.\", \"ns2:LangeNaam\": \"Leiden Centraal\", \"ns2:UICCode\": \"8400390\"}, {\"ns2:StationCode\": \"LAA\", \"ns2:Type\": \"1\", \"ns2:KorteNaam\": \"Laan v NOI\", \"ns2:MiddelNaam\": \"Laan v NOI\", \"ns2:LangeNaam\": \"Den Haag Laan v NOI\", \"ns2:UICCode\": \"8400380\"}, {\"ns2:StationCode\": \"GV\", \"ns2:Type\": \"5\", \"ns2:KorteNaam\": \"Dn Haag HS\", \"ns2:MiddelNaam\": \"Den Haag HS\", \"ns2:LangeNaam\": \"Den Haag HS\", \"ns2:UICCode\": \"8400280\"}, {\"ns2:StationCode\": \"DT\", \"ns2:Type\": \"5\", \"ns2:KorteNaam\": \"Delft\", \"ns2:MiddelNaam\": \"Delft\", \"ns2:LangeNaam\": \"Delft\", \"ns2:UICCode\": \"8400170\"}, {\"ns2:StationCode\": \"SDM\", \"ns2:Type\": \"0\", \"ns2:KorteNaam\": \"Schiedam C\", \"ns2:MiddelNaam\": \"Schiedam C.\", \"ns2:LangeNaam\": \"Schiedam Centrum\", \"ns2:UICCode\": \"8400553\"}, {\"ns2:StationCode\": \"RTD\", \"ns2:Type\": \"6\", \"ns2:KorteNaam\": \"Rotterdm C\", \"ns2:MiddelNaam\": \"Rotterdam C.\", \"ns2:LangeNaam\": \"Rotterdam Centraal\", \"ns2:UICCode\": \"8400530\"}, {\"ns2:StationCode\": \"RTB\", \"ns2:Type\": \"0\", \"ns2:KorteNaam\": \"Blaak\", \"ns2:MiddelNaam\": \"Blaak\", \"ns2:LangeNaam\": \"Rotterdam Blaak\", \"ns2:UICCode\": \"8400529\"}, {\"ns2:StationCode\": \"DDR\", \"ns2:Type\": \"5\", \"ns2:KorteNaam\": \"Dordrecht\", \"ns2:MiddelNaam\": \"Dordrecht\", \"ns2:LangeNaam\": \"Dordrecht\", \"ns2:UICCode\": \"8400180\"}]}], \"ns2:MaterieelDeelDVS\": {\"ns2:MaterieelSoort\": \"VIRM\", \"ns2:MaterieelAanduiding\": \"6\", \"ns2:MaterieelLengte\": \"16210\", \"ns2:MaterieelNummer\": \"000000-08666-0\", \"ns2:MaterieelDeelEindBestemming\": [{\"@InfoStatus\": \"Gepland\", \"ns2:StationCode\": \"DDR\", \"ns2:Type\": \"5\", \"ns2:KorteNaam\": \"Dordrecht\", \"ns2:MiddelNaam\": \"Dordrecht\", \"ns2:LangeNaam\": \"Dordrecht\", \"ns2:UICCode\": \"8400180\"}, {\"@InfoStatus\": \"Actueel\", \"ns2:StationCode\": \"DDR\", \"ns2:Type\": \"5\", \"ns2:KorteNaam\": \"Dordrecht\", \"ns2:MiddelNaam\": \"Dordrecht\", \"ns2:LangeNaam\": \"Dordrecht\", \"ns2:UICCode\": \"8400180\"}], \"ns2:PresentatieMaterieelDeelEindBestemming\": {\"ns2:Uitingen\": {\"ns2:Uiting\": \"Dordrecht\"}}}}, \"ns2:Wijziging\": [{\"ns2:WijzigingType\": \"10\", \"ns2:PresentatieWijziging\": {\"ns2:Uitingen\": [{\"@Taal\": \"nl\", \"ns2:Uiting\": {\"@Prioriteit\": \"10\", \"#text\": \"Later vertrek\"}}, {\"@Taal\": \"en\", \"ns2:Uiting\": {\"@Prioriteit\": \"10\", \"#text\": \"Delayed\"}}]}}, {\"ns2:WijzigingType\": \"40\"}]}, \"ns2:PresentatieOpmerkingen\": {\"ns2:Uitingen\": [{\"@Taal\": \"nl\", \"ns2:Uiting\": [{\"@Prioriteit\": \"13\", \"@ReferentieType\": \"ReisTip\", \"@ReferentieWaarde\": \"STO\", \"#text\": \"Stopt ook in Laan v NOI, Schiedam C.\"}, {\"@Prioriteit\": \"20\", \"@ReferentieType\": \"Wijziging\", \"@ReferentieWaarde\": \"10\", \"#text\": \"Later vertrek\"}]}, {\"@Taal\": \"en\", \"ns2:Uiting\": [{\"@Prioriteit\": \"13\", \"@ReferentieType\": \"ReisTip\", \"@ReferentieWaarde\": \"STO\", \"#text\": \"Also stopping in Laan v NOI, Schiedam C.\"}, {\"@Prioriteit\": \"20\", \"@ReferentieType\": \"Wijziging\", \"@ReferentieWaarde\": \"10\", \"#text\": \"Delayed\"}]}]}}}}}')\n",
      "(None, u'{\"ns1:PutReisInformatieBoodschapIn\": {\"@xmlns:ns1\": \"urn:ndov:cdm:trein:reisinformatie:messages:5\", \"@xmlns:ns2\": \"urn:ndov:cdm:trein:reisinformatie:data:4\", \"ns2:ReisInformatieProductDVS\": {\"@TimeStamp\": \"2020-05-13T08:05:50.679Z\", \"@Versie\": \"6.2\", \"ns2:RIPAdministratie\": {\"ns2:ReisInformatieProductID\": \"2005131005502200001\", \"ns2:AbonnementId\": \"54\", \"ns2:ReisInformatieTijdstip\": \"2020-05-13T07:56:00.000Z\"}, \"ns2:DynamischeVertrekStaat\": {\"ns2:RitId\": \"3927\", \"ns2:RitDatum\": \"2020-05-13\", \"ns2:RitStation\": {\"ns2:StationCode\": \"WT\", \"ns2:Type\": \"4\", \"ns2:KorteNaam\": \"Weert\", \"ns2:MiddelNaam\": \"Weert\", \"ns2:LangeNaam\": \"Weert\", \"ns2:UICCode\": \"8400684\"}, \"ns2:Trein\": {\"ns2:TreinNummer\": \"3927\", \"ns2:TreinSoort\": {\"@Code\": \"IC\", \"#text\": \"Intercity\"}, \"ns2:TreinFormule\": \"3\", \"ns2:TreinStatus\": \"2\", \"ns2:Vervoerder\": \"NS\", \"ns2:Reserveren\": \"N\", \"ns2:Toeslag\": \"N\", \"ns2:NietInstappen\": \"N\", \"ns2:AchterBlijvenAchtersteTreinDeel\": \"N\", \"ns2:RangeerBeweging\": \"N\", \"ns2:SpeciaalKaartje\": \"N\", \"ns2:TreinEindBestemming\": [{\"@InfoStatus\": \"Gepland\", \"ns2:StationCode\": \"HRL\", \"ns2:Type\": \"5\", \"ns2:KorteNaam\": \"Heerlen\", \"ns2:MiddelNaam\": \"Heerlen\", \"ns2:LangeNaam\": \"Heerlen\", \"ns2:UICCode\": \"8400307\"}, {\"@InfoStatus\": \"Actueel\", \"ns2:StationCode\": \"HRL\", \"ns2:Type\": \"5\", \"ns2:KorteNaam\": \"Heerlen\", \"ns2:MiddelNaam\": \"Heerlen\", \"ns2:LangeNaam\": \"Heerlen\", \"ns2:UICCode\": \"8400307\"}], \"ns2:PresentatieTreinEindBestemming\": {\"ns2:Uitingen\": {\"ns2:Uiting\": \"Heerlen\"}}, \"ns2:VertrekTijd\": [{\"@InfoStatus\": \"Gepland\", \"#text\": \"2020-05-13T07:56:00.000Z\"}, {\"@InfoStatus\": \"Actueel\", \"#text\": \"2020-05-13T08:05:26.000Z\"}], \"ns2:ExacteVertrekVertraging\": \"PT9M26S\", \"ns2:PresentatieVertrekVertraging\": {\"ns2:Uitingen\": {\"ns2:Uiting\": \"+9 min.\"}}, \"ns2:GedempteVertrekVertraging\": \"PT10M\", \"ns2:TreinVertrekSpoor\": [{\"@InfoStatus\": \"Gepland\", \"ns2:SpoorNummer\": \"3\", \"ns2:SpoorFase\": \"b\"}, {\"@InfoStatus\": \"Actueel\", \"ns2:SpoorNummer\": \"3\", \"ns2:SpoorFase\": \"b\"}], \"ns2:PresentatieTreinVertrekSpoor\": {\"ns2:Uitingen\": {\"ns2:Uiting\": \"3b\"}}, \"ns2:VertrekRichting\": \"B\", \"ns2:AfstandPerronEindKopVertrekTrein\": \"0\", \"ns2:VerkorteRoute\": [{\"@InfoStatus\": \"Gepland\", \"ns2:Station\": [{\"ns2:StationCode\": \"RM\", \"ns2:Type\": \"5\", \"ns2:KorteNaam\": \"Roermond\", \"ns2:MiddelNaam\": \"Roermond\", \"ns2:LangeNaam\": \"Roermond\", \"ns2:UICCode\": \"8400523\"}, {\"ns2:StationCode\": \"STD\", \"ns2:Type\": \"5\", \"ns2:KorteNaam\": \"Sittard\", \"ns2:MiddelNaam\": \"Sittard\", \"ns2:LangeNaam\": \"Sittard\", \"ns2:UICCode\": \"8400564\"}]}, {\"@InfoStatus\": \"Actueel\", \"ns2:Station\": [{\"ns2:StationCode\": \"RM\", \"ns2:Type\": \"5\", \"ns2:KorteNaam\": \"Roermond\", \"ns2:MiddelNaam\": \"Roermond\", \"ns2:LangeNaam\": \"Roermond\", \"ns2:UICCode\": \"8400523\"}, {\"ns2:StationCode\": \"STD\", \"ns2:Type\": \"5\", \"ns2:KorteNaam\": \"Sittard\", \"ns2:MiddelNaam\": \"Sittard\", \"ns2:LangeNaam\": \"Sittard\", \"ns2:UICCode\": \"8400564\"}]}], \"ns2:PresentatieVerkorteRoute\": {\"ns2:Uitingen\": {\"ns2:Uiting\": \"Roermond, Sittard\"}}, \"ns2:TreinVleugel\": {\"ns2:TreinVleugelVertrekSpoor\": [{\"@InfoStatus\": \"Gepland\", \"ns2:SpoorNummer\": \"3\", \"ns2:SpoorFase\": \"b\"}, {\"@InfoStatus\": \"Actueel\", \"ns2:SpoorNummer\": \"3\", \"ns2:SpoorFase\": \"b\"}], \"ns2:PresentatieTreinVleugelVertrekSpoor\": {\"ns2:Uitingen\": {\"ns2:Uiting\": \"3b\"}}, \"ns2:TreinVleugelEindBestemming\": [{\"@InfoStatus\": \"Gepland\", \"ns2:StationCode\": \"HRL\", \"ns2:Type\": \"5\", \"ns2:KorteNaam\": \"Heerlen\", \"ns2:MiddelNaam\": \"Heerlen\", \"ns2:LangeNaam\": \"Heerlen\", \"ns2:UICCode\": \"8400307\"}, {\"@InfoStatus\": \"Actueel\", \"ns2:StationCode\": \"HRL\", \"ns2:Type\": \"5\", \"ns2:KorteNaam\": \"Heerlen\", \"ns2:MiddelNaam\": \"Heerlen\", \"ns2:LangeNaam\": \"Heerlen\", \"ns2:UICCode\": \"8400307\"}], \"ns2:PresentatieTreinVleugelEindBestemming\": {\"ns2:Uitingen\": {\"ns2:Uiting\": \"Heerlen\"}}, \"ns2:StopStations\": [{\"@InfoStatus\": \"Gepland\", \"ns2:Station\": [{\"ns2:StationCode\": \"RM\", \"ns2:Type\": \"5\", \"ns2:KorteNaam\": \"Roermond\", \"ns2:MiddelNaam\": \"Roermond\", \"ns2:LangeNaam\": \"Roermond\", \"ns2:UICCode\": \"8400523\"}, {\"ns2:StationCode\": \"STD\", \"ns2:Type\": \"5\", \"ns2:KorteNaam\": \"Sittard\", \"ns2:MiddelNaam\": \"Sittard\", \"ns2:LangeNaam\": \"Sittard\", \"ns2:UICCode\": \"8400564\"}, {\"ns2:StationCode\": \"HRL\", \"ns2:Type\": \"5\", \"ns2:KorteNaam\": \"Heerlen\", \"ns2:MiddelNaam\": \"Heerlen\", \"ns2:LangeNaam\": \"Heerlen\", \"ns2:UICCode\": \"8400307\"}]}, {\"@InfoStatus\": \"Actueel\", \"ns2:Station\": [{\"ns2:StationCode\": \"RM\", \"ns2:Type\": \"5\", \"ns2:KorteNaam\": \"Roermond\", \"ns2:MiddelNaam\": \"Roermond\", \"ns2:LangeNaam\": \"Roermond\", \"ns2:UICCode\": \"8400523\"}, {\"ns2:StationCode\": \"STD\", \"ns2:Type\": \"5\", \"ns2:KorteNaam\": \"Sittard\", \"ns2:MiddelNaam\": \"Sittard\", \"ns2:LangeNaam\": \"Sittard\", \"ns2:UICCode\": \"8400564\"}, {\"ns2:StationCode\": \"HRL\", \"ns2:Type\": \"5\", \"ns2:KorteNaam\": \"Heerlen\", \"ns2:MiddelNaam\": \"Heerlen\", \"ns2:LangeNaam\": \"Heerlen\", \"ns2:UICCode\": \"8400307\"}]}], \"ns2:MaterieelDeelDVS\": [{\"ns2:MaterieelSoort\": \"VIRM\", \"ns2:MaterieelAanduiding\": \"4\", \"ns2:MaterieelLengte\": \"10860\", \"ns2:MaterieelDeelVertrekPositie\": \"1\", \"ns2:MaterieelDeelVolgordeVertrek\": \"1\", \"ns2:MaterieelNummer\": \"000000-09409-0\", \"ns2:MaterieelDeelEindBestemming\": [{\"@InfoStatus\": \"Gepland\", \"ns2:StationCode\": \"HRL\", \"ns2:Type\": \"5\", \"ns2:KorteNaam\": \"Heerlen\", \"ns2:MiddelNaam\": \"Heerlen\", \"ns2:LangeNaam\": \"Heerlen\", \"ns2:UICCode\": \"8400307\"}, {\"@InfoStatus\": \"Actueel\", \"ns2:StationCode\": \"HRL\", \"ns2:Type\": \"5\", \"ns2:KorteNaam\": \"Heerlen\", \"ns2:MiddelNaam\": \"Heerlen\", \"ns2:LangeNaam\": \"Heerlen\", \"ns2:UICCode\": \"8400307\"}], \"ns2:PresentatieMaterieelDeelEindBestemming\": {\"ns2:Uitingen\": {\"ns2:Uiting\": \"Heerlen\"}}}, {\"ns2:MaterieelSoort\": \"VIRM\", \"ns2:MaterieelAanduiding\": \"4\", \"ns2:MaterieelLengte\": \"10860\", \"ns2:MaterieelDeelVertrekPositie\": \"3\", \"ns2:MaterieelDeelVolgordeVertrek\": \"2\", \"ns2:MaterieelNummer\": \"000000-09584-0\", \"ns2:MaterieelDeelEindBestemming\": [{\"@InfoStatus\": \"Gepland\", \"ns2:StationCode\": \"HRL\", \"ns2:Type\": \"5\", \"ns2:KorteNaam\": \"Heerlen\", \"ns2:MiddelNaam\": \"Heerlen\", \"ns2:LangeNaam\": \"Heerlen\", \"ns2:UICCode\": \"8400307\"}, {\"@InfoStatus\": \"Actueel\", \"ns2:StationCode\": \"HRL\", \"ns2:Type\": \"5\", \"ns2:KorteNaam\": \"Heerlen\", \"ns2:MiddelNaam\": \"Heerlen\", \"ns2:LangeNaam\": \"Heerlen\", \"ns2:UICCode\": \"8400307\"}], \"ns2:PresentatieMaterieelDeelEindBestemming\": {\"ns2:Uitingen\": {\"ns2:Uiting\": \"Heerlen\"}}}]}, \"ns2:Wijziging\": {\"ns2:WijzigingType\": \"10\", \"ns2:PresentatieWijziging\": {\"ns2:Uitingen\": [{\"@Taal\": \"nl\", \"ns2:Uiting\": {\"@Prioriteit\": \"10\", \"#text\": \"Later vertrek\"}}, {\"@Taal\": \"en\", \"ns2:Uiting\": {\"@Prioriteit\": \"10\", \"#text\": \"Delayed\"}}]}}}, \"ns2:PresentatieOpmerkingen\": {\"ns2:Uitingen\": [{\"@Taal\": \"nl\", \"ns2:Uiting\": {\"@Prioriteit\": \"20\", \"@ReferentieType\": \"Wijziging\", \"@ReferentieWaarde\": \"10\", \"#text\": \"Later vertrek\"}}, {\"@Taal\": \"en\", \"ns2:Uiting\": {\"@Prioriteit\": \"20\", \"@ReferentieType\": \"Wijziging\", \"@ReferentieWaarde\": \"10\", \"#text\": \"Delayed\"}}]}}}}}')\n",
      "(None, u'{\"ns1:PutReisInformatieBoodschapIn\": {\"@xmlns:ns1\": \"urn:ndov:cdm:trein:reisinformatie:messages:5\", \"@xmlns:ns2\": \"urn:ndov:cdm:trein:reisinformatie:data:4\", \"ns2:ReisInformatieProductDVS\": {\"@TimeStamp\": \"2020-05-13T08:05:50.951Z\", \"@Versie\": \"6.2\", \"ns2:RIPAdministratie\": {\"ns2:ReisInformatieProductID\": \"2005131005502400002\", \"ns2:AbonnementId\": \"54\", \"ns2:ReisInformatieTijdstip\": \"2020-05-13T08:07:00.000Z\"}, \"ns2:DynamischeVertrekStaat\": {\"ns2:RitId\": \"4024\", \"ns2:RitDatum\": \"2020-05-13\", \"ns2:RitStation\": {\"ns2:StationCode\": \"KMA\", \"ns2:Type\": \"0\", \"ns2:KorteNaam\": \"Krommenie\", \"ns2:MiddelNaam\": \"Krommenie-Ass.\", \"ns2:LangeNaam\": \"Krommenie-Assendelft\", \"ns2:UICCode\": \"8400368\"}, \"ns2:Trein\": {\"ns2:TreinNummer\": \"4024\", \"ns2:TreinSoort\": {\"@Code\": \"SPR\", \"#text\": \"Sprinter\"}, \"ns2:TreinFormule\": \"1\", \"ns2:TreinStatus\": \"2\", \"ns2:Vervoerder\": \"NS\", \"ns2:Reserveren\": \"N\", \"ns2:Toeslag\": \"N\", \"ns2:NietInstappen\": \"N\", \"ns2:AchterBlijvenAchtersteTreinDeel\": \"N\", \"ns2:RangeerBeweging\": \"N\", \"ns2:SpeciaalKaartje\": \"N\", \"ns2:TreinEindBestemming\": [{\"@InfoStatus\": \"Gepland\", \"ns2:StationCode\": \"UTG\", \"ns2:Type\": \"1\", \"ns2:KorteNaam\": \"Uitgeest\", \"ns2:MiddelNaam\": \"Uitgeest\", \"ns2:LangeNaam\": \"Uitgeest\", \"ns2:UICCode\": \"8400615\"}, {\"@InfoStatus\": \"Actueel\", \"ns2:StationCode\": \"UTG\", \"ns2:Type\": \"1\", \"ns2:KorteNaam\": \"Uitgeest\", \"ns2:MiddelNaam\": \"Uitgeest\", \"ns2:LangeNaam\": \"Uitgeest\", \"ns2:UICCode\": \"8400615\"}], \"ns2:PresentatieTreinEindBestemming\": {\"ns2:Uitingen\": {\"ns2:Uiting\": \"Uitgeest\"}}, \"ns2:VertrekTijd\": [{\"@InfoStatus\": \"Gepland\", \"#text\": \"2020-05-13T08:07:00.000Z\"}, {\"@InfoStatus\": \"Actueel\", \"#text\": \"2020-05-13T08:07:30.000Z\"}], \"ns2:ExacteVertrekVertraging\": \"PT30S\", \"ns2:GedempteVertrekVertraging\": \"PT0S\", \"ns2:TreinVertrekSpoor\": [{\"@InfoStatus\": \"Gepland\", \"ns2:SpoorNummer\": \"1\"}, {\"@InfoStatus\": \"Actueel\", \"ns2:SpoorNummer\": \"1\"}], \"ns2:PresentatieTreinVertrekSpoor\": {\"ns2:Uitingen\": {\"ns2:Uiting\": \"1\"}}, \"ns2:VertrekRichting\": \"A\", \"ns2:AfstandPerronEindKopVertrekTrein\": \"0\", \"ns2:TreinVleugel\": {\"ns2:TreinVleugelVertrekSpoor\": [{\"@InfoStatus\": \"Gepland\", \"ns2:SpoorNummer\": \"1\"}, {\"@InfoStatus\": \"Actueel\", \"ns2:SpoorNummer\": \"1\"}], \"ns2:PresentatieTreinVleugelVertrekSpoor\": {\"ns2:Uitingen\": {\"ns2:Uiting\": \"1\"}}, \"ns2:TreinVleugelEindBestemming\": [{\"@InfoStatus\": \"Gepland\", \"ns2:StationCode\": \"UTG\", \"ns2:Type\": \"1\", \"ns2:KorteNaam\": \"Uitgeest\", \"ns2:MiddelNaam\": \"Uitgeest\", \"ns2:LangeNaam\": \"Uitgeest\", \"ns2:UICCode\": \"8400615\"}, {\"@InfoStatus\": \"Actueel\", \"ns2:StationCode\": \"UTG\", \"ns2:Type\": \"1\", \"ns2:KorteNaam\": \"Uitgeest\", \"ns2:MiddelNaam\": \"Uitgeest\", \"ns2:LangeNaam\": \"Uitgeest\", \"ns2:UICCode\": \"8400615\"}], \"ns2:PresentatieTreinVleugelEindBestemming\": {\"ns2:Uitingen\": {\"ns2:Uiting\": \"Uitgeest\"}}, \"ns2:StopStations\": [{\"@InfoStatus\": \"Gepland\", \"ns2:Station\": {\"ns2:StationCode\": \"UTG\", \"ns2:Type\": \"1\", \"ns2:KorteNaam\": \"Uitgeest\", \"ns2:MiddelNaam\": \"Uitgeest\", \"ns2:LangeNaam\": \"Uitgeest\", \"ns2:UICCode\": \"8400615\"}}, {\"@InfoStatus\": \"Actueel\", \"ns2:Station\": {\"ns2:StationCode\": \"UTG\", \"ns2:Type\": \"1\", \"ns2:KorteNaam\": \"Uitgeest\", \"ns2:MiddelNaam\": \"Uitgeest\", \"ns2:LangeNaam\": \"Uitgeest\", \"ns2:UICCode\": \"8400615\"}}], \"ns2:MaterieelDeelDVS\": [{\"ns2:MaterieelSoort\": \"SLT\", \"ns2:MaterieelAanduiding\": \"4\", \"ns2:MaterieelLengte\": \"6940\", \"ns2:MaterieelDeelVertrekPositie\": \"1\", \"ns2:MaterieelDeelVolgordeVertrek\": \"1\", \"ns2:MaterieelNummer\": \"000000-02454-0\", \"ns2:MaterieelDeelEindBestemming\": [{\"@InfoStatus\": \"Gepland\", \"ns2:StationCode\": \"UTG\", \"ns2:Type\": \"1\", \"ns2:KorteNaam\": \"Uitgeest\", \"ns2:MiddelNaam\": \"Uitgeest\", \"ns2:LangeNaam\": \"Uitgeest\", \"ns2:UICCode\": \"8400615\"}, {\"@InfoStatus\": \"Actueel\", \"ns2:StationCode\": \"UTG\", \"ns2:Type\": \"1\", \"ns2:KorteNaam\": \"Uitgeest\", \"ns2:MiddelNaam\": \"Uitgeest\", \"ns2:LangeNaam\": \"Uitgeest\", \"ns2:UICCode\": \"8400615\"}], \"ns2:PresentatieMaterieelDeelEindBestemming\": {\"ns2:Uitingen\": {\"ns2:Uiting\": \"Uitgeest\"}}}, {\"ns2:MaterieelSoort\": \"SLT\", \"ns2:MaterieelAanduiding\": \"6\", \"ns2:MaterieelLengte\": \"10050\", \"ns2:MaterieelDeelVertrekPositie\": \"3\", \"ns2:MaterieelDeelVolgordeVertrek\": \"2\", \"ns2:MaterieelNummer\": \"000000-02612-0\", \"ns2:MaterieelDeelEindBestemming\": [{\"@InfoStatus\": \"Gepland\", \"ns2:StationCode\": \"UTG\", \"ns2:Type\": \"1\", \"ns2:KorteNaam\": \"Uitgeest\", \"ns2:MiddelNaam\": \"Uitgeest\", \"ns2:LangeNaam\": \"Uitgeest\", \"ns2:UICCode\": \"8400615\"}, {\"@InfoStatus\": \"Actueel\", \"ns2:StationCode\": \"UTG\", \"ns2:Type\": \"1\", \"ns2:KorteNaam\": \"Uitgeest\", \"ns2:MiddelNaam\": \"Uitgeest\", \"ns2:LangeNaam\": \"Uitgeest\", \"ns2:UICCode\": \"8400615\"}], \"ns2:PresentatieMaterieelDeelEindBestemming\": {\"ns2:Uitingen\": {\"ns2:Uiting\": \"Uitgeest\"}}}]}, \"ns2:Wijziging\": [{\"ns2:WijzigingType\": \"10\", \"ns2:PresentatieWijziging\": {\"ns2:Uitingen\": [{\"@Taal\": \"nl\", \"ns2:Uiting\": {\"@Prioriteit\": \"10\", \"#text\": \"Later vertrek\"}}, {\"@Taal\": \"en\", \"ns2:Uiting\": {\"@Prioriteit\": \"10\", \"#text\": \"Delayed\"}}]}}, {\"ns2:WijzigingType\": \"40\"}]}, \"ns2:PresentatieOpmerkingen\": {\"ns2:Uitingen\": [{\"@Taal\": \"nl\", \"ns2:Uiting\": {\"@Prioriteit\": \"20\", \"@ReferentieType\": \"Wijziging\", \"@ReferentieWaarde\": \"10\", \"#text\": \"Later vertrek\"}}, {\"@Taal\": \"en\", \"ns2:Uiting\": {\"@Prioriteit\": \"20\", \"@ReferentieType\": \"Wijziging\", \"@ReferentieWaarde\": \"10\", \"#text\": \"Delayed\"}}]}}}}}')\n",
      "...\n",
      "\n",
      "-------------------------------------------\n",
      "Time: 2020-05-13 10:16:50\n",
      "-------------------------------------------\n",
      "\n",
      "-------------------------------------------\n",
      "Time: 2020-05-13 10:16:50\n",
      "-------------------------------------------\n",
      "\n",
      "-------------------------------------------\n",
      "Time: 2020-05-13 10:17:00\n",
      "-------------------------------------------\n",
      "\n",
      "-------------------------------------------\n",
      "Time: 2020-05-13 10:17:00\n",
      "-------------------------------------------\n",
      "\n",
      "-------------------------------------------\n",
      "Time: 2020-05-13 10:17:10\n",
      "-------------------------------------------\n",
      "\n",
      "-------------------------------------------\n",
      "Time: 2020-05-13 10:17:10\n",
      "-------------------------------------------\n",
      "\n",
      "-------------------------------------------\n",
      "Time: 2020-05-13 10:17:20\n",
      "-------------------------------------------\n",
      "\n",
      "-------------------------------------------\n",
      "Time: 2020-05-13 10:17:20\n",
      "-------------------------------------------\n",
      "\n",
      "-------------------------------------------\n",
      "Time: 2020-05-13 10:17:30\n",
      "-------------------------------------------\n",
      "\n",
      "-------------------------------------------\n",
      "Time: 2020-05-13 10:17:30\n",
      "-------------------------------------------\n",
      "\n",
      "-------------------------------------------\n",
      "Time: 2020-05-13 10:17:40\n",
      "-------------------------------------------\n",
      "\n",
      "-------------------------------------------\n",
      "Time: 2020-05-13 10:17:40\n",
      "-------------------------------------------\n",
      "\n",
      "-------------------------------------------\n",
      "Time: 2020-05-13 10:17:50\n",
      "-------------------------------------------\n",
      "\n",
      "-------------------------------------------\n",
      "Time: 2020-05-13 10:17:50\n",
      "-------------------------------------------\n",
      "\n",
      "-------------------------------------------\n",
      "Time: 2020-05-13 10:18:00\n",
      "-------------------------------------------\n",
      "\n",
      "-------------------------------------------\n",
      "Time: 2020-05-13 10:18:00\n",
      "-------------------------------------------\n",
      "\n",
      "-------------------------------------------\n",
      "Time: 2020-05-13 10:18:10\n",
      "-------------------------------------------\n",
      "\n",
      "-------------------------------------------\n",
      "Time: 2020-05-13 10:18:10\n",
      "-------------------------------------------\n",
      "\n",
      "-------------------------------------------\n",
      "Time: 2020-05-13 10:18:20\n",
      "-------------------------------------------\n",
      "\n",
      "-------------------------------------------\n",
      "Time: 2020-05-13 10:18:20\n",
      "-------------------------------------------\n",
      "\n",
      "-------------------------------------------\n",
      "Time: 2020-05-13 10:18:30\n",
      "-------------------------------------------\n",
      "\n",
      "-------------------------------------------\n",
      "Time: 2020-05-13 10:18:30\n",
      "-------------------------------------------\n",
      "\n",
      "-------------------------------------------\n",
      "Time: 2020-05-13 10:18:40\n",
      "-------------------------------------------\n",
      "\n",
      "-------------------------------------------\n",
      "Time: 2020-05-13 10:18:40\n",
      "-------------------------------------------"
     ]
    }
   ],
   "source": [
    "ssc.stop(stopSparkContext=False, stopGraceFully=True)"
   ]
  },
  {
   "cell_type": "markdown",
   "metadata": {},
   "source": [
    "You will need to adjust the batch interval (10 seconds here) in accordance with the processing times. Use the spark UI to check if batches are not accumulating."
   ]
  },
  {
   "cell_type": "markdown",
   "metadata": {},
   "source": [
    "---"
   ]
  },
  {
   "cell_type": "markdown",
   "metadata": {},
   "source": [
    "# Part III - Live stopping time (20 points / 50)"
   ]
  },
  {
   "cell_type": "markdown",
   "metadata": {},
   "source": [
    "In this part, we will have a look at the two other streams, namely `ndovloketnl-arrivals` and `ndovloketnl-departures`. Each time a train arrives at or leaves a station, a message is generated. Let's have a look at the content."
   ]
  },
  {
   "cell_type": "code",
   "execution_count": 10,
   "metadata": {
    "scrolled": true
   },
   "outputs": [
    {
     "data": {
      "application/vnd.jupyter.widget-view+json": {
       "model_id": "",
       "version_major": 2,
       "version_minor": 0
      },
      "text/plain": [
       "FloatProgress(value=0.0, bar_style='info', description='Progress:', layout=Layout(height='25px', width='50%'),…"
      ]
     },
     "metadata": {},
     "output_type": "display_data"
    },
    {
     "name": "stdout",
     "output_type": "stream",
     "text": [
      "{\n",
      "  \"ns1:PutReisInformatieBoodschapIn\": {\n",
      "    \"@xmlns:ns1\": \"urn:ndov:cdm:trein:reisinformatie:messages:dynamischeaankomststaat:1\", \n",
      "    \"@xmlns:ns2\": \"urn:ndov:cdm:trein:reisinformatie:data:4\", \n",
      "    \"ns2:ReisInformatieProductDAS\": {\n",
      "      \"ns2:RIPAdministratie\": {\n",
      "        \"ns2:ReisInformatieTijdstip\": \"2020-04-17T10:54:00.000Z\", \n",
      "        \"ns2:ReisInformatieProductID\": \"2004171254422300001\", \n",
      "        \"ns2:AbonnementId\": \"55\"\n",
      "      }, \n",
      "      \"@TimeStamp\": \"2020-04-17T10:54:42.098Z\", \n",
      "      \"@Versie\": \"6.1\", \n",
      "      \"ns2:DynamischeAankomstStaat\": {\n",
      "        \"ns2:RitId\": \"6945\", \n",
      "        \"ns2:RitStation\": {\n",
      "          \"ns2:LangeNaam\": \"Utrecht Vaartsche Rijn\", \n",
      "          \"ns2:MiddelNaam\": \"Vaartsche Rijn\", \n",
      "          \"ns2:StationCode\": \"UTVR\", \n",
      "          \"ns2:Type\": \"1\", \n",
      "          \"ns2:UICCode\": \"8400606\", \n",
      "          \"ns2:KorteNaam\": \"VaartscheR\"\n",
      "        }, \n",
      "        \"ns2:TreinAankomst\": {\n",
      "          \"ns2:TreinHerkomst\": [\n",
      "            {\n",
      "              \"ns2:LangeNaam\": \"Den Haag Centraal\", \n",
      "              \"@InfoStatus\": \"Gepland\", \n",
      "              \"ns2:MiddelNaam\": \"Den Haag C.\", \n",
      "              \"ns2:StationCode\": \"GVC\", \n",
      "              \"ns2:Type\": \"6\", \n",
      "              \"ns2:UICCode\": \"8400282\", \n",
      "              \"ns2:KorteNaam\": \"Den Haag C\"\n",
      "            }, \n",
      "            {\n",
      "              \"ns2:LangeNaam\": \"Den Haag Centraal\", \n",
      "              \"@InfoStatus\": \"Actueel\", \n",
      "              \"ns2:MiddelNaam\": \"Den Haag C.\", \n",
      "              \"ns2:StationCode\": \"GVC\", \n",
      "              \"ns2:Type\": \"6\", \n",
      "              \"ns2:UICCode\": \"8400282\", \n",
      "              \"ns2:KorteNaam\": \"Den Haag C\"\n",
      "            }\n",
      "          ], \n",
      "          \"ns2:TreinSoort\": {\n",
      "            \"@Code\": \"SPR\", \n",
      "            \"#text\": \"Sprinter\"\n",
      "          }, \n",
      "          \"ns2:WijzigingHerkomst\": {\n",
      "            \"ns2:WijzigingType\": \"40\"\n",
      "          }, \n",
      "          \"ns2:VerkorteRouteHerkomst\": [\n",
      "            {\n",
      "              \"ns2:Station\": [\n",
      "                {\n",
      "                  \"ns2:LangeNaam\": \"Zoetermeer\", \n",
      "                  \"ns2:MiddelNaam\": \"Zoetermeer\", \n",
      "                  \"ns2:StationCode\": \"ZTM\", \n",
      "                  \"ns2:Type\": \"1\", \n",
      "                  \"ns2:UICCode\": \"8400741\", \n",
      "                  \"ns2:KorteNaam\": \"Zoetermeer\"\n",
      "                }, \n",
      "                {\n",
      "                  \"ns2:LangeNaam\": \"Gouda\", \n",
      "                  \"ns2:MiddelNaam\": \"Gouda\", \n",
      "                  \"ns2:StationCode\": \"GD\", \n",
      "                  \"ns2:Type\": \"5\", \n",
      "                  \"ns2:UICCode\": \"8400258\", \n",
      "                  \"ns2:KorteNaam\": \"Gouda\"\n",
      "                }, \n",
      "                {\n",
      "                  \"ns2:LangeNaam\": \"Woerden\", \n",
      "                  \"ns2:MiddelNaam\": \"Woerden\", \n",
      "                  \"ns2:StationCode\": \"WD\", \n",
      "                  \"ns2:Type\": \"1\", \n",
      "                  \"ns2:UICCode\": \"8400702\", \n",
      "                  \"ns2:KorteNaam\": \"Woerden\"\n",
      "                }, \n",
      "                {\n",
      "                  \"ns2:LangeNaam\": \"Utrecht Centraal\", \n",
      "                  \"ns2:MiddelNaam\": \"Utrecht C.\", \n",
      "                  \"ns2:StationCode\": \"UT\", \n",
      "                  \"ns2:Type\": \"6\", \n",
      "                  \"ns2:UICCode\": \"8400621\", \n",
      "                  \"ns2:KorteNaam\": \"Utrecht C\"\n",
      "                }\n",
      "              ], \n",
      "              \"@InfoStatus\": \"Gepland\"\n",
      "            }, \n",
      "            {\n",
      "              \"ns2:Station\": [\n",
      "                {\n",
      "                  \"ns2:LangeNaam\": \"Zoetermeer\", \n",
      "                  \"ns2:MiddelNaam\": \"Zoetermeer\", \n",
      "                  \"ns2:StationCode\": \"ZTM\", \n",
      "                  \"ns2:Type\": \"1\", \n",
      "                  \"ns2:UICCode\": \"8400741\", \n",
      "                  \"ns2:KorteNaam\": \"Zoetermeer\"\n",
      "                }, \n",
      "                {\n",
      "                  \"ns2:LangeNaam\": \"Gouda\", \n",
      "                  \"ns2:MiddelNaam\": \"Gouda\", \n",
      "                  \"ns2:StationCode\": \"GD\", \n",
      "                  \"ns2:Type\": \"5\", \n",
      "                  \"ns2:UICCode\": \"8400258\", \n",
      "                  \"ns2:KorteNaam\": \"Gouda\"\n",
      "                }, \n",
      "                {\n",
      "                  \"ns2:LangeNaam\": \"Woerden\", \n",
      "                  \"ns2:MiddelNaam\": \"Woerden\", \n",
      "                  \"ns2:StationCode\": \"WD\", \n",
      "                  \"ns2:Type\": \"1\", \n",
      "                  \"ns2:UICCode\": \"8400702\", \n",
      "                  \"ns2:KorteNaam\": \"Woerden\"\n",
      "                }, \n",
      "                {\n",
      "                  \"ns2:LangeNaam\": \"Utrecht Centraal\", \n",
      "                  \"ns2:MiddelNaam\": \"Utrecht C.\", \n",
      "                  \"ns2:StationCode\": \"UT\", \n",
      "                  \"ns2:Type\": \"6\", \n",
      "                  \"ns2:UICCode\": \"8400621\", \n",
      "                  \"ns2:KorteNaam\": \"Utrecht C\"\n",
      "                }\n",
      "              ], \n",
      "              \"@InfoStatus\": \"Actueel\"\n",
      "            }\n",
      "          ], \n",
      "          \"ns2:PresentatieTreinAankomstSpoor\": {\n",
      "            \"ns2:Uitingen\": {\n",
      "              \"ns2:Uiting\": \"4\"\n",
      "            }\n",
      "          }, \n",
      "          \"ns2:TreinStatus\": \"5\", \n",
      "          \"ns2:PresentatieVerkorteRouteHerkomst\": {\n",
      "            \"ns2:Uitingen\": {\n",
      "              \"ns2:Uiting\": \"Zoetermeer, Gouda, Woerden, Utrecht C.\"\n",
      "            }\n",
      "          }, \n",
      "          \"ns2:AankomstTijd\": [\n",
      "            {\n",
      "              \"@InfoStatus\": \"Gepland\", \n",
      "              \"#text\": \"2020-04-17T10:54:00.000Z\"\n",
      "            }, \n",
      "            {\n",
      "              \"@InfoStatus\": \"Actueel\", \n",
      "              \"#text\": \"2020-04-17T10:54:00.000Z\"\n",
      "            }\n",
      "          ], \n",
      "          \"ns2:TreinNummer\": \"6945\", \n",
      "          \"ns2:TreinAankomstSpoor\": [\n",
      "            {\n",
      "              \"@InfoStatus\": \"Gepland\", \n",
      "              \"ns2:SpoorNummer\": \"4\"\n",
      "            }, \n",
      "            {\n",
      "              \"@InfoStatus\": \"Actueel\", \n",
      "              \"ns2:SpoorNummer\": \"4\"\n",
      "            }\n",
      "          ], \n",
      "          \"ns2:PresentatieTreinHerkomst\": {\n",
      "            \"ns2:Uitingen\": {\n",
      "              \"ns2:Uiting\": \"Den Haag C.\"\n",
      "            }\n",
      "          }, \n",
      "          \"ns2:GedempteAankomstVertraging\": \"PT0S\", \n",
      "          \"ns2:ExacteAankomstVertraging\": \"PT0S\", \n",
      "          \"ns2:Vervoerder\": \"NS\"\n",
      "        }, \n",
      "        \"ns2:RitDatum\": \"2020-04-17\"\n",
      "      }\n",
      "    }\n",
      "  }\n",
      "}"
     ]
    }
   ],
   "source": [
    "import json\n",
    "from pykafka.common import OffsetType\n",
    "\n",
    "example_arrivals = client.topics[b'ndovloketnl-arrivals'].get_simple_consumer(\n",
    "    auto_offset_reset=OffsetType.EARLIEST,\n",
    "    reset_offset_on_start=True\n",
    ").consume()\n",
    "print(json.dumps(json.loads(example_arrivals.value), indent=2))"
   ]
  },
  {
   "cell_type": "code",
   "execution_count": 11,
   "metadata": {
    "scrolled": true
   },
   "outputs": [
    {
     "data": {
      "application/vnd.jupyter.widget-view+json": {
       "model_id": "",
       "version_major": 2,
       "version_minor": 0
      },
      "text/plain": [
       "FloatProgress(value=0.0, bar_style='info', description='Progress:', layout=Layout(height='25px', width='50%'),…"
      ]
     },
     "metadata": {},
     "output_type": "display_data"
    },
    {
     "name": "stdout",
     "output_type": "stream",
     "text": [
      "{\n",
      "  \"ns1:PutReisInformatieBoodschapIn\": {\n",
      "    \"@xmlns:ns1\": \"urn:ndov:cdm:trein:reisinformatie:messages:5\", \n",
      "    \"ns2:ReisInformatieProductDVS\": {\n",
      "      \"ns2:RIPAdministratie\": {\n",
      "        \"ns2:ReisInformatieTijdstip\": \"2020-04-23T15:32:00.000Z\", \n",
      "        \"ns2:ReisInformatieProductID\": \"2004231730412200003\", \n",
      "        \"ns2:AbonnementId\": \"54\"\n",
      "      }, \n",
      "      \"@TimeStamp\": \"2020-04-23T15:30:41.815Z\", \n",
      "      \"@Versie\": \"6.2\", \n",
      "      \"ns2:DynamischeVertrekStaat\": {\n",
      "        \"ns2:RitId\": \"7363\", \n",
      "        \"ns2:RitStation\": {\n",
      "          \"ns2:LangeNaam\": \"Maarssen\", \n",
      "          \"ns2:MiddelNaam\": \"Maarssen\", \n",
      "          \"ns2:StationCode\": \"MAS\", \n",
      "          \"ns2:Type\": \"0\", \n",
      "          \"ns2:UICCode\": \"8400419\", \n",
      "          \"ns2:KorteNaam\": \"Maarssen\"\n",
      "        }, \n",
      "        \"ns2:RitDatum\": \"2020-04-23\", \n",
      "        \"ns2:Trein\": {\n",
      "          \"ns2:VertrekRichting\": \"B\", \n",
      "          \"ns2:VertrekTijd\": [\n",
      "            {\n",
      "              \"@InfoStatus\": \"Gepland\", \n",
      "              \"#text\": \"2020-04-23T15:32:00.000Z\"\n",
      "            }, \n",
      "            {\n",
      "              \"@InfoStatus\": \"Actueel\", \n",
      "              \"#text\": \"2020-04-23T15:32:00.000Z\"\n",
      "            }\n",
      "          ], \n",
      "          \"ns2:RangeerBeweging\": \"N\", \n",
      "          \"ns2:PresentatieTreinVertrekSpoor\": {\n",
      "            \"ns2:Uitingen\": {\n",
      "              \"ns2:Uiting\": \"3\"\n",
      "            }\n",
      "          }, \n",
      "          \"ns2:NietInstappen\": \"N\", \n",
      "          \"ns2:PresentatieVerkorteRoute\": {\n",
      "            \"ns2:Uitingen\": {\n",
      "              \"ns2:Uiting\": \"Utrecht C., Vaartsche Rijn, Driebergen-Zeist, Maarn\"\n",
      "            }\n",
      "          }, \n",
      "          \"ns2:TreinStatus\": \"2\", \n",
      "          \"ns2:TreinNummer\": \"7363\", \n",
      "          \"ns2:ExacteVertrekVertraging\": \"PT0S\", \n",
      "          \"ns2:Wijziging\": {\n",
      "            \"ns2:WijzigingType\": \"40\"\n",
      "          }, \n",
      "          \"ns2:TreinVleugel\": {\n",
      "            \"ns2:PresentatieTreinVleugelVertrekSpoor\": {\n",
      "              \"ns2:Uitingen\": {\n",
      "                \"ns2:Uiting\": \"3\"\n",
      "              }\n",
      "            }, \n",
      "            \"ns2:TreinVleugelVertrekSpoor\": [\n",
      "              {\n",
      "                \"@InfoStatus\": \"Gepland\", \n",
      "                \"ns2:SpoorNummer\": \"3\"\n",
      "              }, \n",
      "              {\n",
      "                \"@InfoStatus\": \"Actueel\", \n",
      "                \"ns2:SpoorNummer\": \"3\"\n",
      "              }\n",
      "            ], \n",
      "            \"ns2:StopStations\": [\n",
      "              {\n",
      "                \"ns2:Station\": [\n",
      "                  {\n",
      "                    \"ns2:LangeNaam\": \"Utrecht Zuilen\", \n",
      "                    \"ns2:MiddelNaam\": \"Zuilen\", \n",
      "                    \"ns2:StationCode\": \"UTZL\", \n",
      "                    \"ns2:Type\": \"0\", \n",
      "                    \"ns2:UICCode\": \"8400613\", \n",
      "                    \"ns2:KorteNaam\": \"Zuilen\"\n",
      "                  }, \n",
      "                  {\n",
      "                    \"ns2:LangeNaam\": \"Utrecht Centraal\", \n",
      "                    \"ns2:MiddelNaam\": \"Utrecht C.\", \n",
      "                    \"ns2:StationCode\": \"UT\", \n",
      "                    \"ns2:Type\": \"6\", \n",
      "                    \"ns2:UICCode\": \"8400621\", \n",
      "                    \"ns2:KorteNaam\": \"Utrecht C\"\n",
      "                  }, \n",
      "                  {\n",
      "                    \"ns2:LangeNaam\": \"Utrecht Vaartsche Rijn\", \n",
      "                    \"ns2:MiddelNaam\": \"Vaartsche Rijn\", \n",
      "                    \"ns2:StationCode\": \"UTVR\", \n",
      "                    \"ns2:Type\": \"1\", \n",
      "                    \"ns2:UICCode\": \"8400606\", \n",
      "                    \"ns2:KorteNaam\": \"VaartscheR\"\n",
      "                  }, \n",
      "                  {\n",
      "                    \"ns2:LangeNaam\": \"Bunnik\", \n",
      "                    \"ns2:MiddelNaam\": \"Bunnik\", \n",
      "                    \"ns2:StationCode\": \"BNK\", \n",
      "                    \"ns2:Type\": \"0\", \n",
      "                    \"ns2:UICCode\": \"8400141\", \n",
      "                    \"ns2:KorteNaam\": \"Bunnik\"\n",
      "                  }, \n",
      "                  {\n",
      "                    \"ns2:LangeNaam\": \"Driebergen-Zeist\", \n",
      "                    \"ns2:MiddelNaam\": \"Driebergen-Zeist\", \n",
      "                    \"ns2:StationCode\": \"DB\", \n",
      "                    \"ns2:Type\": \"1\", \n",
      "                    \"ns2:UICCode\": \"8400182\", \n",
      "                    \"ns2:KorteNaam\": \"Driebergen\"\n",
      "                  }, \n",
      "                  {\n",
      "                    \"ns2:LangeNaam\": \"Maarn\", \n",
      "                    \"ns2:MiddelNaam\": \"Maarn\", \n",
      "                    \"ns2:StationCode\": \"MRN\", \n",
      "                    \"ns2:Type\": \"1\", \n",
      "                    \"ns2:UICCode\": \"8400417\", \n",
      "                    \"ns2:KorteNaam\": \"Maarn\"\n",
      "                  }, \n",
      "                  {\n",
      "                    \"ns2:LangeNaam\": \"Veenendaal West\", \n",
      "                    \"ns2:MiddelNaam\": \"Veenendaal W.\", \n",
      "                    \"ns2:StationCode\": \"VNDW\", \n",
      "                    \"ns2:Type\": \"0\", \n",
      "                    \"ns2:UICCode\": \"8400628\", \n",
      "                    \"ns2:KorteNaam\": \"Veenendl W\"\n",
      "                  }, \n",
      "                  {\n",
      "                    \"ns2:LangeNaam\": \"Veenendaal Centrum\", \n",
      "                    \"ns2:MiddelNaam\": \"Veenendaal C.\", \n",
      "                    \"ns2:StationCode\": \"VNDC\", \n",
      "                    \"ns2:Type\": \"1\", \n",
      "                    \"ns2:UICCode\": \"8400627\", \n",
      "                    \"ns2:KorteNaam\": \"Veenendl C\"\n",
      "                  }, \n",
      "                  {\n",
      "                    \"ns2:LangeNaam\": \"Rhenen\", \n",
      "                    \"ns2:MiddelNaam\": \"Rhenen\", \n",
      "                    \"ns2:StationCode\": \"RHN\", \n",
      "                    \"ns2:Type\": \"1\", \n",
      "                    \"ns2:UICCode\": \"8400517\", \n",
      "                    \"ns2:KorteNaam\": \"Rhenen\"\n",
      "                  }\n",
      "                ], \n",
      "                \"@InfoStatus\": \"Gepland\"\n",
      "              }, \n",
      "              {\n",
      "                \"ns2:Station\": [\n",
      "                  {\n",
      "                    \"ns2:LangeNaam\": \"Utrecht Zuilen\", \n",
      "                    \"ns2:MiddelNaam\": \"Zuilen\", \n",
      "                    \"ns2:StationCode\": \"UTZL\", \n",
      "                    \"ns2:Type\": \"0\", \n",
      "                    \"ns2:UICCode\": \"8400613\", \n",
      "                    \"ns2:KorteNaam\": \"Zuilen\"\n",
      "                  }, \n",
      "                  {\n",
      "                    \"ns2:LangeNaam\": \"Utrecht Centraal\", \n",
      "                    \"ns2:MiddelNaam\": \"Utrecht C.\", \n",
      "                    \"ns2:StationCode\": \"UT\", \n",
      "                    \"ns2:Type\": \"6\", \n",
      "                    \"ns2:UICCode\": \"8400621\", \n",
      "                    \"ns2:KorteNaam\": \"Utrecht C\"\n",
      "                  }, \n",
      "                  {\n",
      "                    \"ns2:LangeNaam\": \"Utrecht Vaartsche Rijn\", \n",
      "                    \"ns2:MiddelNaam\": \"Vaartsche Rijn\", \n",
      "                    \"ns2:StationCode\": \"UTVR\", \n",
      "                    \"ns2:Type\": \"1\", \n",
      "                    \"ns2:UICCode\": \"8400606\", \n",
      "                    \"ns2:KorteNaam\": \"VaartscheR\"\n",
      "                  }, \n",
      "                  {\n",
      "                    \"ns2:LangeNaam\": \"Bunnik\", \n",
      "                    \"ns2:MiddelNaam\": \"Bunnik\", \n",
      "                    \"ns2:StationCode\": \"BNK\", \n",
      "                    \"ns2:Type\": \"0\", \n",
      "                    \"ns2:UICCode\": \"8400141\", \n",
      "                    \"ns2:KorteNaam\": \"Bunnik\"\n",
      "                  }, \n",
      "                  {\n",
      "                    \"ns2:LangeNaam\": \"Driebergen-Zeist\", \n",
      "                    \"ns2:MiddelNaam\": \"Driebergen-Zeist\", \n",
      "                    \"ns2:StationCode\": \"DB\", \n",
      "                    \"ns2:Type\": \"1\", \n",
      "                    \"ns2:UICCode\": \"8400182\", \n",
      "                    \"ns2:KorteNaam\": \"Driebergen\"\n",
      "                  }, \n",
      "                  {\n",
      "                    \"ns2:LangeNaam\": \"Maarn\", \n",
      "                    \"ns2:MiddelNaam\": \"Maarn\", \n",
      "                    \"ns2:StationCode\": \"MRN\", \n",
      "                    \"ns2:Type\": \"1\", \n",
      "                    \"ns2:UICCode\": \"8400417\", \n",
      "                    \"ns2:KorteNaam\": \"Maarn\"\n",
      "                  }, \n",
      "                  {\n",
      "                    \"ns2:LangeNaam\": \"Veenendaal West\", \n",
      "                    \"ns2:MiddelNaam\": \"Veenendaal W.\", \n",
      "                    \"ns2:StationCode\": \"VNDW\", \n",
      "                    \"ns2:Type\": \"0\", \n",
      "                    \"ns2:UICCode\": \"8400628\", \n",
      "                    \"ns2:KorteNaam\": \"Veenendl W\"\n",
      "                  }, \n",
      "                  {\n",
      "                    \"ns2:LangeNaam\": \"Veenendaal Centrum\", \n",
      "                    \"ns2:MiddelNaam\": \"Veenendaal C.\", \n",
      "                    \"ns2:StationCode\": \"VNDC\", \n",
      "                    \"ns2:Type\": \"1\", \n",
      "                    \"ns2:UICCode\": \"8400627\", \n",
      "                    \"ns2:KorteNaam\": \"Veenendl C\"\n",
      "                  }, \n",
      "                  {\n",
      "                    \"ns2:LangeNaam\": \"Rhenen\", \n",
      "                    \"ns2:MiddelNaam\": \"Rhenen\", \n",
      "                    \"ns2:StationCode\": \"RHN\", \n",
      "                    \"ns2:Type\": \"1\", \n",
      "                    \"ns2:UICCode\": \"8400517\", \n",
      "                    \"ns2:KorteNaam\": \"Rhenen\"\n",
      "                  }\n",
      "                ], \n",
      "                \"@InfoStatus\": \"Actueel\"\n",
      "              }\n",
      "            ], \n",
      "            \"ns2:TreinVleugelEindBestemming\": [\n",
      "              {\n",
      "                \"ns2:LangeNaam\": \"Rhenen\", \n",
      "                \"@InfoStatus\": \"Gepland\", \n",
      "                \"ns2:MiddelNaam\": \"Rhenen\", \n",
      "                \"ns2:StationCode\": \"RHN\", \n",
      "                \"ns2:Type\": \"1\", \n",
      "                \"ns2:UICCode\": \"8400517\", \n",
      "                \"ns2:KorteNaam\": \"Rhenen\"\n",
      "              }, \n",
      "              {\n",
      "                \"ns2:LangeNaam\": \"Rhenen\", \n",
      "                \"@InfoStatus\": \"Actueel\", \n",
      "                \"ns2:MiddelNaam\": \"Rhenen\", \n",
      "                \"ns2:StationCode\": \"RHN\", \n",
      "                \"ns2:Type\": \"1\", \n",
      "                \"ns2:UICCode\": \"8400517\", \n",
      "                \"ns2:KorteNaam\": \"Rhenen\"\n",
      "              }\n",
      "            ], \n",
      "            \"ns2:MaterieelDeelDVS\": {\n",
      "              \"ns2:MaterieelLengte\": \"10050\", \n",
      "              \"ns2:MaterieelNummer\": \"000000-02656-0\", \n",
      "              \"ns2:PresentatieMaterieelDeelEindBestemming\": {\n",
      "                \"ns2:Uitingen\": {\n",
      "                  \"ns2:Uiting\": \"Rhenen\"\n",
      "                }\n",
      "              }, \n",
      "              \"ns2:MaterieelDeelEindBestemming\": [\n",
      "                {\n",
      "                  \"ns2:LangeNaam\": \"Rhenen\", \n",
      "                  \"@InfoStatus\": \"Gepland\", \n",
      "                  \"ns2:MiddelNaam\": \"Rhenen\", \n",
      "                  \"ns2:StationCode\": \"RHN\", \n",
      "                  \"ns2:Type\": \"1\", \n",
      "                  \"ns2:UICCode\": \"8400517\", \n",
      "                  \"ns2:KorteNaam\": \"Rhenen\"\n",
      "                }, \n",
      "                {\n",
      "                  \"ns2:LangeNaam\": \"Rhenen\", \n",
      "                  \"@InfoStatus\": \"Actueel\", \n",
      "                  \"ns2:MiddelNaam\": \"Rhenen\", \n",
      "                  \"ns2:StationCode\": \"RHN\", \n",
      "                  \"ns2:Type\": \"1\", \n",
      "                  \"ns2:UICCode\": \"8400517\", \n",
      "                  \"ns2:KorteNaam\": \"Rhenen\"\n",
      "                }\n",
      "              ], \n",
      "              \"ns2:MaterieelAanduiding\": \"6\", \n",
      "              \"ns2:MaterieelSoort\": \"SLT\"\n",
      "            }, \n",
      "            \"ns2:PresentatieTreinVleugelEindBestemming\": {\n",
      "              \"ns2:Uitingen\": {\n",
      "                \"ns2:Uiting\": \"Rhenen\"\n",
      "              }\n",
      "            }\n",
      "          }, \n",
      "          \"ns2:TreinEindBestemming\": [\n",
      "            {\n",
      "              \"ns2:LangeNaam\": \"Rhenen\", \n",
      "              \"@InfoStatus\": \"Gepland\", \n",
      "              \"ns2:MiddelNaam\": \"Rhenen\", \n",
      "              \"ns2:StationCode\": \"RHN\", \n",
      "              \"ns2:Type\": \"1\", \n",
      "              \"ns2:UICCode\": \"8400517\", \n",
      "              \"ns2:KorteNaam\": \"Rhenen\"\n",
      "            }, \n",
      "            {\n",
      "              \"ns2:LangeNaam\": \"Rhenen\", \n",
      "              \"@InfoStatus\": \"Actueel\", \n",
      "              \"ns2:MiddelNaam\": \"Rhenen\", \n",
      "              \"ns2:StationCode\": \"RHN\", \n",
      "              \"ns2:Type\": \"1\", \n",
      "              \"ns2:UICCode\": \"8400517\", \n",
      "              \"ns2:KorteNaam\": \"Rhenen\"\n",
      "            }\n",
      "          ], \n",
      "          \"ns2:AchterBlijvenAchtersteTreinDeel\": \"N\", \n",
      "          \"ns2:Reserveren\": \"N\", \n",
      "          \"ns2:AfstandPerronEindKopVertrekTrein\": \"0\", \n",
      "          \"ns2:VerkorteRoute\": [\n",
      "            {\n",
      "              \"ns2:Station\": [\n",
      "                {\n",
      "                  \"ns2:LangeNaam\": \"Utrecht Centraal\", \n",
      "                  \"ns2:MiddelNaam\": \"Utrecht C.\", \n",
      "                  \"ns2:StationCode\": \"UT\", \n",
      "                  \"ns2:Type\": \"6\", \n",
      "                  \"ns2:UICCode\": \"8400621\", \n",
      "                  \"ns2:KorteNaam\": \"Utrecht C\"\n",
      "                }, \n",
      "                {\n",
      "                  \"ns2:LangeNaam\": \"Utrecht Vaartsche Rijn\", \n",
      "                  \"ns2:MiddelNaam\": \"Vaartsche Rijn\", \n",
      "                  \"ns2:StationCode\": \"UTVR\", \n",
      "                  \"ns2:Type\": \"1\", \n",
      "                  \"ns2:UICCode\": \"8400606\", \n",
      "                  \"ns2:KorteNaam\": \"VaartscheR\"\n",
      "                }, \n",
      "                {\n",
      "                  \"ns2:LangeNaam\": \"Driebergen-Zeist\", \n",
      "                  \"ns2:MiddelNaam\": \"Driebergen-Zeist\", \n",
      "                  \"ns2:StationCode\": \"DB\", \n",
      "                  \"ns2:Type\": \"1\", \n",
      "                  \"ns2:UICCode\": \"8400182\", \n",
      "                  \"ns2:KorteNaam\": \"Driebergen\"\n",
      "                }, \n",
      "                {\n",
      "                  \"ns2:LangeNaam\": \"Maarn\", \n",
      "                  \"ns2:MiddelNaam\": \"Maarn\", \n",
      "                  \"ns2:StationCode\": \"MRN\", \n",
      "                  \"ns2:Type\": \"1\", \n",
      "                  \"ns2:UICCode\": \"8400417\", \n",
      "                  \"ns2:KorteNaam\": \"Maarn\"\n",
      "                }\n",
      "              ], \n",
      "              \"@InfoStatus\": \"Gepland\"\n",
      "            }, \n",
      "            {\n",
      "              \"ns2:Station\": [\n",
      "                {\n",
      "                  \"ns2:LangeNaam\": \"Utrecht Centraal\", \n",
      "                  \"ns2:MiddelNaam\": \"Utrecht C.\", \n",
      "                  \"ns2:StationCode\": \"UT\", \n",
      "                  \"ns2:Type\": \"6\", \n",
      "                  \"ns2:UICCode\": \"8400621\", \n",
      "                  \"ns2:KorteNaam\": \"Utrecht C\"\n",
      "                }, \n",
      "                {\n",
      "                  \"ns2:LangeNaam\": \"Utrecht Vaartsche Rijn\", \n",
      "                  \"ns2:MiddelNaam\": \"Vaartsche Rijn\", \n",
      "                  \"ns2:StationCode\": \"UTVR\", \n",
      "                  \"ns2:Type\": \"1\", \n",
      "                  \"ns2:UICCode\": \"8400606\", \n",
      "                  \"ns2:KorteNaam\": \"VaartscheR\"\n",
      "                }, \n",
      "                {\n",
      "                  \"ns2:LangeNaam\": \"Driebergen-Zeist\", \n",
      "                  \"ns2:MiddelNaam\": \"Driebergen-Zeist\", \n",
      "                  \"ns2:StationCode\": \"DB\", \n",
      "                  \"ns2:Type\": \"1\", \n",
      "                  \"ns2:UICCode\": \"8400182\", \n",
      "                  \"ns2:KorteNaam\": \"Driebergen\"\n",
      "                }, \n",
      "                {\n",
      "                  \"ns2:LangeNaam\": \"Maarn\", \n",
      "                  \"ns2:MiddelNaam\": \"Maarn\", \n",
      "                  \"ns2:StationCode\": \"MRN\", \n",
      "                  \"ns2:Type\": \"1\", \n",
      "                  \"ns2:UICCode\": \"8400417\", \n",
      "                  \"ns2:KorteNaam\": \"Maarn\"\n",
      "                }\n",
      "              ], \n",
      "              \"@InfoStatus\": \"Actueel\"\n",
      "            }\n",
      "          ], \n",
      "          \"ns2:TreinVertrekSpoor\": [\n",
      "            {\n",
      "              \"@InfoStatus\": \"Gepland\", \n",
      "              \"ns2:SpoorNummer\": \"3\"\n",
      "            }, \n",
      "            {\n",
      "              \"@InfoStatus\": \"Actueel\", \n",
      "              \"ns2:SpoorNummer\": \"3\"\n",
      "            }\n",
      "          ], \n",
      "          \"ns2:Toeslag\": \"N\", \n",
      "          \"ns2:TreinSoort\": {\n",
      "            \"@Code\": \"SPR\", \n",
      "            \"#text\": \"Sprinter\"\n",
      "          }, \n",
      "          \"ns2:TreinFormule\": \"1\", \n",
      "          \"ns2:PresentatieTreinEindBestemming\": {\n",
      "            \"ns2:Uitingen\": {\n",
      "              \"ns2:Uiting\": \"Rhenen\"\n",
      "            }\n",
      "          }, \n",
      "          \"ns2:SpeciaalKaartje\": \"N\", \n",
      "          \"ns2:Vervoerder\": \"NS\", \n",
      "          \"ns2:GedempteVertrekVertraging\": \"PT0S\"\n",
      "        }\n",
      "      }\n",
      "    }, \n",
      "    \"@xmlns:ns2\": \"urn:ndov:cdm:trein:reisinformatie:data:4\"\n",
      "  }\n",
      "}"
     ]
    }
   ],
   "source": [
    "example_departures = client.topics[b'ndovloketnl-departures'].get_simple_consumer(\n",
    "    auto_offset_reset=OffsetType.EARLIEST,\n",
    "    reset_offset_on_start=True\n",
    ").consume()\n",
    "print(json.dumps(json.loads(example_departures.value), indent=2))"
   ]
  },
  {
   "cell_type": "markdown",
   "metadata": {},
   "source": [
    "We can see that the messages have the following structure:\n",
    "\n",
    "```\n",
    "{\n",
    "  'ns1:PutReisInformatieBoodschapIn': {\n",
    "    'ns2:ReisInformatieProductDVS' or 'ns2:ReisInformatieProductDAS': {\n",
    "      'ns2:DynamischeVertrekStaat' or 'ns2:DynamischeAankomstStaat': {\n",
    "          'ns2:RitStation': <station_info>,\n",
    "          'ns2:Trein' or 'ns2:TreinAankomst': {\n",
    "              'ns2:VertrekTijd' or 'ns2:AankomstTijd': [<planned_and_actual_times>],\n",
    "              'ns2:TreinNummer': <train_number>,\n",
    "              'ns2:TreinSoort': <kind_of_train>,\n",
    "              ...\n",
    "          }\n",
    "           \n",
    "      }\n",
    "    }\n",
    "  }\n",
    "}\n",
    "```\n",
    "\n",
    "We can see also that the train stations have a long name `ns2:LangeNaam`, a medium name `ns2:MiddelNaam`, a short name `ns2:KorteNaam`, a station code `ns2:StationCode` and a kind of nummerical ID `ns2:UICCode`. When giving information about times, tracks, direction,... you will find sometimes the information twice with the status `Gepland` (which means planned, according to the schedule) and `Actueel`(which means the actual measured value). "
   ]
  },
  {
   "cell_type": "markdown",
   "metadata": {},
   "source": [
    "**Question III.a. (5/20)** We want to compute the time a train stays at a station and get a real-time histogram for a given time window. To begin with, you need to write some parsing functions that will allow you to get information from the data streams. We have prepare one function `parse_train_dep` for the stream `ndovloketnl-departures`, which returns a Key-Value pair."
   ]
  },
  {
   "cell_type": "code",
   "execution_count": 12,
   "metadata": {
    "scrolled": true
   },
   "outputs": [
    {
     "data": {
      "application/vnd.jupyter.widget-view+json": {
       "model_id": "",
       "version_major": 2,
       "version_minor": 0
      },
      "text/plain": [
       "FloatProgress(value=0.0, bar_style='info', description='Progress:', layout=Layout(height='25px', width='50%'),…"
      ]
     },
     "metadata": {},
     "output_type": "display_data"
    }
   ],
   "source": [
    "import json\n",
    "\n",
    "def parse_train_dep(s):\n",
    "    obj = json.loads(s)\n",
    "    tn = obj.get('ns1:PutReisInformatieBoodschapIn', {}).get('ns2:ReisInformatieProductDVS', {}).get('ns2:DynamischeVertrekStaat', {}).get('ns2:Trein', {}).get(\"ns2:TreinNummer\")\n",
    "    st = obj.get('ns1:PutReisInformatieBoodschapIn', {}).get('ns2:ReisInformatieProductDVS', {}).get('ns2:DynamischeVertrekStaat', {}).get('ns2:RitStation', {}).get(\"ns2:UICCode\")\n",
    "    if tn and st:\n",
    "        return [(\"{}-{}\".format(tn, st), obj)]\n",
    "    else:\n",
    "        return []"
   ]
  },
  {
   "cell_type": "markdown",
   "metadata": {},
   "source": [
    "__Q (1/5)__ Please check the function `parse_train_dep` above. Explain how we construct the Key and the Value, and why we construct them in this way."
   ]
  },
  {
   "cell_type": "markdown",
   "metadata": {},
   "source": [
    "__Answer__: The key is constructed with the train number and the station number and the value is just the message with all the informations. This representation has been chossen because the key is unique per arrival and departure and we can easily know which train and which train station we are talking about. If the key can't be formed we return an emtpy list. "
   ]
  },
  {
   "cell_type": "markdown",
   "metadata": {},
   "source": [
    "__Q (2/5)__ Take `parse_train_dep` as an example and write the function `parse_train_arr` for the stream `ndovloketnl-arrivals`. Make sure they have the same output format."
   ]
  },
  {
   "cell_type": "code",
   "execution_count": 13,
   "metadata": {
    "scrolled": true
   },
   "outputs": [
    {
     "data": {
      "application/vnd.jupyter.widget-view+json": {
       "model_id": "",
       "version_major": 2,
       "version_minor": 0
      },
      "text/plain": [
       "FloatProgress(value=0.0, bar_style='info', description='Progress:', layout=Layout(height='25px', width='50%'),…"
      ]
     },
     "metadata": {},
     "output_type": "display_data"
    }
   ],
   "source": [
    "import json\n",
    "\n",
    "def parse_train_arr(s):\n",
    "    obj = json.loads(s)\n",
    "    tn = obj.get('ns1:PutReisInformatieBoodschapIn', {}).get('ns2:ReisInformatieProductDAS', {}).get('ns2:DynamischeAankomstStaat', {}).get(\"ns2:TreinAankomst\",{}).get(\"ns2:TreinNummer\")\n",
    "    st = obj.get('ns1:PutReisInformatieBoodschapIn', {}).get('ns2:ReisInformatieProductDAS', {}).get('ns2:DynamischeAankomstStaat', {}).get('ns2:RitStation', {}).get(\"ns2:UICCode\")\n",
    "    if tn and st:\n",
    "        return [(\"{}-{}\".format(tn, st), obj)]\n",
    "    else:\n",
    "        return []"
   ]
  },
  {
   "cell_type": "markdown",
   "metadata": {},
   "source": [
    "__Q (2/5)__ Another parsing function you may need is `get_actual_time`, which will allow you to extract the actual time from the fields of time information, which are `ns2:AankomstTijd` in the arrival stream and `ns2:VertrekTijd` in the departure stream. \n",
    "\n",
    "__Note:__ These two fields may be empty and they may not contain the actual time information. In both cases the function should return `None`."
   ]
  },
  {
   "cell_type": "code",
   "execution_count": 14,
   "metadata": {
    "scrolled": true
   },
   "outputs": [
    {
     "data": {
      "application/vnd.jupyter.widget-view+json": {
       "model_id": "",
       "version_major": 2,
       "version_minor": 0
      },
      "text/plain": [
       "FloatProgress(value=0.0, bar_style='info', description='Progress:', layout=Layout(height='25px', width='50%'),…"
      ]
     },
     "metadata": {},
     "output_type": "display_data"
    }
   ],
   "source": [
    "import datetime\n",
    "def get_actual_time(json_seq):\n",
    "    \n",
    "    x = json_seq['ns1:PutReisInformatieBoodschapIn']\n",
    "    x = x.get('ns2:ReisInformatieProductDAS') or x.get('ns2:ReisInformatieProductDVS')\n",
    "    x = x.get('ns2:DynamischeAankomstStaat') or x.get('ns2:DynamischeVertrekStaat')\n",
    "    x = x.get('ns2:TreinAankomst') or x.get('ns2:Trein')\n",
    "    tab = x.get('ns2:AankomstTijd') or x.get('ns2:VertrekTijd')\n",
    "    \n",
    "    if(len(tab)==0):\n",
    "        return None\n",
    "    if(type(tab)==list):\n",
    "        for i in range(0,len(tab)):\n",
    "            if(tab[i].get('@InfoStatus')==\"Actueel\"):\n",
    "                try:\n",
    "                    date = datetime.datetime.strptime(tab[i].get('#text'), '%Y-%m-%dT%H:%M:%S.%fZ')\n",
    "                except:\n",
    "                    date = datetime.datetime.strptime(tab[i].get('#text'), '%Y-%m-%dT%H:%M:%SZ')\n",
    "                return date\n",
    "    elif(tab.get('@InfoStatus')==\"Actueel\"):\n",
    "        try:\n",
    "            date = datetime.datetime.strptime(tab.get('#text'), '%Y-%m-%dT%H:%M:%S.%fZ')\n",
    "        except:\n",
    "            date = datetime.datetime.strptime(tab.get('#text'), '%Y-%m-%dT%H:%M:%SZ')\n",
    "        return date\n",
    "    else:\n",
    "        return None"
   ]
  },
  {
   "cell_type": "code",
   "execution_count": 15,
   "metadata": {},
   "outputs": [
    {
     "data": {
      "application/vnd.jupyter.widget-view+json": {
       "model_id": "",
       "version_major": 2,
       "version_minor": 0
      },
      "text/plain": [
       "FloatProgress(value=0.0, bar_style='info', description='Progress:', layout=Layout(height='25px', width='50%'),…"
      ]
     },
     "metadata": {},
     "output_type": "display_data"
    },
    {
     "name": "stdout",
     "output_type": "stream",
     "text": [
      "datetime.datetime(2020, 4, 23, 15, 32)"
     ]
    }
   ],
   "source": [
    "# Get the field of time in the departure stream\n",
    "example_dep_json = json.loads(example_departures.value)\n",
    "get_actual_time(example_dep_json)"
   ]
  },
  {
   "cell_type": "code",
   "execution_count": 16,
   "metadata": {},
   "outputs": [
    {
     "data": {
      "application/vnd.jupyter.widget-view+json": {
       "model_id": "",
       "version_major": 2,
       "version_minor": 0
      },
      "text/plain": [
       "FloatProgress(value=0.0, bar_style='info', description='Progress:', layout=Layout(height='25px', width='50%'),…"
      ]
     },
     "metadata": {},
     "output_type": "display_data"
    },
    {
     "name": "stdout",
     "output_type": "stream",
     "text": [
      "datetime.datetime(2020, 4, 17, 10, 54)"
     ]
    }
   ],
   "source": [
    "# Example results from `get_actual_time`\n",
    "example_arr_json = json.loads(example_arrivals.value)\n",
    "get_actual_time(example_arr_json)"
   ]
  },
  {
   "cell_type": "markdown",
   "metadata": {},
   "source": [
    "**Question III.b. (5/20)** Create two Spark streams from the arrivals and departures where the records are in the form (Key, Value) using `parse_train_dep` and  `parse_train_arr`. "
   ]
  },
  {
   "cell_type": "code",
   "execution_count": 27,
   "metadata": {},
   "outputs": [
    {
     "data": {
      "application/vnd.jupyter.widget-view+json": {
       "model_id": "",
       "version_major": 2,
       "version_minor": 0
      },
      "text/plain": [
       "FloatProgress(value=0.0, bar_style='info', description='Progress:', layout=Layout(height='25px', width='50%'),…"
      ]
     },
     "metadata": {},
     "output_type": "display_data"
    }
   ],
   "source": [
    "ssc = StreamingContext(sc, 20)\n",
    "ssc.checkpoint(checkpoint)\n",
    "\n",
    "## Input streams\n",
    "arrival_stream = KafkaUtils.createStream(ssc, ZOOKEEPER_QUORUM, group_id, { 'ndovloketnl-arrivals': 1})\n",
    "departure_stream = KafkaUtils.createStream(ssc, ZOOKEEPER_QUORUM, group_id, { 'ndovloketnl-departures': 1})\n",
    "\n",
    "parse_train_arr_stream = arrival_stream.flatMap(lambda x: parse_train_arr(x[1]))\n",
    "parse_train_dep_stream = departure_stream.flatMap(lambda x: parse_train_dep(x[1]))"
   ]
  },
  {
   "cell_type": "markdown",
   "metadata": {},
   "source": [
    "**Question III.c. (5/20)** \n",
    "Every 20 seconds, we want to have a list of trains that had departed from any train station after staying for 5 minutes or less at the station. Apply a window of 20s sliding interval on arrival and departure streams. Join two streams such that trains staying for 5 minutes or less (± 20 seconds error due to sliding interval) at any station are caught by the join in the RDD window of the joined stream (you can ignore late messages). \n",
    "\n",
    "__Hint:__\n",
    "- Check [here](https://spark.apache.org/docs/2.3.1/streaming-programming-guide.html#window-operations) for windowed computations in Spark Streaming.\n",
    "- Use the methods [reduceByKeyAndWindow](https://spark.apache.org/docs/2.3.1/api/python/pyspark.streaming.html?highlight=reducebykey#pyspark.streaming.DStream.reduceByKeyAndWindow) and [join](https://spark.apache.org/docs/2.3.1/api/python/pyspark.streaming.html?highlight=reducebykey#pyspark.streaming.DStream.join) on DStream objects.\n",
    "- Both windows should have `slideDuration` of 20s\n",
    "- You have to pick the sizes of windows `windowDuration` carefully. The sizes can be different: \n",
    "    - The trains staying for 5 minutes or less (± 20 seconds error due to sliding interval) must be in the joined stream.\n",
    "    - A same stay (i.e. one train at one station) is caught in the joined stream once and only once."
   ]
  },
  {
   "cell_type": "code",
   "execution_count": 28,
   "metadata": {},
   "outputs": [
    {
     "data": {
      "application/vnd.jupyter.widget-view+json": {
       "model_id": "",
       "version_major": 2,
       "version_minor": 0
      },
      "text/plain": [
       "FloatProgress(value=0.0, bar_style='info', description='Progress:', layout=Layout(height='25px', width='50%'),…"
      ]
     },
     "metadata": {},
     "output_type": "display_data"
    }
   ],
   "source": [
    "#select the key of each arrival\n",
    "parse_train_arr_stream_time = parse_train_arr_stream.map(lambda x: (x[0], get_actual_time(x[1])) )\n",
    "\n",
    "#group by key for each window\n",
    "reduced_arr_stream = parse_train_arr_stream_time.reduceByKeyAndWindow(lambda x,y: x,300,20)\n",
    "\n",
    "#select the key of each departure\n",
    "parse_train_dep_stream_time = parse_train_dep_stream.map(lambda x: (x[0], get_actual_time(x[1])) )\n",
    "\n",
    "#group by key for each window\n",
    "reduced_dep_stream = parse_train_dep_stream_time.reduceByKeyAndWindow(lambda x,y: x,20,20)\n",
    "\n",
    "joinedStream = reduced_arr_stream.join(reduced_dep_stream)\n",
    "joinedStream.pprint()\n",
    "ssc.start() \n",
    "ssc.awaitTermination(timeout=40)"
   ]
  },
  {
   "cell_type": "code",
   "execution_count": 29,
   "metadata": {},
   "outputs": [
    {
     "data": {
      "application/vnd.jupyter.widget-view+json": {
       "model_id": "",
       "version_major": 2,
       "version_minor": 0
      },
      "text/plain": [
       "FloatProgress(value=0.0, bar_style='info', description='Progress:', layout=Layout(height='25px', width='50%'),…"
      ]
     },
     "metadata": {},
     "output_type": "display_data"
    },
    {
     "name": "stdout",
     "output_type": "stream",
     "text": [
      "-------------------------------------------\n",
      "Time: 2020-05-13 10:34:40\n",
      "-------------------------------------------\n",
      "('5534-8400114', (datetime.datetime(2020, 5, 13, 9, 43), datetime.datetime(2020, 5, 13, 9, 43)))\n",
      "('6035-8400614', (datetime.datetime(2020, 5, 13, 8, 32, 11), datetime.datetime(2020, 5, 13, 8, 32, 11)))\n",
      "('4828-8400306', (datetime.datetime(2020, 5, 13, 8, 36), datetime.datetime(2020, 5, 13, 8, 36)))\n",
      "('6934-8400607', (datetime.datetime(2020, 5, 13, 9, 43), datetime.datetime(2020, 5, 13, 9, 43)))\n",
      "('4339-8400163', (datetime.datetime(2020, 5, 13, 9, 43), datetime.datetime(2020, 5, 13, 9, 43)))\n",
      "('7936-8400691', (datetime.datetime(2020, 5, 13, 8, 36), datetime.datetime(2020, 5, 13, 8, 36)))\n",
      "('6637-8400227', (datetime.datetime(2020, 5, 13, 8, 31), datetime.datetime(2020, 5, 13, 8, 31)))\n",
      "('5634-8400690', (datetime.datetime(2020, 5, 13, 8, 30, 16), datetime.datetime(2020, 5, 13, 8, 30, 16)))\n",
      "('7034-8400229', (datetime.datetime(2020, 5, 13, 8, 36), datetime.datetime(2020, 5, 13, 8, 36)))\n",
      "('9042-8400266', (datetime.datetime(2020, 5, 13, 9, 44), datetime.datetime(2020, 5, 13, 9, 44)))\n",
      "...\n",
      "\n",
      "-------------------------------------------\n",
      "Time: 2020-05-13 10:35:00\n",
      "-------------------------------------------\n",
      "('3639-8400486', (datetime.datetime(2020, 5, 13, 8, 36), datetime.datetime(2020, 5, 13, 8, 36)))\n",
      "('6035-8400607', (datetime.datetime(2020, 5, 13, 8, 34, 57), datetime.datetime(2020, 5, 13, 8, 34, 57)))\n",
      "('3330-8400460', (datetime.datetime(2020, 5, 13, 8, 34), datetime.datetime(2020, 5, 13, 8, 34)))\n",
      "('7633-8400451', (datetime.datetime(2020, 5, 13, 8, 34), datetime.datetime(2020, 5, 13, 8, 34)))\n",
      "('5935-8400382', (datetime.datetime(2020, 5, 13, 8, 33), datetime.datetime(2020, 5, 13, 8, 34)))\n",
      "('4026-8400368', (datetime.datetime(2020, 5, 13, 8, 37), datetime.datetime(2020, 5, 13, 8, 37)))\n",
      "('4039-8400731', (datetime.datetime(2020, 5, 13, 8, 36, 15), datetime.datetime(2020, 5, 13, 8, 36, 15)))\n",
      "('5028-8400170', (datetime.datetime(2020, 5, 13, 8, 35, 15), datetime.datetime(2020, 5, 13, 8, 35, 15)))\n",
      "('3632-8400495', (datetime.datetime(2020, 5, 13, 8, 37, 32), datetime.datetime(2020, 5, 13, 8, 37, 32)))\n",
      "('3530-8400061', (datetime.datetime(2020, 5, 13, 8, 33, 29), datetime.datetime(2020, 5, 13, 8, 34, 29)))\n",
      "...\n",
      "\n",
      "-------------------------------------------\n",
      "Time: 2020-05-13 10:35:20\n",
      "-------------------------------------------\n",
      "\n",
      "-------------------------------------------\n",
      "Time: 2020-05-13 10:35:40\n",
      "-------------------------------------------\n",
      "\n",
      "-------------------------------------------\n",
      "Time: 2020-05-13 10:36:00\n",
      "-------------------------------------------\n",
      "\n",
      "-------------------------------------------\n",
      "Time: 2020-05-13 10:36:20\n",
      "-------------------------------------------\n",
      "\n",
      "-------------------------------------------\n",
      "Time: 2020-05-13 10:36:40\n",
      "-------------------------------------------\n",
      "\n",
      "-------------------------------------------\n",
      "Time: 2020-05-13 10:37:00\n",
      "-------------------------------------------\n",
      "\n",
      "-------------------------------------------\n",
      "Time: 2020-05-13 10:37:20\n",
      "-------------------------------------------\n",
      "\n",
      "-------------------------------------------\n",
      "Time: 2020-05-13 10:37:40\n",
      "-------------------------------------------\n",
      "\n",
      "-------------------------------------------\n",
      "Time: 2020-05-13 10:38:00\n",
      "-------------------------------------------\n",
      "\n",
      "-------------------------------------------\n",
      "Time: 2020-05-13 10:38:20\n",
      "-------------------------------------------\n",
      "\n",
      "-------------------------------------------\n",
      "Time: 2020-05-13 10:38:40\n",
      "-------------------------------------------\n",
      "\n",
      "-------------------------------------------\n",
      "Time: 2020-05-13 10:39:00\n",
      "-------------------------------------------"
     ]
    }
   ],
   "source": [
    "ssc.stop(stopSparkContext=False, stopGraceFully=True)"
   ]
  },
  {
   "cell_type": "markdown",
   "metadata": {},
   "source": [
    "**Question III.d. (5/20)** On the joined stream, compute the length of each stay (you can round to the minute) and produce a stream of histograms. You don't need to plot them, a value/count array is enough, like:\n",
    "```\n",
    "-------------------------------------------\n",
    "Time: 2018-05-17 11:10:00\n",
    "-------------------------------------------\n",
    "(0.0, 110)\n",
    "(8.0, 2)\n",
    "(4.0, 3)\n",
    "\n",
    "-------------------------------------------\n",
    "Time: 2018-05-17 11:10:20\n",
    "-------------------------------------------\n",
    "(0.0, 46)\n",
    "(4.0, 2)\n",
    "(1.0, 5)\n",
    "```"
   ]
  },
  {
   "cell_type": "code",
   "execution_count": 40,
   "metadata": {},
   "outputs": [
    {
     "data": {
      "application/vnd.jupyter.widget-view+json": {
       "model_id": "",
       "version_major": 2,
       "version_minor": 0
      },
      "text/plain": [
       "FloatProgress(value=0.0, bar_style='info', description='Progress:', layout=Layout(height='25px', width='50%'),…"
      ]
     },
     "metadata": {},
     "output_type": "display_data"
    }
   ],
   "source": [
    "ssc = StreamingContext(sc, 20)\n",
    "ssc.checkpoint(checkpoint)\n",
    "\n",
    "## Input streams\n",
    "arrival_stream = KafkaUtils.createStream(ssc, ZOOKEEPER_QUORUM, group_id, { 'ndovloketnl-arrivals': 1})\n",
    "departure_stream = KafkaUtils.createStream(ssc, ZOOKEEPER_QUORUM, group_id, { 'ndovloketnl-departures': 1})\n",
    "\n",
    "parse_train_arr_stream = arrival_stream.flatMap(lambda x: parse_train_arr(x[1]))\n",
    "parse_train_dep_stream = departure_stream.flatMap(lambda x: parse_train_dep(x[1]))\n",
    "\n",
    "#select the key of each arrival\n",
    "parse_train_arr_stream_time = parse_train_arr_stream.map(lambda x: (x[0], get_actual_time(x[1])) )\n",
    "\n",
    "#group by key for each window\n",
    "reduced_arr_stream = parse_train_arr_stream_time.reduceByKeyAndWindow(lambda x,y: x,300,20)\n",
    "\n",
    "#select the key of each departure\n",
    "parse_train_dep_stream_time = parse_train_dep_stream.map(lambda x: (x[0], get_actual_time(x[1])) )\n",
    "\n",
    "#group by key for each window\n",
    "reduced_dep_stream = parse_train_dep_stream_time.reduceByKeyAndWindow(lambda x,y: x,20,20)\n",
    "\n",
    "joinedStream = reduced_arr_stream.join(reduced_dep_stream)\n",
    "\n",
    "delay_minutes = joinedStream.mapValues(lambda x: (x[1]-x[0]).seconds//60 )\n",
    "histograms_stream = delay_minutes.map(lambda x: x[1]).countByValue()\n",
    "histograms_stream.pprint()\n",
    "                                           \n",
    "ssc.start() \n",
    "ssc.awaitTermination(timeout=40)"
   ]
  },
  {
   "cell_type": "code",
   "execution_count": 41,
   "metadata": {
    "scrolled": true
   },
   "outputs": [
    {
     "data": {
      "application/vnd.jupyter.widget-view+json": {
       "model_id": "",
       "version_major": 2,
       "version_minor": 0
      },
      "text/plain": [
       "FloatProgress(value=0.0, bar_style='info', description='Progress:', layout=Layout(height='25px', width='50%'),…"
      ]
     },
     "metadata": {},
     "output_type": "display_data"
    },
    {
     "name": "stdout",
     "output_type": "stream",
     "text": [
      "-------------------------------------------\n",
      "Time: 2020-05-13 11:03:00\n",
      "-------------------------------------------\n",
      "(0, 335)\n",
      "(2, 38)\n",
      "(4, 6)\n",
      "(10, 1)\n",
      "(6, 3)\n",
      "(1, 63)\n",
      "(3, 9)\n",
      "(5, 9)\n",
      "(7, 4)\n",
      "(9, 2)\n",
      "...\n",
      "\n",
      "-------------------------------------------\n",
      "Time: 2020-05-13 11:03:20\n",
      "-------------------------------------------\n",
      "(0, 31)\n",
      "(1, 3)\n",
      "\n",
      "-------------------------------------------\n",
      "Time: 2020-05-13 11:03:40\n",
      "-------------------------------------------\n",
      "\n",
      "-------------------------------------------\n",
      "Time: 2020-05-13 11:04:00\n",
      "-------------------------------------------\n",
      "\n",
      "-------------------------------------------\n",
      "Time: 2020-05-13 11:04:20\n",
      "-------------------------------------------\n",
      "\n",
      "-------------------------------------------\n",
      "Time: 2020-05-13 11:04:40\n",
      "-------------------------------------------\n",
      "\n",
      "-------------------------------------------\n",
      "Time: 2020-05-13 11:05:00\n",
      "-------------------------------------------\n",
      "\n",
      "-------------------------------------------\n",
      "Time: 2020-05-13 11:05:20\n",
      "-------------------------------------------\n",
      "\n",
      "-------------------------------------------\n",
      "Time: 2020-05-13 11:05:40\n",
      "-------------------------------------------\n",
      "\n",
      "-------------------------------------------\n",
      "Time: 2020-05-13 11:06:00\n",
      "-------------------------------------------\n",
      "\n",
      "-------------------------------------------\n",
      "Time: 2020-05-13 11:06:20\n",
      "-------------------------------------------\n",
      "\n",
      "-------------------------------------------\n",
      "Time: 2020-05-13 11:06:40\n",
      "-------------------------------------------\n",
      "\n",
      "-------------------------------------------\n",
      "Time: 2020-05-13 11:07:00\n",
      "-------------------------------------------\n",
      "\n",
      "-------------------------------------------\n",
      "Time: 2020-05-13 11:07:20\n",
      "-------------------------------------------"
     ]
    }
   ],
   "source": [
    "ssc.stop(stopSparkContext=False, stopGraceFully=True)"
   ]
  }
 ],
 "metadata": {
  "kernelspec": {
   "display_name": "PySpark",
   "language": "",
   "name": "pysparkkernel"
  },
  "language_info": {
   "codemirror_mode": {
    "name": "python",
    "version": 3
   },
   "mimetype": "text/x-python",
   "name": "pyspark",
   "pygments_lexer": "python3"
  }
 },
 "nbformat": 4,
 "nbformat_minor": 4
}
